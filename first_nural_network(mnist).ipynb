{
  "nbformat": 4,
  "nbformat_minor": 0,
  "metadata": {
    "colab": {
      "name": "first nural network(mnist).ipynb",
      "provenance": [],
      "collapsed_sections": [],
      "authorship_tag": "ABX9TyMHzTFE+QK+4LPf/nV9ePw4",
      "include_colab_link": true
    },
    "kernelspec": {
      "name": "python3",
      "display_name": "Python 3"
    }
  },
  "cells": [
    {
      "cell_type": "markdown",
      "metadata": {
        "id": "view-in-github",
        "colab_type": "text"
      },
      "source": [
        "<a href=\"https://colab.research.google.com/github/immy78/Deep_Learning/blob/master/first_nural_network(mnist).ipynb\" target=\"_parent\"><img src=\"https://colab.research.google.com/assets/colab-badge.svg\" alt=\"Open In Colab\"/></a>"
      ]
    },
    {
      "cell_type": "code",
      "metadata": {
        "id": "wwm9liUEhjRN",
        "colab_type": "code",
        "colab": {}
      },
      "source": [
        "import tensorflow as tf\n",
        "from tensorflow import keras"
      ],
      "execution_count": null,
      "outputs": []
    },
    {
      "cell_type": "code",
      "metadata": {
        "id": "6H9BqGOGhtB4",
        "colab_type": "code",
        "colab": {
          "base_uri": "https://localhost:8080/",
          "height": 35
        },
        "outputId": "45df6708-2b7b-4371-c08f-8e61befff64c"
      },
      "source": [
        "tf.__version__"
      ],
      "execution_count": null,
      "outputs": [
        {
          "output_type": "execute_result",
          "data": {
            "application/vnd.google.colaboratory.intrinsic+json": {
              "type": "string"
            },
            "text/plain": [
              "'2.3.0'"
            ]
          },
          "metadata": {
            "tags": []
          },
          "execution_count": 2
        }
      ]
    },
    {
      "cell_type": "code",
      "metadata": {
        "id": "2CWGMwZUiTM5",
        "colab_type": "code",
        "colab": {}
      },
      "source": [
        "import numpy as np\n",
        "import pandas as pd\n",
        "import matplotlib.pyplot as plt\n"
      ],
      "execution_count": null,
      "outputs": []
    },
    {
      "cell_type": "code",
      "metadata": {
        "id": "mHLH7p1nishK",
        "colab_type": "code",
        "colab": {}
      },
      "source": [
        "mnist = keras.datasets.fashion_mnist"
      ],
      "execution_count": null,
      "outputs": []
    },
    {
      "cell_type": "code",
      "metadata": {
        "id": "hylL7NzXju3-",
        "colab_type": "code",
        "colab": {
          "base_uri": "https://localhost:8080/",
          "height": 34
        },
        "outputId": "84ca3a95-d553-4e7b-f676-534535911df0"
      },
      "source": [
        "type(mnist)"
      ],
      "execution_count": null,
      "outputs": [
        {
          "output_type": "execute_result",
          "data": {
            "text/plain": [
              "module"
            ]
          },
          "metadata": {
            "tags": []
          },
          "execution_count": 5
        }
      ]
    },
    {
      "cell_type": "code",
      "metadata": {
        "id": "20rRyHR5j07j",
        "colab_type": "code",
        "colab": {
          "base_uri": "https://localhost:8080/",
          "height": 153
        },
        "outputId": "8e343060-ee00-4193-bcff-5b04c7f67feb"
      },
      "source": [
        "(x_train,y_train) ,(x_test,y_test) = mnist.load_data()"
      ],
      "execution_count": null,
      "outputs": [
        {
          "output_type": "stream",
          "text": [
            "Downloading data from https://storage.googleapis.com/tensorflow/tf-keras-datasets/train-labels-idx1-ubyte.gz\n",
            "32768/29515 [=================================] - 0s 0us/step\n",
            "Downloading data from https://storage.googleapis.com/tensorflow/tf-keras-datasets/train-images-idx3-ubyte.gz\n",
            "26427392/26421880 [==============================] - 1s 0us/step\n",
            "Downloading data from https://storage.googleapis.com/tensorflow/tf-keras-datasets/t10k-labels-idx1-ubyte.gz\n",
            "8192/5148 [===============================================] - 0s 0us/step\n",
            "Downloading data from https://storage.googleapis.com/tensorflow/tf-keras-datasets/t10k-images-idx3-ubyte.gz\n",
            "4423680/4422102 [==============================] - 0s 0us/step\n"
          ],
          "name": "stdout"
        }
      ]
    },
    {
      "cell_type": "code",
      "metadata": {
        "id": "ktLpLAAdkvY6",
        "colab_type": "code",
        "colab": {
          "base_uri": "https://localhost:8080/",
          "height": 34
        },
        "outputId": "7e8e2da6-fb56-4bed-e459-12c64b2650a9"
      },
      "source": [
        "x_train.shape , y_train.shape"
      ],
      "execution_count": null,
      "outputs": [
        {
          "output_type": "execute_result",
          "data": {
            "text/plain": [
              "((60000, 28, 28), (60000,))"
            ]
          },
          "metadata": {
            "tags": []
          },
          "execution_count": 7
        }
      ]
    },
    {
      "cell_type": "code",
      "metadata": {
        "id": "3sUjcXXEk6CA",
        "colab_type": "code",
        "colab": {
          "base_uri": "https://localhost:8080/",
          "height": 34
        },
        "outputId": "73bee07a-023c-404d-c1e1-f7ac1b5c3daf"
      },
      "source": [
        "x_test.shape,y_test.shape"
      ],
      "execution_count": null,
      "outputs": [
        {
          "output_type": "execute_result",
          "data": {
            "text/plain": [
              "((10000, 28, 28), (10000,))"
            ]
          },
          "metadata": {
            "tags": []
          },
          "execution_count": 8
        }
      ]
    },
    {
      "cell_type": "code",
      "metadata": {
        "id": "CrQmpH95lCRi",
        "colab_type": "code",
        "colab": {
          "base_uri": "https://localhost:8080/",
          "height": 34
        },
        "outputId": "8415d415-5cb1-4617-e759-4c99b2132799"
      },
      "source": [
        "mnist"
      ],
      "execution_count": null,
      "outputs": [
        {
          "output_type": "execute_result",
          "data": {
            "text/plain": [
              "<module 'tensorflow.keras.datasets.fashion_mnist' from '/usr/local/lib/python3.6/dist-packages/tensorflow/keras/datasets/fashion_mnist/__init__.py'>"
            ]
          },
          "metadata": {
            "tags": []
          },
          "execution_count": 9
        }
      ]
    },
    {
      "cell_type": "code",
      "metadata": {
        "id": "lGeeeOXFyW8q",
        "colab_type": "code",
        "colab": {
          "base_uri": "https://localhost:8080/",
          "height": 34
        },
        "outputId": "302d2ecb-ac0e-45b8-a555-a30fc7069185"
      },
      "source": [
        "y_train"
      ],
      "execution_count": null,
      "outputs": [
        {
          "output_type": "execute_result",
          "data": {
            "text/plain": [
              "array([9, 0, 0, ..., 3, 0, 5], dtype=uint8)"
            ]
          },
          "metadata": {
            "tags": []
          },
          "execution_count": 10
        }
      ]
    },
    {
      "cell_type": "code",
      "metadata": {
        "id": "sakEGqgoyhoR",
        "colab_type": "code",
        "colab": {}
      },
      "source": [
        "class_n = ['top','trouser','pullover','dress','coat','sandal','shirt','sneaker','bag','ankle boot']"
      ],
      "execution_count": null,
      "outputs": []
    },
    {
      "cell_type": "code",
      "metadata": {
        "id": "1YmMd0GN1_Gs",
        "colab_type": "code",
        "colab": {}
      },
      "source": [
        "x_train = x_train/255          # For normalization(Nural network understand value between 0 & 1)"
      ],
      "execution_count": null,
      "outputs": []
    },
    {
      "cell_type": "code",
      "metadata": {
        "id": "AmJsq4E92aMM",
        "colab_type": "code",
        "colab": {}
      },
      "source": [
        "x_test = x_test/255"
      ],
      "execution_count": null,
      "outputs": []
    },
    {
      "cell_type": "code",
      "metadata": {
        "id": "094i9qTO2foL",
        "colab_type": "code",
        "colab": {
          "base_uri": "https://localhost:8080/",
          "height": 286
        },
        "outputId": "732a67b4-16ca-4a06-e2a0-eb950fcd5512"
      },
      "source": [
        "plt.imshow(x_train[0])\n",
        "plt.colorbar()"
      ],
      "execution_count": null,
      "outputs": [
        {
          "output_type": "execute_result",
          "data": {
            "text/plain": [
              "<matplotlib.colorbar.Colorbar at 0x7f20063d8748>"
            ]
          },
          "metadata": {
            "tags": []
          },
          "execution_count": 14
        },
        {
          "output_type": "display_data",
          "data": {
            "image/png": "[encoded data removed]",
            "text/plain": [
              "<Figure size 432x288 with 2 Axes>"
            ]
          },
          "metadata": {
            "tags": [],
            "needs_background": "light"
          }
        }
      ]
    },
    {
      "cell_type": "code",
      "metadata": {
        "id": "tR9EyEin3hup",
        "colab_type": "code",
        "colab": {}
      },
      "source": [
        "# Building the model with tensorflow 2.0"
      ],
      "execution_count": null,
      "outputs": []
    },
    {
      "cell_type": "code",
      "metadata": {
        "id": "1sRfdrN44oy2",
        "colab_type": "code",
        "colab": {}
      },
      "source": [
        "from tensorflow.keras import Sequential\n",
        "from tensorflow.keras.layers import Flatten,Dense"
      ],
      "execution_count": null,
      "outputs": []
    },
    {
      "cell_type": "code",
      "metadata": {
        "id": "yqPUKepp5E5g",
        "colab_type": "code",
        "colab": {}
      },
      "source": [
        "model = Sequential()\n",
        "model.add(Flatten(input_shape=(28,28)))   # this layer transform 28x28 data into one dimension so that it can be fed to next layer\n",
        "model.add(Dense(128,activation='relu'))\n",
        "model.add(Dense(10,activation='softmax'))\n",
        "\n"
      ],
      "execution_count": null,
      "outputs": []
    },
    {
      "cell_type": "code",
      "metadata": {
        "id": "IcRLDIdsiXcL",
        "colab_type": "code",
        "colab": {
          "base_uri": "https://localhost:8080/",
          "height": 255
        },
        "outputId": "8a951f68-3518-4ca7-cc70-31084c58ef6c"
      },
      "source": [
        "model.summary()"
      ],
      "execution_count": null,
      "outputs": [
        {
          "output_type": "stream",
          "text": [
            "Model: \"sequential_2\"\n",
            "_________________________________________________________________\n",
            "Layer (type)                 Output Shape              Param #   \n",
            "=================================================================\n",
            "flatten_2 (Flatten)          (None, 784)               0         \n",
            "_________________________________________________________________\n",
            "dense_4 (Dense)              (None, 128)               100480    \n",
            "_________________________________________________________________\n",
            "dense_5 (Dense)              (None, 10)                1290      \n",
            "=================================================================\n",
            "Total params: 101,770\n",
            "Trainable params: 101,770\n",
            "Non-trainable params: 0\n",
            "_________________________________________________________________\n"
          ],
          "name": "stdout"
        }
      ]
    },
    {
      "cell_type": "code",
      "metadata": {
        "id": "sPn2piidixQX",
        "colab_type": "code",
        "colab": {}
      },
      "source": [
        "# Model compilation\n",
        "model.compile(optimizer='adam',loss='sparse_categorical_crossentropy',metrics=['accuracy'])"
      ],
      "execution_count": null,
      "outputs": []
    },
    {
      "cell_type": "code",
      "metadata": {
        "id": "pzPkfUhulcyh",
        "colab_type": "code",
        "colab": {
          "base_uri": "https://localhost:8080/",
          "height": 357
        },
        "outputId": "c84a208b-9d0c-4401-f814-35e8c88341db"
      },
      "source": [
        "history = model.fit(x_train,y_train,epochs=10,batch_size=10,validation_split=0.2)"
      ],
      "execution_count": null,
      "outputs": [
        {
          "output_type": "stream",
          "text": [
            "Epoch 1/10\n",
            "4800/4800 [==============================] - 10s 2ms/step - loss: 0.4976 - accuracy: 0.8215 - val_loss: 0.4580 - val_accuracy: 0.8298\n",
            "Epoch 2/10\n",
            "4800/4800 [==============================] - 10s 2ms/step - loss: 0.3760 - accuracy: 0.8620 - val_loss: 0.3684 - val_accuracy: 0.8699\n",
            "Epoch 3/10\n",
            "4800/4800 [==============================] - 9s 2ms/step - loss: 0.3374 - accuracy: 0.8757 - val_loss: 0.3822 - val_accuracy: 0.8664\n",
            "Epoch 4/10\n",
            "4800/4800 [==============================] - 9s 2ms/step - loss: 0.3147 - accuracy: 0.8836 - val_loss: 0.3393 - val_accuracy: 0.8771\n",
            "Epoch 5/10\n",
            "4800/4800 [==============================] - 9s 2ms/step - loss: 0.2957 - accuracy: 0.8903 - val_loss: 0.3494 - val_accuracy: 0.8802\n",
            "Epoch 6/10\n",
            "4800/4800 [==============================] - 9s 2ms/step - loss: 0.2839 - accuracy: 0.8953 - val_loss: 0.3666 - val_accuracy: 0.8673\n",
            "Epoch 7/10\n",
            "4800/4800 [==============================] - 9s 2ms/step - loss: 0.2722 - accuracy: 0.8979 - val_loss: 0.3476 - val_accuracy: 0.8745\n",
            "Epoch 8/10\n",
            "4800/4800 [==============================] - 9s 2ms/step - loss: 0.2612 - accuracy: 0.9014 - val_loss: 0.3468 - val_accuracy: 0.8791\n",
            "Epoch 9/10\n",
            "4800/4800 [==============================] - 9s 2ms/step - loss: 0.2505 - accuracy: 0.9067 - val_loss: 0.3291 - val_accuracy: 0.8852\n",
            "Epoch 10/10\n",
            "4800/4800 [==============================] - 9s 2ms/step - loss: 0.2425 - accuracy: 0.9094 - val_loss: 0.3421 - val_accuracy: 0.8838\n"
          ],
          "name": "stdout"
        }
      ]
    },
    {
      "cell_type": "code",
      "metadata": {
        "id": "fgRpO-wAltiZ",
        "colab_type": "code",
        "colab": {
          "base_uri": "https://localhost:8080/",
          "height": 51
        },
        "outputId": "2aeb1ef9-1436-44dd-badb-218da77efbfe"
      },
      "source": [
        "test_loss , test_acc = model.evaluate(x_test,y_test)\n",
        "print(test_acc)"
      ],
      "execution_count": null,
      "outputs": [
        {
          "output_type": "stream",
          "text": [
            "313/313 [==============================] - 0s 1ms/step - loss: 0.3388 - accuracy: 0.8776\n",
            "0.8776000142097473\n"
          ],
          "name": "stdout"
        }
      ]
    },
    {
      "cell_type": "code",
      "metadata": {
        "id": "iVRZNTLwnKtm",
        "colab_type": "code",
        "colab": {}
      },
      "source": [
        "from sklearn.metrics import accuracy_score"
      ],
      "execution_count": null,
      "outputs": []
    },
    {
      "cell_type": "code",
      "metadata": {
        "id": "ufqhqpYLoNgX",
        "colab_type": "code",
        "colab": {
          "base_uri": "https://localhost:8080/",
          "height": 88
        },
        "outputId": "1239b406-1d59-4aea-f5c9-946c32c82310"
      },
      "source": [
        "y_pred = model.predict_classes(x_test)"
      ],
      "execution_count": null,
      "outputs": [
        {
          "output_type": "stream",
          "text": [
            "WARNING:tensorflow:From <ipython-input-23-bae1a118294d>:1: Sequential.predict_classes (from tensorflow.python.keras.engine.sequential) is deprecated and will be removed after 2021-01-01.\n",
            "Instructions for updating:\n",
            "Please use instead:* `np.argmax(model.predict(x), axis=-1)`,   if your model does multi-class classification   (e.g. if it uses a `softmax` last-layer activation).* `(model.predict(x) > 0.5).astype(\"int32\")`,   if your model does binary classification   (e.g. if it uses a `sigmoid` last-layer activation).\n"
          ],
          "name": "stdout"
        }
      ]
    },
    {
      "cell_type": "code",
      "metadata": {
        "id": "5tyxHBlboXiU",
        "colab_type": "code",
        "colab": {
          "base_uri": "https://localhost:8080/",
          "height": 34
        },
        "outputId": "7a5bc956-2186-4fe0-fea2-7fe193d4eb52"
      },
      "source": [
        "accuracy_score(y_test,y_pred)"
      ],
      "execution_count": null,
      "outputs": [
        {
          "output_type": "execute_result",
          "data": {
            "text/plain": [
              "0.8776"
            ]
          },
          "metadata": {
            "tags": []
          },
          "execution_count": 24
        }
      ]
    },
    {
      "cell_type": "code",
      "metadata": {
        "id": "Ans2tIyAol0H",
        "colab_type": "code",
        "colab": {
          "base_uri": "https://localhost:8080/",
          "height": 34
        },
        "outputId": "01a92b07-96e7-454b-b71b-947a38d61617"
      },
      "source": [
        "y_pred"
      ],
      "execution_count": null,
      "outputs": [
        {
          "output_type": "execute_result",
          "data": {
            "text/plain": [
              "array([9, 2, 1, ..., 8, 1, 5])"
            ]
          },
          "metadata": {
            "tags": []
          },
          "execution_count": 25
        }
      ]
    },
    {
      "cell_type": "code",
      "metadata": {
        "id": "AsGx8nljpLnE",
        "colab_type": "code",
        "colab": {
          "base_uri": "https://localhost:8080/",
          "height": 238
        },
        "outputId": "302c69ea-8718-4617-979a-c141d28d34a1"
      },
      "source": [
        "pred = model.predict(x_test)\n",
        "pred"
      ],
      "execution_count": null,
      "outputs": [
        {
          "output_type": "execute_result",
          "data": {
            "text/plain": [
              "array([[2.82848390e-07, 1.01827176e-07, 1.21725909e-08, ...,\n",
              "        1.56140449e-02, 8.52668165e-07, 9.84359443e-01],\n",
              "       [7.46009846e-06, 6.77725418e-15, 9.98629212e-01, ...,\n",
              "        3.03351026e-14, 1.63001190e-09, 5.62287237e-15],\n",
              "       [1.10704246e-08, 1.00000000e+00, 1.01579975e-12, ...,\n",
              "        3.72860851e-25, 6.38948703e-12, 7.51944452e-19],\n",
              "       ...,\n",
              "       [1.83079010e-05, 7.72060749e-10, 3.03415572e-06, ...,\n",
              "        1.07826974e-08, 9.99958515e-01, 7.12943662e-11],\n",
              "       [6.26448795e-08, 9.99989510e-01, 7.48843121e-09, ...,\n",
              "        1.40780416e-14, 5.82700643e-08, 8.99318953e-11],\n",
              "       [6.01203756e-05, 2.75990395e-08, 9.69850589e-06, ...,\n",
              "        5.36442269e-03, 1.78743911e-04, 6.84188271e-05]], dtype=float32)"
            ]
          },
          "metadata": {
            "tags": []
          },
          "execution_count": 26
        }
      ]
    },
    {
      "cell_type": "code",
      "metadata": {
        "id": "Ge2oyY-Npo-W",
        "colab_type": "code",
        "colab": {
          "base_uri": "https://localhost:8080/",
          "height": 68
        },
        "outputId": "1dc86323-b5a5-4ad5-ca46-29d5dd1a0952"
      },
      "source": [
        "pred[0]"
      ],
      "execution_count": null,
      "outputs": [
        {
          "output_type": "execute_result",
          "data": {
            "text/plain": [
              "array([2.82848390e-07, 1.01827176e-07, 1.21725909e-08, 8.90373908e-09,\n",
              "       1.17083880e-08, 2.50862158e-05, 1.18063255e-07, 1.56140449e-02,\n",
              "       8.52668165e-07, 9.84359443e-01], dtype=float32)"
            ]
          },
          "metadata": {
            "tags": []
          },
          "execution_count": 27
        }
      ]
    },
    {
      "cell_type": "code",
      "metadata": {
        "id": "2TEviOn_pxU_",
        "colab_type": "code",
        "colab": {
          "base_uri": "https://localhost:8080/",
          "height": 34
        },
        "outputId": "470bdf6b-e6bb-4904-be26-37e99e984627"
      },
      "source": [
        "np.argmax(pred[0])"
      ],
      "execution_count": null,
      "outputs": [
        {
          "output_type": "execute_result",
          "data": {
            "text/plain": [
              "9"
            ]
          },
          "metadata": {
            "tags": []
          },
          "execution_count": 28
        }
      ]
    },
    {
      "cell_type": "code",
      "metadata": {
        "id": "gXhFtR-9qWJ9",
        "colab_type": "code",
        "colab": {
          "base_uri": "https://localhost:8080/",
          "height": 697
        },
        "outputId": "5b122627-82fe-4ae5-9fe3-56bfbecadbf8"
      },
      "source": [
        "history.history"
      ],
      "execution_count": null,
      "outputs": [
        {
          "output_type": "execute_result",
          "data": {
            "text/plain": [
              "{'accuracy': [0.8215208053588867,\n",
              "  0.8620208501815796,\n",
              "  0.8757291436195374,\n",
              "  0.8835833072662354,\n",
              "  0.890291690826416,\n",
              "  0.895270824432373,\n",
              "  0.8979166746139526,\n",
              "  0.901354193687439,\n",
              "  0.9067291617393494,\n",
              "  0.909375011920929],\n",
              " 'loss': [0.49762967228889465,\n",
              "  0.3759990930557251,\n",
              "  0.33740708231925964,\n",
              "  0.3146955966949463,\n",
              "  0.29566478729248047,\n",
              "  0.2839360237121582,\n",
              "  0.27216842770576477,\n",
              "  0.2612052261829376,\n",
              "  0.2505018413066864,\n",
              "  0.24248310923576355],\n",
              " 'val_accuracy': [0.8297500014305115,\n",
              "  0.8699166774749756,\n",
              "  0.8664166927337646,\n",
              "  0.8770833611488342,\n",
              "  0.8802499771118164,\n",
              "  0.8673333525657654,\n",
              "  0.8744999766349792,\n",
              "  0.8790833353996277,\n",
              "  0.8852499723434448,\n",
              "  0.8838333487510681],\n",
              " 'val_loss': [0.4579624831676483,\n",
              "  0.36840733885765076,\n",
              "  0.38224637508392334,\n",
              "  0.33929792046546936,\n",
              "  0.3493858575820923,\n",
              "  0.36658620834350586,\n",
              "  0.3476434051990509,\n",
              "  0.34675487875938416,\n",
              "  0.32905852794647217,\n",
              "  0.3420983850955963]}"
            ]
          },
          "metadata": {
            "tags": []
          },
          "execution_count": 43
        }
      ]
    },
    {
      "cell_type": "code",
      "metadata": {
        "id": "DgKmpGmMx2iX",
        "colab_type": "code",
        "colab": {}
      },
      "source": [
        "import matplotlib.pyplot as plt\n"
      ],
      "execution_count": null,
      "outputs": []
    },
    {
      "cell_type": "code",
      "metadata": {
        "id": "rUCV6E4vyWp2",
        "colab_type": "code",
        "colab": {
          "base_uri": "https://localhost:8080/",
          "height": 573
        },
        "outputId": "41f0fe41-6eff-4abd-ae3a-435abc4280ef"
      },
      "source": [
        "plt.plot(history.history['accuracy'])\n",
        "plt.plot(history.history['val_accuracy'])\n",
        "plt.title('Model_Accuracy')\n",
        "plt.xlabel('Epochs')\n",
        "plt.ylabel('Accuracy')\n",
        "plt.legend(['train','test'])\n",
        "plt.show()\n",
        "\n",
        "\n",
        "plt.plot(history.history['loss'])\n",
        "plt.plot(history.history['val_loss'])\n",
        "plt.title('Model_loss')\n",
        "plt.xlabel('Epochs')\n",
        "plt.ylabel('loss')\n",
        "plt.legend(['train','test'])\n",
        "plt.show()\n"
      ],
      "execution_count": null,
      "outputs": [
        {
          "output_type": "display_data",
          "data": {
            "image/png": "[encoded data removed]",
            "text/plain": [
              "<Figure size 432x288 with 1 Axes>"
            ]
          },
          "metadata": {
            "tags": [],
            "needs_background": "light"
          }
        },
        {
          "output_type": "display_data",
          "data": {
            "image/png": "[encoded data removed]",
            "text/plain": [
              "<Figure size 432x288 with 1 Axes>"
            ]
          },
          "metadata": {
            "tags": [],
            "needs_background": "light"
          }
        }
      ]
    },
    {
      "cell_type": "code",
      "metadata": {
        "id": "o2U-szVHyhZ0",
        "colab_type": "code",
        "colab": {}
      },
      "source": [
        "from sklearn.metrics import confusion_matrix"
      ],
      "execution_count": null,
      "outputs": []
    },
    {
      "cell_type": "code",
      "metadata": {
        "id": "Oif3p0fNBm5Z",
        "colab_type": "code",
        "colab": {}
      },
      "source": [
        "from mlxtend.evaluate import confusion_matrix"
      ],
      "execution_count": null,
      "outputs": []
    },
    {
      "cell_type": "code",
      "metadata": {
        "id": "I_XU6d2Y547T",
        "colab_type": "code",
        "colab": {
          "base_uri": "https://localhost:8080/",
          "height": 187
        },
        "outputId": "b5595a61-1d3e-45f1-a9f5-b5b0c1d3ded2"
      },
      "source": [
        "confusion_matrix(y_test,y_pred)"
      ],
      "execution_count": null,
      "outputs": [
        {
          "output_type": "execute_result",
          "data": {
            "text/plain": [
              "array([[736,   3,  18,  46,   7,   2, 176,   0,  12,   0],\n",
              "       [  1, 971,   0,  20,   3,   0,   5,   0,   0,   0],\n",
              "       [  8,   0, 728,  15, 138,   0, 109,   0,   2,   0],\n",
              "       [ 12,   3,   6, 913,  38,   1,  23,   0,   4,   0],\n",
              "       [  1,   0,  61,  27, 842,   0,  67,   0,   2,   0],\n",
              "       [  0,   0,   0,   0,   0, 947,   0,  32,   2,  19],\n",
              "       [ 67,   1,  60,  37,  77,   0, 746,   0,  12,   0],\n",
              "       [  0,   0,   0,   0,   0,   7,   0, 949,   0,  44],\n",
              "       [  3,   0,   0,   5,   4,   2,   6,   3, 977,   0],\n",
              "       [  0,   0,   0,   0,   0,   6,   1,  26,   0, 967]])"
            ]
          },
          "metadata": {
            "tags": []
          },
          "execution_count": 46
        }
      ]
    },
    {
      "cell_type": "code",
      "metadata": {
        "id": "wGhVy8nJ5-oT",
        "colab_type": "code",
        "colab": {
          "base_uri": "https://localhost:8080/",
          "height": 497
        },
        "outputId": "3e7c313b-eb93-4af9-8238-389821024e04"
      },
      "source": [
        "from mlxtend.plotting import plot_confusion_matrix\n",
        "mat = confusion_matrix(y_test,y_pred)\n",
        "fig,ax = plot_confusion_matrix(conf_mat=mat,figsize=(8,8),show_normed=True)\n",
        "plt.show()"
      ],
      "execution_count": null,
      "outputs": [
        {
          "output_type": "display_data",
          "data": {
            "image/png": "[encoded data removed]",
            "text/plain": [
              "<Figure size 576x576 with 1 Axes>"
            ]
          },
          "metadata": {
            "tags": [],
            "needs_background": "light"
          }
        }
      ]
    }
  ]
}