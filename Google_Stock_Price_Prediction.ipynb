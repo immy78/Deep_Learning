{
  "nbformat": 4,
  "nbformat_minor": 0,
  "metadata": {
    "colab": {
      "name": "Google_Stock_Price_Prediction.ipynb",
      "provenance": [],
      "authorship_tag": "ABX9TyMwFE8NZxQ0OmyD6aw223sV",
      "include_colab_link": true
    },
    "kernelspec": {
      "name": "python3",
      "display_name": "Python 3"
    },
    "accelerator": "GPU"
  },
  "cells": [
    {
      "cell_type": "markdown",
      "metadata": {
        "id": "view-in-github",
        "colab_type": "text"
      },
      "source": [
        "<a href=\"https://colab.research.google.com/github/immy78/Deep_Learning/blob/master/Google_Stock_Price_Prediction.ipynb\" target=\"_parent\"><img src=\"https://colab.research.google.com/assets/colab-badge.svg\" alt=\"Open In Colab\"/></a>"
      ]
    },
    {
      "cell_type": "code",
      "metadata": {
        "id": "PUnVeE1Uqtrl"
      },
      "source": [
        "import numpy as np\n",
        "import pandas as pd\n",
        "import matplotlib.pyplot as plt"
      ],
      "execution_count": 70,
      "outputs": []
    },
    {
      "cell_type": "code",
      "metadata": {
        "id": "GMxcmAxoq5hC",
        "outputId": "eb2a2984-1aca-4f2a-b616-1af8e9e51796",
        "colab": {
          "resources": {
            "http://localhost:8080/nbextensions/google.colab/files.js": {
              "data": "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",
              "ok": true,
              "headers": [
                [
                  "content-type",
                  "application/javascript"
                ]
              ],
              "status": 200,
              "status_text": ""
            }
          },
          "base_uri": "https://localhost:8080/",
          "height": 72
        }
      },
      "source": [
        "from google.colab import files\n",
        "uploaded = files.upload()"
      ],
      "execution_count": 71,
      "outputs": [
        {
          "output_type": "display_data",
          "data": {
            "text/html": [
              "\n",
              "     <input type=\"file\" id=\"files-18681b77-6168-410c-9285-5c9335c648f8\" name=\"files[]\" multiple disabled\n",
              "        style=\"border:none\" />\n",
              "     <output id=\"result-18681b77-6168-410c-9285-5c9335c648f8\">\n",
              "      Upload widget is only available when the cell has been executed in the\n",
              "      current browser session. Please rerun this cell to enable.\n",
              "      </output>\n",
              "      <script src=\"/nbextensions/google.colab/files.js\"></script> "
            ],
            "text/plain": [
              "<IPython.core.display.HTML object>"
            ]
          },
          "metadata": {
            "tags": []
          }
        },
        {
          "output_type": "stream",
          "text": [
            "Saving GOOG.csv to GOOG (1).csv\n"
          ],
          "name": "stdout"
        }
      ]
    },
    {
      "cell_type": "code",
      "metadata": {
        "id": "5qklEjAMUyWU"
      },
      "source": [
        "data = pd.read_csv('GOOG.csv')"
      ],
      "execution_count": 72,
      "outputs": []
    },
    {
      "cell_type": "code",
      "metadata": {
        "id": "O948aAgGcLc5",
        "outputId": "279f2340-e1dc-4e2e-add9-06f7ccfb5a6c",
        "colab": {
          "base_uri": "https://localhost:8080/",
          "height": 204
        }
      },
      "source": [
        "data.head()"
      ],
      "execution_count": 73,
      "outputs": [
        {
          "output_type": "execute_result",
          "data": {
            "text/html": [
              "<div>\n",
              "<style scoped>\n",
              "    .dataframe tbody tr th:only-of-type {\n",
              "        vertical-align: middle;\n",
              "    }\n",
              "\n",
              "    .dataframe tbody tr th {\n",
              "        vertical-align: top;\n",
              "    }\n",
              "\n",
              "    .dataframe thead th {\n",
              "        text-align: right;\n",
              "    }\n",
              "</style>\n",
              "<table border=\"1\" class=\"dataframe\">\n",
              "  <thead>\n",
              "    <tr style=\"text-align: right;\">\n",
              "      <th></th>\n",
              "      <th>Date</th>\n",
              "      <th>Open</th>\n",
              "      <th>High</th>\n",
              "      <th>Low</th>\n",
              "      <th>Close</th>\n",
              "      <th>Adj Close</th>\n",
              "      <th>Volume</th>\n",
              "    </tr>\n",
              "  </thead>\n",
              "  <tbody>\n",
              "    <tr>\n",
              "      <th>0</th>\n",
              "      <td>2004-08-19</td>\n",
              "      <td>49.813286</td>\n",
              "      <td>51.835709</td>\n",
              "      <td>47.800831</td>\n",
              "      <td>49.982655</td>\n",
              "      <td>49.982655</td>\n",
              "      <td>44871300</td>\n",
              "    </tr>\n",
              "    <tr>\n",
              "      <th>1</th>\n",
              "      <td>2004-08-20</td>\n",
              "      <td>50.316402</td>\n",
              "      <td>54.336334</td>\n",
              "      <td>50.062355</td>\n",
              "      <td>53.952770</td>\n",
              "      <td>53.952770</td>\n",
              "      <td>22942800</td>\n",
              "    </tr>\n",
              "    <tr>\n",
              "      <th>2</th>\n",
              "      <td>2004-08-23</td>\n",
              "      <td>55.168217</td>\n",
              "      <td>56.528118</td>\n",
              "      <td>54.321388</td>\n",
              "      <td>54.495735</td>\n",
              "      <td>54.495735</td>\n",
              "      <td>18342800</td>\n",
              "    </tr>\n",
              "    <tr>\n",
              "      <th>3</th>\n",
              "      <td>2004-08-24</td>\n",
              "      <td>55.412300</td>\n",
              "      <td>55.591629</td>\n",
              "      <td>51.591621</td>\n",
              "      <td>52.239193</td>\n",
              "      <td>52.239193</td>\n",
              "      <td>15319700</td>\n",
              "    </tr>\n",
              "    <tr>\n",
              "      <th>4</th>\n",
              "      <td>2004-08-25</td>\n",
              "      <td>52.284027</td>\n",
              "      <td>53.798351</td>\n",
              "      <td>51.746044</td>\n",
              "      <td>52.802086</td>\n",
              "      <td>52.802086</td>\n",
              "      <td>9232100</td>\n",
              "    </tr>\n",
              "  </tbody>\n",
              "</table>\n",
              "</div>"
            ],
            "text/plain": [
              "         Date       Open       High        Low      Close  Adj Close    Volume\n",
              "0  2004-08-19  49.813286  51.835709  47.800831  49.982655  49.982655  44871300\n",
              "1  2004-08-20  50.316402  54.336334  50.062355  53.952770  53.952770  22942800\n",
              "2  2004-08-23  55.168217  56.528118  54.321388  54.495735  54.495735  18342800\n",
              "3  2004-08-24  55.412300  55.591629  51.591621  52.239193  52.239193  15319700\n",
              "4  2004-08-25  52.284027  53.798351  51.746044  52.802086  52.802086   9232100"
            ]
          },
          "metadata": {
            "tags": []
          },
          "execution_count": 73
        }
      ]
    },
    {
      "cell_type": "code",
      "metadata": {
        "id": "-TVO3mqWcOUu",
        "outputId": "cb520d77-12a1-4326-fa1c-31d5d56861f8",
        "colab": {
          "base_uri": "https://localhost:8080/",
          "height": 390
        }
      },
      "source": [
        "fig = plt.figure(figsize=((16,6)))\n",
        "plt.plot(data['Open'])\n",
        "plt.ylabel('Stock_price')\n",
        "plt.title('Google Stock Price');\n"
      ],
      "execution_count": 74,
      "outputs": [
        {
          "output_type": "display_data",
          "data": {
            "image/png": "[encoded data removed]",
            "text/plain": [
              "<Figure size 1152x432 with 1 Axes>"
            ]
          },
          "metadata": {
            "tags": [],
            "needs_background": "light"
          }
        }
      ]
    },
    {
      "cell_type": "code",
      "metadata": {
        "id": "L76ByaLFcgog",
        "outputId": "ce960297-6423-4b08-a5d3-1f1b679e0179",
        "colab": {
          "base_uri": "https://localhost:8080/",
          "height": 34
        }
      },
      "source": [
        "data.shape"
      ],
      "execution_count": 75,
      "outputs": [
        {
          "output_type": "execute_result",
          "data": {
            "text/plain": [
              "(4057, 7)"
            ]
          },
          "metadata": {
            "tags": []
          },
          "execution_count": 75
        }
      ]
    },
    {
      "cell_type": "code",
      "metadata": {
        "id": "ajdG5Kd2dzpe",
        "outputId": "9b0b7e32-afb9-4388-cbdb-bbfef1d43e9c",
        "colab": {
          "base_uri": "https://localhost:8080/",
          "height": 204
        }
      },
      "source": [
        "data.tail()"
      ],
      "execution_count": 76,
      "outputs": [
        {
          "output_type": "execute_result",
          "data": {
            "text/html": [
              "<div>\n",
              "<style scoped>\n",
              "    .dataframe tbody tr th:only-of-type {\n",
              "        vertical-align: middle;\n",
              "    }\n",
              "\n",
              "    .dataframe tbody tr th {\n",
              "        vertical-align: top;\n",
              "    }\n",
              "\n",
              "    .dataframe thead th {\n",
              "        text-align: right;\n",
              "    }\n",
              "</style>\n",
              "<table border=\"1\" class=\"dataframe\">\n",
              "  <thead>\n",
              "    <tr style=\"text-align: right;\">\n",
              "      <th></th>\n",
              "      <th>Date</th>\n",
              "      <th>Open</th>\n",
              "      <th>High</th>\n",
              "      <th>Low</th>\n",
              "      <th>Close</th>\n",
              "      <th>Adj Close</th>\n",
              "      <th>Volume</th>\n",
              "    </tr>\n",
              "  </thead>\n",
              "  <tbody>\n",
              "    <tr>\n",
              "      <th>4052</th>\n",
              "      <td>2020-09-23</td>\n",
              "      <td>1458.780029</td>\n",
              "      <td>1460.959961</td>\n",
              "      <td>1407.699951</td>\n",
              "      <td>1415.209961</td>\n",
              "      <td>1415.209961</td>\n",
              "      <td>1657400</td>\n",
              "    </tr>\n",
              "    <tr>\n",
              "      <th>4053</th>\n",
              "      <td>2020-09-24</td>\n",
              "      <td>1411.030029</td>\n",
              "      <td>1443.708984</td>\n",
              "      <td>1409.849976</td>\n",
              "      <td>1428.290039</td>\n",
              "      <td>1428.290039</td>\n",
              "      <td>1450200</td>\n",
              "    </tr>\n",
              "    <tr>\n",
              "      <th>4054</th>\n",
              "      <td>2020-09-25</td>\n",
              "      <td>1432.630005</td>\n",
              "      <td>1450.000000</td>\n",
              "      <td>1413.339966</td>\n",
              "      <td>1444.959961</td>\n",
              "      <td>1444.959961</td>\n",
              "      <td>1323000</td>\n",
              "    </tr>\n",
              "    <tr>\n",
              "      <th>4055</th>\n",
              "      <td>2020-09-28</td>\n",
              "      <td>1474.209961</td>\n",
              "      <td>1476.800049</td>\n",
              "      <td>1449.301025</td>\n",
              "      <td>1464.520020</td>\n",
              "      <td>1464.520020</td>\n",
              "      <td>2007900</td>\n",
              "    </tr>\n",
              "    <tr>\n",
              "      <th>4056</th>\n",
              "      <td>2020-09-29</td>\n",
              "      <td>1470.390015</td>\n",
              "      <td>1476.662964</td>\n",
              "      <td>1458.805054</td>\n",
              "      <td>1469.329956</td>\n",
              "      <td>1469.329956</td>\n",
              "      <td>978200</td>\n",
              "    </tr>\n",
              "  </tbody>\n",
              "</table>\n",
              "</div>"
            ],
            "text/plain": [
              "            Date         Open         High  ...        Close    Adj Close   Volume\n",
              "4052  2020-09-23  1458.780029  1460.959961  ...  1415.209961  1415.209961  1657400\n",
              "4053  2020-09-24  1411.030029  1443.708984  ...  1428.290039  1428.290039  1450200\n",
              "4054  2020-09-25  1432.630005  1450.000000  ...  1444.959961  1444.959961  1323000\n",
              "4055  2020-09-28  1474.209961  1476.800049  ...  1464.520020  1464.520020  2007900\n",
              "4056  2020-09-29  1470.390015  1476.662964  ...  1469.329956  1469.329956   978200\n",
              "\n",
              "[5 rows x 7 columns]"
            ]
          },
          "metadata": {
            "tags": []
          },
          "execution_count": 76
        }
      ]
    },
    {
      "cell_type": "code",
      "metadata": {
        "id": "DENRmfe7d3Md",
        "outputId": "2fec2fad-d5c0-4c46-fa8f-48f1605272ad",
        "colab": {
          "base_uri": "https://localhost:8080/",
          "height": 111
        }
      },
      "source": [
        "last_2_month_data = data[data['Date']>'2020-07-31']\n",
        "last_2_month_data.head(2)"
      ],
      "execution_count": 77,
      "outputs": [
        {
          "output_type": "execute_result",
          "data": {
            "text/html": [
              "<div>\n",
              "<style scoped>\n",
              "    .dataframe tbody tr th:only-of-type {\n",
              "        vertical-align: middle;\n",
              "    }\n",
              "\n",
              "    .dataframe tbody tr th {\n",
              "        vertical-align: top;\n",
              "    }\n",
              "\n",
              "    .dataframe thead th {\n",
              "        text-align: right;\n",
              "    }\n",
              "</style>\n",
              "<table border=\"1\" class=\"dataframe\">\n",
              "  <thead>\n",
              "    <tr style=\"text-align: right;\">\n",
              "      <th></th>\n",
              "      <th>Date</th>\n",
              "      <th>Open</th>\n",
              "      <th>High</th>\n",
              "      <th>Low</th>\n",
              "      <th>Close</th>\n",
              "      <th>Adj Close</th>\n",
              "      <th>Volume</th>\n",
              "    </tr>\n",
              "  </thead>\n",
              "  <tbody>\n",
              "    <tr>\n",
              "      <th>4016</th>\n",
              "      <td>2020-08-03</td>\n",
              "      <td>1486.640015</td>\n",
              "      <td>1490.469971</td>\n",
              "      <td>1465.640015</td>\n",
              "      <td>1474.449951</td>\n",
              "      <td>1474.449951</td>\n",
              "      <td>2330200</td>\n",
              "    </tr>\n",
              "    <tr>\n",
              "      <th>4017</th>\n",
              "      <td>2020-08-04</td>\n",
              "      <td>1476.569946</td>\n",
              "      <td>1485.560059</td>\n",
              "      <td>1458.650024</td>\n",
              "      <td>1464.969971</td>\n",
              "      <td>1464.969971</td>\n",
              "      <td>1903500</td>\n",
              "    </tr>\n",
              "  </tbody>\n",
              "</table>\n",
              "</div>"
            ],
            "text/plain": [
              "            Date         Open         High  ...        Close    Adj Close   Volume\n",
              "4016  2020-08-03  1486.640015  1490.469971  ...  1474.449951  1474.449951  2330200\n",
              "4017  2020-08-04  1476.569946  1485.560059  ...  1464.969971  1464.969971  1903500\n",
              "\n",
              "[2 rows x 7 columns]"
            ]
          },
          "metadata": {
            "tags": []
          },
          "execution_count": 77
        }
      ]
    },
    {
      "cell_type": "code",
      "metadata": {
        "id": "_yePk1C4ewW5",
        "outputId": "74a9e501-e2b1-4a68-cccb-9ee5cfbcf56a",
        "colab": {
          "base_uri": "https://localhost:8080/",
          "height": 390
        }
      },
      "source": [
        "fig = plt.figure(figsize=((16,6)))\n",
        "plt.plot(last_2_month_data['Open'])\n",
        "plt.ylabel('Stock_price')\n",
        "plt.title('Google Stock Price');"
      ],
      "execution_count": 78,
      "outputs": [
        {
          "output_type": "display_data",
          "data": {
            "image/png": "[encoded data removed]",
            "text/plain": [
              "<Figure size 1152x432 with 1 Axes>"
            ]
          },
          "metadata": {
            "tags": [],
            "needs_background": "light"
          }
        }
      ]
    },
    {
      "cell_type": "code",
      "metadata": {
        "id": "xukZId3HgZhD",
        "outputId": "a6fa9a6e-0f93-4763-d996-a24f78e838e3",
        "colab": {
          "base_uri": "https://localhost:8080/",
          "height": 419
        }
      },
      "source": [
        "data_training = data[data['Date']<'2020-01-01'].copy()\n",
        "data_training"
      ],
      "execution_count": 79,
      "outputs": [
        {
          "output_type": "execute_result",
          "data": {
            "text/html": [
              "<div>\n",
              "<style scoped>\n",
              "    .dataframe tbody tr th:only-of-type {\n",
              "        vertical-align: middle;\n",
              "    }\n",
              "\n",
              "    .dataframe tbody tr th {\n",
              "        vertical-align: top;\n",
              "    }\n",
              "\n",
              "    .dataframe thead th {\n",
              "        text-align: right;\n",
              "    }\n",
              "</style>\n",
              "<table border=\"1\" class=\"dataframe\">\n",
              "  <thead>\n",
              "    <tr style=\"text-align: right;\">\n",
              "      <th></th>\n",
              "      <th>Date</th>\n",
              "      <th>Open</th>\n",
              "      <th>High</th>\n",
              "      <th>Low</th>\n",
              "      <th>Close</th>\n",
              "      <th>Adj Close</th>\n",
              "      <th>Volume</th>\n",
              "    </tr>\n",
              "  </thead>\n",
              "  <tbody>\n",
              "    <tr>\n",
              "      <th>0</th>\n",
              "      <td>2004-08-19</td>\n",
              "      <td>49.813286</td>\n",
              "      <td>51.835709</td>\n",
              "      <td>47.800831</td>\n",
              "      <td>49.982655</td>\n",
              "      <td>49.982655</td>\n",
              "      <td>44871300</td>\n",
              "    </tr>\n",
              "    <tr>\n",
              "      <th>1</th>\n",
              "      <td>2004-08-20</td>\n",
              "      <td>50.316402</td>\n",
              "      <td>54.336334</td>\n",
              "      <td>50.062355</td>\n",
              "      <td>53.952770</td>\n",
              "      <td>53.952770</td>\n",
              "      <td>22942800</td>\n",
              "    </tr>\n",
              "    <tr>\n",
              "      <th>2</th>\n",
              "      <td>2004-08-23</td>\n",
              "      <td>55.168217</td>\n",
              "      <td>56.528118</td>\n",
              "      <td>54.321388</td>\n",
              "      <td>54.495735</td>\n",
              "      <td>54.495735</td>\n",
              "      <td>18342800</td>\n",
              "    </tr>\n",
              "    <tr>\n",
              "      <th>3</th>\n",
              "      <td>2004-08-24</td>\n",
              "      <td>55.412300</td>\n",
              "      <td>55.591629</td>\n",
              "      <td>51.591621</td>\n",
              "      <td>52.239193</td>\n",
              "      <td>52.239193</td>\n",
              "      <td>15319700</td>\n",
              "    </tr>\n",
              "    <tr>\n",
              "      <th>4</th>\n",
              "      <td>2004-08-25</td>\n",
              "      <td>52.284027</td>\n",
              "      <td>53.798351</td>\n",
              "      <td>51.746044</td>\n",
              "      <td>52.802086</td>\n",
              "      <td>52.802086</td>\n",
              "      <td>9232100</td>\n",
              "    </tr>\n",
              "    <tr>\n",
              "      <th>...</th>\n",
              "      <td>...</td>\n",
              "      <td>...</td>\n",
              "      <td>...</td>\n",
              "      <td>...</td>\n",
              "      <td>...</td>\n",
              "      <td>...</td>\n",
              "      <td>...</td>\n",
              "    </tr>\n",
              "    <tr>\n",
              "      <th>3864</th>\n",
              "      <td>2019-12-24</td>\n",
              "      <td>1348.500000</td>\n",
              "      <td>1350.260010</td>\n",
              "      <td>1342.780029</td>\n",
              "      <td>1343.560059</td>\n",
              "      <td>1343.560059</td>\n",
              "      <td>347500</td>\n",
              "    </tr>\n",
              "    <tr>\n",
              "      <th>3865</th>\n",
              "      <td>2019-12-26</td>\n",
              "      <td>1346.170044</td>\n",
              "      <td>1361.327026</td>\n",
              "      <td>1344.469971</td>\n",
              "      <td>1360.400024</td>\n",
              "      <td>1360.400024</td>\n",
              "      <td>667500</td>\n",
              "    </tr>\n",
              "    <tr>\n",
              "      <th>3866</th>\n",
              "      <td>2019-12-27</td>\n",
              "      <td>1362.989990</td>\n",
              "      <td>1364.530029</td>\n",
              "      <td>1349.310059</td>\n",
              "      <td>1351.890015</td>\n",
              "      <td>1351.890015</td>\n",
              "      <td>1038400</td>\n",
              "    </tr>\n",
              "    <tr>\n",
              "      <th>3867</th>\n",
              "      <td>2019-12-30</td>\n",
              "      <td>1350.000000</td>\n",
              "      <td>1353.000000</td>\n",
              "      <td>1334.020020</td>\n",
              "      <td>1336.140015</td>\n",
              "      <td>1336.140015</td>\n",
              "      <td>1050900</td>\n",
              "    </tr>\n",
              "    <tr>\n",
              "      <th>3868</th>\n",
              "      <td>2019-12-31</td>\n",
              "      <td>1330.109985</td>\n",
              "      <td>1338.000000</td>\n",
              "      <td>1329.084961</td>\n",
              "      <td>1337.020020</td>\n",
              "      <td>1337.020020</td>\n",
              "      <td>961800</td>\n",
              "    </tr>\n",
              "  </tbody>\n",
              "</table>\n",
              "<p>3869 rows × 7 columns</p>\n",
              "</div>"
            ],
            "text/plain": [
              "            Date         Open         High  ...        Close    Adj Close    Volume\n",
              "0     2004-08-19    49.813286    51.835709  ...    49.982655    49.982655  44871300\n",
              "1     2004-08-20    50.316402    54.336334  ...    53.952770    53.952770  22942800\n",
              "2     2004-08-23    55.168217    56.528118  ...    54.495735    54.495735  18342800\n",
              "3     2004-08-24    55.412300    55.591629  ...    52.239193    52.239193  15319700\n",
              "4     2004-08-25    52.284027    53.798351  ...    52.802086    52.802086   9232100\n",
              "...          ...          ...          ...  ...          ...          ...       ...\n",
              "3864  2019-12-24  1348.500000  1350.260010  ...  1343.560059  1343.560059    347500\n",
              "3865  2019-12-26  1346.170044  1361.327026  ...  1360.400024  1360.400024    667500\n",
              "3866  2019-12-27  1362.989990  1364.530029  ...  1351.890015  1351.890015   1038400\n",
              "3867  2019-12-30  1350.000000  1353.000000  ...  1336.140015  1336.140015   1050900\n",
              "3868  2019-12-31  1330.109985  1338.000000  ...  1337.020020  1337.020020    961800\n",
              "\n",
              "[3869 rows x 7 columns]"
            ]
          },
          "metadata": {
            "tags": []
          },
          "execution_count": 79
        }
      ]
    },
    {
      "cell_type": "code",
      "metadata": {
        "id": "e2RavfBOfGiO",
        "outputId": "01e24c29-ae7e-4056-fb27-2377db926acb",
        "colab": {
          "base_uri": "https://localhost:8080/",
          "height": 419
        }
      },
      "source": [
        "data_test = data[data['Date']>='2020-01-01'].copy()\n",
        "data_test"
      ],
      "execution_count": 80,
      "outputs": [
        {
          "output_type": "execute_result",
          "data": {
            "text/html": [
              "<div>\n",
              "<style scoped>\n",
              "    .dataframe tbody tr th:only-of-type {\n",
              "        vertical-align: middle;\n",
              "    }\n",
              "\n",
              "    .dataframe tbody tr th {\n",
              "        vertical-align: top;\n",
              "    }\n",
              "\n",
              "    .dataframe thead th {\n",
              "        text-align: right;\n",
              "    }\n",
              "</style>\n",
              "<table border=\"1\" class=\"dataframe\">\n",
              "  <thead>\n",
              "    <tr style=\"text-align: right;\">\n",
              "      <th></th>\n",
              "      <th>Date</th>\n",
              "      <th>Open</th>\n",
              "      <th>High</th>\n",
              "      <th>Low</th>\n",
              "      <th>Close</th>\n",
              "      <th>Adj Close</th>\n",
              "      <th>Volume</th>\n",
              "    </tr>\n",
              "  </thead>\n",
              "  <tbody>\n",
              "    <tr>\n",
              "      <th>3869</th>\n",
              "      <td>2020-01-02</td>\n",
              "      <td>1341.550049</td>\n",
              "      <td>1368.140015</td>\n",
              "      <td>1341.550049</td>\n",
              "      <td>1367.369995</td>\n",
              "      <td>1367.369995</td>\n",
              "      <td>1406600</td>\n",
              "    </tr>\n",
              "    <tr>\n",
              "      <th>3870</th>\n",
              "      <td>2020-01-03</td>\n",
              "      <td>1347.859985</td>\n",
              "      <td>1372.500000</td>\n",
              "      <td>1345.543945</td>\n",
              "      <td>1360.660034</td>\n",
              "      <td>1360.660034</td>\n",
              "      <td>1186400</td>\n",
              "    </tr>\n",
              "    <tr>\n",
              "      <th>3871</th>\n",
              "      <td>2020-01-06</td>\n",
              "      <td>1350.000000</td>\n",
              "      <td>1396.500000</td>\n",
              "      <td>1350.000000</td>\n",
              "      <td>1394.209961</td>\n",
              "      <td>1394.209961</td>\n",
              "      <td>1732300</td>\n",
              "    </tr>\n",
              "    <tr>\n",
              "      <th>3872</th>\n",
              "      <td>2020-01-07</td>\n",
              "      <td>1397.939941</td>\n",
              "      <td>1402.989990</td>\n",
              "      <td>1390.380005</td>\n",
              "      <td>1393.339966</td>\n",
              "      <td>1393.339966</td>\n",
              "      <td>1502700</td>\n",
              "    </tr>\n",
              "    <tr>\n",
              "      <th>3873</th>\n",
              "      <td>2020-01-08</td>\n",
              "      <td>1392.079956</td>\n",
              "      <td>1411.579956</td>\n",
              "      <td>1390.839966</td>\n",
              "      <td>1404.319946</td>\n",
              "      <td>1404.319946</td>\n",
              "      <td>1528000</td>\n",
              "    </tr>\n",
              "    <tr>\n",
              "      <th>...</th>\n",
              "      <td>...</td>\n",
              "      <td>...</td>\n",
              "      <td>...</td>\n",
              "      <td>...</td>\n",
              "      <td>...</td>\n",
              "      <td>...</td>\n",
              "      <td>...</td>\n",
              "    </tr>\n",
              "    <tr>\n",
              "      <th>4052</th>\n",
              "      <td>2020-09-23</td>\n",
              "      <td>1458.780029</td>\n",
              "      <td>1460.959961</td>\n",
              "      <td>1407.699951</td>\n",
              "      <td>1415.209961</td>\n",
              "      <td>1415.209961</td>\n",
              "      <td>1657400</td>\n",
              "    </tr>\n",
              "    <tr>\n",
              "      <th>4053</th>\n",
              "      <td>2020-09-24</td>\n",
              "      <td>1411.030029</td>\n",
              "      <td>1443.708984</td>\n",
              "      <td>1409.849976</td>\n",
              "      <td>1428.290039</td>\n",
              "      <td>1428.290039</td>\n",
              "      <td>1450200</td>\n",
              "    </tr>\n",
              "    <tr>\n",
              "      <th>4054</th>\n",
              "      <td>2020-09-25</td>\n",
              "      <td>1432.630005</td>\n",
              "      <td>1450.000000</td>\n",
              "      <td>1413.339966</td>\n",
              "      <td>1444.959961</td>\n",
              "      <td>1444.959961</td>\n",
              "      <td>1323000</td>\n",
              "    </tr>\n",
              "    <tr>\n",
              "      <th>4055</th>\n",
              "      <td>2020-09-28</td>\n",
              "      <td>1474.209961</td>\n",
              "      <td>1476.800049</td>\n",
              "      <td>1449.301025</td>\n",
              "      <td>1464.520020</td>\n",
              "      <td>1464.520020</td>\n",
              "      <td>2007900</td>\n",
              "    </tr>\n",
              "    <tr>\n",
              "      <th>4056</th>\n",
              "      <td>2020-09-29</td>\n",
              "      <td>1470.390015</td>\n",
              "      <td>1476.662964</td>\n",
              "      <td>1458.805054</td>\n",
              "      <td>1469.329956</td>\n",
              "      <td>1469.329956</td>\n",
              "      <td>978200</td>\n",
              "    </tr>\n",
              "  </tbody>\n",
              "</table>\n",
              "<p>188 rows × 7 columns</p>\n",
              "</div>"
            ],
            "text/plain": [
              "            Date         Open         High  ...        Close    Adj Close   Volume\n",
              "3869  2020-01-02  1341.550049  1368.140015  ...  1367.369995  1367.369995  1406600\n",
              "3870  2020-01-03  1347.859985  1372.500000  ...  1360.660034  1360.660034  1186400\n",
              "3871  2020-01-06  1350.000000  1396.500000  ...  1394.209961  1394.209961  1732300\n",
              "3872  2020-01-07  1397.939941  1402.989990  ...  1393.339966  1393.339966  1502700\n",
              "3873  2020-01-08  1392.079956  1411.579956  ...  1404.319946  1404.319946  1528000\n",
              "...          ...          ...          ...  ...          ...          ...      ...\n",
              "4052  2020-09-23  1458.780029  1460.959961  ...  1415.209961  1415.209961  1657400\n",
              "4053  2020-09-24  1411.030029  1443.708984  ...  1428.290039  1428.290039  1450200\n",
              "4054  2020-09-25  1432.630005  1450.000000  ...  1444.959961  1444.959961  1323000\n",
              "4055  2020-09-28  1474.209961  1476.800049  ...  1464.520020  1464.520020  2007900\n",
              "4056  2020-09-29  1470.390015  1476.662964  ...  1469.329956  1469.329956   978200\n",
              "\n",
              "[188 rows x 7 columns]"
            ]
          },
          "metadata": {
            "tags": []
          },
          "execution_count": 80
        }
      ]
    },
    {
      "cell_type": "code",
      "metadata": {
        "id": "6QU3DijkpDku",
        "outputId": "cd65b94e-9687-46bb-93b5-f4a6ab288959",
        "colab": {
          "base_uri": "https://localhost:8080/",
          "height": 204
        }
      },
      "source": [
        "training_data = data_training.drop(['Date','Adj Close'],axis=1)\n",
        "training_data.head()"
      ],
      "execution_count": 81,
      "outputs": [
        {
          "output_type": "execute_result",
          "data": {
            "text/html": [
              "<div>\n",
              "<style scoped>\n",
              "    .dataframe tbody tr th:only-of-type {\n",
              "        vertical-align: middle;\n",
              "    }\n",
              "\n",
              "    .dataframe tbody tr th {\n",
              "        vertical-align: top;\n",
              "    }\n",
              "\n",
              "    .dataframe thead th {\n",
              "        text-align: right;\n",
              "    }\n",
              "</style>\n",
              "<table border=\"1\" class=\"dataframe\">\n",
              "  <thead>\n",
              "    <tr style=\"text-align: right;\">\n",
              "      <th></th>\n",
              "      <th>Open</th>\n",
              "      <th>High</th>\n",
              "      <th>Low</th>\n",
              "      <th>Close</th>\n",
              "      <th>Volume</th>\n",
              "    </tr>\n",
              "  </thead>\n",
              "  <tbody>\n",
              "    <tr>\n",
              "      <th>0</th>\n",
              "      <td>49.813286</td>\n",
              "      <td>51.835709</td>\n",
              "      <td>47.800831</td>\n",
              "      <td>49.982655</td>\n",
              "      <td>44871300</td>\n",
              "    </tr>\n",
              "    <tr>\n",
              "      <th>1</th>\n",
              "      <td>50.316402</td>\n",
              "      <td>54.336334</td>\n",
              "      <td>50.062355</td>\n",
              "      <td>53.952770</td>\n",
              "      <td>22942800</td>\n",
              "    </tr>\n",
              "    <tr>\n",
              "      <th>2</th>\n",
              "      <td>55.168217</td>\n",
              "      <td>56.528118</td>\n",
              "      <td>54.321388</td>\n",
              "      <td>54.495735</td>\n",
              "      <td>18342800</td>\n",
              "    </tr>\n",
              "    <tr>\n",
              "      <th>3</th>\n",
              "      <td>55.412300</td>\n",
              "      <td>55.591629</td>\n",
              "      <td>51.591621</td>\n",
              "      <td>52.239193</td>\n",
              "      <td>15319700</td>\n",
              "    </tr>\n",
              "    <tr>\n",
              "      <th>4</th>\n",
              "      <td>52.284027</td>\n",
              "      <td>53.798351</td>\n",
              "      <td>51.746044</td>\n",
              "      <td>52.802086</td>\n",
              "      <td>9232100</td>\n",
              "    </tr>\n",
              "  </tbody>\n",
              "</table>\n",
              "</div>"
            ],
            "text/plain": [
              "        Open       High        Low      Close    Volume\n",
              "0  49.813286  51.835709  47.800831  49.982655  44871300\n",
              "1  50.316402  54.336334  50.062355  53.952770  22942800\n",
              "2  55.168217  56.528118  54.321388  54.495735  18342800\n",
              "3  55.412300  55.591629  51.591621  52.239193  15319700\n",
              "4  52.284027  53.798351  51.746044  52.802086   9232100"
            ]
          },
          "metadata": {
            "tags": []
          },
          "execution_count": 81
        }
      ]
    },
    {
      "cell_type": "code",
      "metadata": {
        "id": "T4kUNRaIqVz-"
      },
      "source": [
        "from sklearn.preprocessing import MinMaxScaler\n",
        "scaler = MinMaxScaler()"
      ],
      "execution_count": 82,
      "outputs": []
    },
    {
      "cell_type": "code",
      "metadata": {
        "id": "LirUUeXRq8cl",
        "outputId": "5558f9ce-b46d-4cba-fae9-f05b70fb6a0e",
        "colab": {
          "base_uri": "https://localhost:8080/",
          "height": 238
        }
      },
      "source": [
        "training_data = scaler.fit_transform(training_data)\n",
        "training_data"
      ],
      "execution_count": 83,
      "outputs": [
        {
          "output_type": "execute_result",
          "data": {
            "text/plain": [
              "array([[3.07080191e-04, 8.79291979e-04, 0.00000000e+00, 1.25356905e-04,\n",
              "        5.43577404e-01],\n",
              "       [6.89986513e-04, 2.78189186e-03, 1.73314228e-03, 3.15285500e-03,\n",
              "        2.77885613e-01],\n",
              "       [4.38255570e-03, 4.44951014e-03, 4.99709621e-03, 3.56690484e-03,\n",
              "        2.22150736e-01],\n",
              "       ...,\n",
              "       [9.99726026e-01, 9.99642423e-01, 9.97425041e-01, 9.92923311e-01,\n",
              "        1.24858240e-02],\n",
              "       [9.89839738e-01, 9.90869803e-01, 9.85707361e-01, 9.80912804e-01,\n",
              "        1.26372774e-02],\n",
              "       [9.74702051e-01, 9.79457057e-01, 9.81925328e-01, 9.81583871e-01,\n",
              "        1.15577171e-02]])"
            ]
          },
          "metadata": {
            "tags": []
          },
          "execution_count": 83
        }
      ]
    },
    {
      "cell_type": "code",
      "metadata": {
        "id": "u2ss9VwKrmMd",
        "outputId": "3023a59a-aeec-4803-ee06-394412f6fa2b",
        "colab": {
          "base_uri": "https://localhost:8080/",
          "height": 34
        }
      },
      "source": [
        "training_data.shape"
      ],
      "execution_count": 84,
      "outputs": [
        {
          "output_type": "execute_result",
          "data": {
            "text/plain": [
              "(3869, 5)"
            ]
          },
          "metadata": {
            "tags": []
          },
          "execution_count": 84
        }
      ]
    },
    {
      "cell_type": "code",
      "metadata": {
        "id": "SScIgSjmrqAd"
      },
      "source": [
        "x_train = []\n",
        "y_train = []\n",
        "\n",
        "for i in range(60,training_data.shape[0]):\n",
        "  x_train.append(training_data[i-60:i])\n",
        "  y_train.append(training_data[i,0])\n"
      ],
      "execution_count": 85,
      "outputs": []
    },
    {
      "cell_type": "markdown",
      "metadata": {
        "id": "Nz4_GkV-uDPq"
      },
      "source": [
        "#Now converting this list to array"
      ]
    },
    {
      "cell_type": "code",
      "metadata": {
        "id": "NX9UKW7bt0_W",
        "outputId": "1928c0cd-aa39-4c0d-c41f-e2d9fad296b8",
        "colab": {
          "base_uri": "https://localhost:8080/",
          "height": 34
        }
      },
      "source": [
        "x_train = np.array(x_train)\n",
        "y_train = np.array(y_train)\n",
        "x_train.shape , y_train.shape"
      ],
      "execution_count": 86,
      "outputs": [
        {
          "output_type": "execute_result",
          "data": {
            "text/plain": [
              "((3809, 60, 5), (3809,))"
            ]
          },
          "metadata": {
            "tags": []
          },
          "execution_count": 86
        }
      ]
    },
    {
      "cell_type": "markdown",
      "metadata": {
        "id": "liAoIPgpulig"
      },
      "source": [
        "## Build LSTM(Long Term Short Term Memory)"
      ]
    },
    {
      "cell_type": "code",
      "metadata": {
        "id": "LoehdfwAuczJ"
      },
      "source": [
        "from tensorflow.keras import Sequential\n",
        "from tensorflow.keras.layers import LSTM , Dense, Dropout"
      ],
      "execution_count": 87,
      "outputs": []
    },
    {
      "cell_type": "code",
      "metadata": {
        "id": "wB5z2YGjxMkz",
        "outputId": "c2eeaff1-91ce-40a0-afd4-15f12d63c649",
        "colab": {
          "base_uri": "https://localhost:8080/",
          "height": 34
        }
      },
      "source": [
        "x_train.shape[1],5"
      ],
      "execution_count": 88,
      "outputs": [
        {
          "output_type": "execute_result",
          "data": {
            "text/plain": [
              "(60, 5)"
            ]
          },
          "metadata": {
            "tags": []
          },
          "execution_count": 88
        }
      ]
    },
    {
      "cell_type": "code",
      "metadata": {
        "id": "vV0X2ln7vaUl",
        "outputId": "2915edd2-261c-4606-dce1-472466dfd885",
        "colab": {
          "base_uri": "https://localhost:8080/",
          "height": 105
        }
      },
      "source": [
        "regressor = Sequential()\n",
        "\n",
        "regressor.add(LSTM(units = 50,activation='relu',return_sequences=True,input_shape=(x_train.shape[1],5)))\n",
        "regressor.add(Dropout(0.2))\n",
        "\n",
        "regressor.add(LSTM(units = 70,activation='relu',return_sequences=True))\n",
        "regressor.add(Dropout(0.3))\n",
        "\n",
        "regressor.add(LSTM(units = 100,activation='relu',return_sequences=True))\n",
        "regressor.add(Dropout(0.3))\n",
        "\n",
        "regressor.add(LSTM(units = 120,activation='relu'))\n",
        "regressor.add(Dropout(0.4))\n",
        "\n",
        "regressor.add(Dense(units=1))"
      ],
      "execution_count": 89,
      "outputs": [
        {
          "output_type": "stream",
          "text": [
            "WARNING:tensorflow:Layer lstm_4 will not use cuDNN kernel since it doesn't meet the cuDNN kernel criteria. It will use generic GPU kernel as fallback when running on GPU\n",
            "WARNING:tensorflow:Layer lstm_5 will not use cuDNN kernel since it doesn't meet the cuDNN kernel criteria. It will use generic GPU kernel as fallback when running on GPU\n",
            "WARNING:tensorflow:Layer lstm_6 will not use cuDNN kernel since it doesn't meet the cuDNN kernel criteria. It will use generic GPU kernel as fallback when running on GPU\n",
            "WARNING:tensorflow:Layer lstm_7 will not use cuDNN kernel since it doesn't meet the cuDNN kernel criteria. It will use generic GPU kernel as fallback when running on GPU\n"
          ],
          "name": "stdout"
        }
      ]
    },
    {
      "cell_type": "code",
      "metadata": {
        "id": "uDkYgl2myArm",
        "outputId": "3d9bc7ff-f3bc-461e-c48b-e468a98edfc2",
        "colab": {
          "base_uri": "https://localhost:8080/",
          "height": 459
        }
      },
      "source": [
        "regressor.summary()"
      ],
      "execution_count": 90,
      "outputs": [
        {
          "output_type": "stream",
          "text": [
            "Model: \"sequential_1\"\n",
            "_________________________________________________________________\n",
            "Layer (type)                 Output Shape              Param #   \n",
            "=================================================================\n",
            "lstm_4 (LSTM)                (None, 60, 50)            11200     \n",
            "_________________________________________________________________\n",
            "dropout_4 (Dropout)          (None, 60, 50)            0         \n",
            "_________________________________________________________________\n",
            "lstm_5 (LSTM)                (None, 60, 70)            33880     \n",
            "_________________________________________________________________\n",
            "dropout_5 (Dropout)          (None, 60, 70)            0         \n",
            "_________________________________________________________________\n",
            "lstm_6 (LSTM)                (None, 60, 100)           68400     \n",
            "_________________________________________________________________\n",
            "dropout_6 (Dropout)          (None, 60, 100)           0         \n",
            "_________________________________________________________________\n",
            "lstm_7 (LSTM)                (None, 120)               106080    \n",
            "_________________________________________________________________\n",
            "dropout_7 (Dropout)          (None, 120)               0         \n",
            "_________________________________________________________________\n",
            "dense_1 (Dense)              (None, 1)                 121       \n",
            "=================================================================\n",
            "Total params: 219,681\n",
            "Trainable params: 219,681\n",
            "Non-trainable params: 0\n",
            "_________________________________________________________________\n"
          ],
          "name": "stdout"
        }
      ]
    },
    {
      "cell_type": "code",
      "metadata": {
        "id": "A6gwVvm3zkRs"
      },
      "source": [
        "regressor.compile(optimizer='adam',loss='mean_squared_error')"
      ],
      "execution_count": 91,
      "outputs": []
    },
    {
      "cell_type": "code",
      "metadata": {
        "id": "oTIHhtGk0Fel",
        "outputId": "9c8dfc3c-d8c6-403b-9e92-81eb2bcb59de",
        "colab": {
          "base_uri": "https://localhost:8080/",
          "height": 1000
        }
      },
      "source": [
        "regressor.fit(x_train,y_train,epochs=50,batch_size=32)"
      ],
      "execution_count": 92,
      "outputs": [
        {
          "output_type": "stream",
          "text": [
            "Epoch 1/50\n",
            "120/120 [==============================] - 37s 311ms/step - loss: 0.0182\n",
            "Epoch 2/50\n",
            "120/120 [==============================] - 37s 310ms/step - loss: 0.0042\n",
            "Epoch 3/50\n",
            "120/120 [==============================] - 38s 314ms/step - loss: 0.0040\n",
            "Epoch 4/50\n",
            "120/120 [==============================] - 38s 313ms/step - loss: 0.0031\n",
            "Epoch 5/50\n",
            "120/120 [==============================] - 37s 309ms/step - loss: 0.0033\n",
            "Epoch 6/50\n",
            "120/120 [==============================] - 37s 310ms/step - loss: 0.0032\n",
            "Epoch 7/50\n",
            "120/120 [==============================] - 37s 310ms/step - loss: 0.0036\n",
            "Epoch 8/50\n",
            "120/120 [==============================] - 37s 308ms/step - loss: 0.0026\n",
            "Epoch 9/50\n",
            "120/120 [==============================] - 37s 309ms/step - loss: 0.0022\n",
            "Epoch 10/50\n",
            "120/120 [==============================] - 37s 311ms/step - loss: 0.0021\n",
            "Epoch 11/50\n",
            "120/120 [==============================] - 38s 315ms/step - loss: 0.0021\n",
            "Epoch 12/50\n",
            "120/120 [==============================] - 37s 308ms/step - loss: 0.0021\n",
            "Epoch 13/50\n",
            "120/120 [==============================] - 37s 311ms/step - loss: 0.0019\n",
            "Epoch 14/50\n",
            "120/120 [==============================] - 37s 311ms/step - loss: 0.0024\n",
            "Epoch 15/50\n",
            "120/120 [==============================] - 37s 309ms/step - loss: 0.0018\n",
            "Epoch 16/50\n",
            "120/120 [==============================] - 37s 305ms/step - loss: 0.0018\n",
            "Epoch 17/50\n",
            "120/120 [==============================] - 37s 305ms/step - loss: 0.0019\n",
            "Epoch 18/50\n",
            "120/120 [==============================] - 37s 305ms/step - loss: 0.0018\n",
            "Epoch 19/50\n",
            "120/120 [==============================] - 37s 305ms/step - loss: 0.0025\n",
            "Epoch 20/50\n",
            "120/120 [==============================] - 37s 307ms/step - loss: 0.0017\n",
            "Epoch 21/50\n",
            "120/120 [==============================] - 37s 311ms/step - loss: 0.0016\n",
            "Epoch 22/50\n",
            "120/120 [==============================] - 37s 310ms/step - loss: 0.0016\n",
            "Epoch 23/50\n",
            "120/120 [==============================] - 37s 311ms/step - loss: 0.0016\n",
            "Epoch 24/50\n",
            "120/120 [==============================] - 36s 302ms/step - loss: 0.0016\n",
            "Epoch 25/50\n",
            "120/120 [==============================] - 36s 301ms/step - loss: 0.0016\n",
            "Epoch 26/50\n",
            "120/120 [==============================] - 36s 297ms/step - loss: 0.0016\n",
            "Epoch 27/50\n",
            "120/120 [==============================] - 36s 297ms/step - loss: 0.0015\n",
            "Epoch 28/50\n",
            "120/120 [==============================] - 36s 301ms/step - loss: 0.0015\n",
            "Epoch 29/50\n",
            "120/120 [==============================] - 36s 299ms/step - loss: 0.0014\n",
            "Epoch 30/50\n",
            "120/120 [==============================] - 36s 299ms/step - loss: 0.0015\n",
            "Epoch 31/50\n",
            "120/120 [==============================] - 35s 292ms/step - loss: 0.0015\n",
            "Epoch 32/50\n",
            "120/120 [==============================] - 36s 296ms/step - loss: 0.0015\n",
            "Epoch 33/50\n",
            "120/120 [==============================] - 35s 296ms/step - loss: 0.0015\n",
            "Epoch 34/50\n",
            "120/120 [==============================] - 35s 295ms/step - loss: 0.0015\n",
            "Epoch 35/50\n",
            "120/120 [==============================] - 35s 296ms/step - loss: 0.0016\n",
            "Epoch 36/50\n",
            "120/120 [==============================] - 36s 298ms/step - loss: 0.0015\n",
            "Epoch 37/50\n",
            "120/120 [==============================] - 36s 300ms/step - loss: 0.0015\n",
            "Epoch 38/50\n",
            "120/120 [==============================] - 36s 297ms/step - loss: 0.0014\n",
            "Epoch 39/50\n",
            "120/120 [==============================] - 36s 296ms/step - loss: 0.0013\n",
            "Epoch 40/50\n",
            "120/120 [==============================] - 35s 296ms/step - loss: 0.0014\n",
            "Epoch 41/50\n",
            "120/120 [==============================] - 35s 293ms/step - loss: 0.0015\n",
            "Epoch 42/50\n",
            "120/120 [==============================] - 35s 294ms/step - loss: 0.0014\n",
            "Epoch 43/50\n",
            "120/120 [==============================] - 36s 296ms/step - loss: 0.0016\n",
            "Epoch 44/50\n",
            "120/120 [==============================] - 35s 294ms/step - loss: 0.0015\n",
            "Epoch 45/50\n",
            "120/120 [==============================] - 36s 300ms/step - loss: 0.0014\n",
            "Epoch 46/50\n",
            "120/120 [==============================] - 36s 298ms/step - loss: 0.0016\n",
            "Epoch 47/50\n",
            "120/120 [==============================] - 36s 297ms/step - loss: 0.0016\n",
            "Epoch 48/50\n",
            "120/120 [==============================] - 36s 297ms/step - loss: 0.0014\n",
            "Epoch 49/50\n",
            "120/120 [==============================] - 35s 295ms/step - loss: 0.0014\n",
            "Epoch 50/50\n",
            "120/120 [==============================] - 36s 299ms/step - loss: 0.0019\n"
          ],
          "name": "stdout"
        },
        {
          "output_type": "execute_result",
          "data": {
            "text/plain": [
              "<tensorflow.python.keras.callbacks.History at 0x7f588875bcc0>"
            ]
          },
          "metadata": {
            "tags": []
          },
          "execution_count": 92
        }
      ]
    },
    {
      "cell_type": "markdown",
      "metadata": {
        "id": "FZ30wWnr2Inp"
      },
      "source": [
        "## Preparing test dataset"
      ]
    },
    {
      "cell_type": "code",
      "metadata": {
        "id": "Yt280v3iij5z",
        "outputId": "94203ecf-c7f3-4365-852d-d6e641657b85",
        "colab": {
          "base_uri": "https://localhost:8080/",
          "height": 204
        }
      },
      "source": [
        "data_test.head()"
      ],
      "execution_count": 93,
      "outputs": [
        {
          "output_type": "execute_result",
          "data": {
            "text/html": [
              "<div>\n",
              "<style scoped>\n",
              "    .dataframe tbody tr th:only-of-type {\n",
              "        vertical-align: middle;\n",
              "    }\n",
              "\n",
              "    .dataframe tbody tr th {\n",
              "        vertical-align: top;\n",
              "    }\n",
              "\n",
              "    .dataframe thead th {\n",
              "        text-align: right;\n",
              "    }\n",
              "</style>\n",
              "<table border=\"1\" class=\"dataframe\">\n",
              "  <thead>\n",
              "    <tr style=\"text-align: right;\">\n",
              "      <th></th>\n",
              "      <th>Date</th>\n",
              "      <th>Open</th>\n",
              "      <th>High</th>\n",
              "      <th>Low</th>\n",
              "      <th>Close</th>\n",
              "      <th>Adj Close</th>\n",
              "      <th>Volume</th>\n",
              "    </tr>\n",
              "  </thead>\n",
              "  <tbody>\n",
              "    <tr>\n",
              "      <th>3869</th>\n",
              "      <td>2020-01-02</td>\n",
              "      <td>1341.550049</td>\n",
              "      <td>1368.140015</td>\n",
              "      <td>1341.550049</td>\n",
              "      <td>1367.369995</td>\n",
              "      <td>1367.369995</td>\n",
              "      <td>1406600</td>\n",
              "    </tr>\n",
              "    <tr>\n",
              "      <th>3870</th>\n",
              "      <td>2020-01-03</td>\n",
              "      <td>1347.859985</td>\n",
              "      <td>1372.500000</td>\n",
              "      <td>1345.543945</td>\n",
              "      <td>1360.660034</td>\n",
              "      <td>1360.660034</td>\n",
              "      <td>1186400</td>\n",
              "    </tr>\n",
              "    <tr>\n",
              "      <th>3871</th>\n",
              "      <td>2020-01-06</td>\n",
              "      <td>1350.000000</td>\n",
              "      <td>1396.500000</td>\n",
              "      <td>1350.000000</td>\n",
              "      <td>1394.209961</td>\n",
              "      <td>1394.209961</td>\n",
              "      <td>1732300</td>\n",
              "    </tr>\n",
              "    <tr>\n",
              "      <th>3872</th>\n",
              "      <td>2020-01-07</td>\n",
              "      <td>1397.939941</td>\n",
              "      <td>1402.989990</td>\n",
              "      <td>1390.380005</td>\n",
              "      <td>1393.339966</td>\n",
              "      <td>1393.339966</td>\n",
              "      <td>1502700</td>\n",
              "    </tr>\n",
              "    <tr>\n",
              "      <th>3873</th>\n",
              "      <td>2020-01-08</td>\n",
              "      <td>1392.079956</td>\n",
              "      <td>1411.579956</td>\n",
              "      <td>1390.839966</td>\n",
              "      <td>1404.319946</td>\n",
              "      <td>1404.319946</td>\n",
              "      <td>1528000</td>\n",
              "    </tr>\n",
              "  </tbody>\n",
              "</table>\n",
              "</div>"
            ],
            "text/plain": [
              "            Date         Open         High  ...        Close    Adj Close   Volume\n",
              "3869  2020-01-02  1341.550049  1368.140015  ...  1367.369995  1367.369995  1406600\n",
              "3870  2020-01-03  1347.859985  1372.500000  ...  1360.660034  1360.660034  1186400\n",
              "3871  2020-01-06  1350.000000  1396.500000  ...  1394.209961  1394.209961  1732300\n",
              "3872  2020-01-07  1397.939941  1402.989990  ...  1393.339966  1393.339966  1502700\n",
              "3873  2020-01-08  1392.079956  1411.579956  ...  1404.319946  1404.319946  1528000\n",
              "\n",
              "[5 rows x 7 columns]"
            ]
          },
          "metadata": {
            "tags": []
          },
          "execution_count": 93
        }
      ]
    },
    {
      "cell_type": "code",
      "metadata": {
        "id": "jyjQxtWYikfo"
      },
      "source": [
        "past_60_days= data_training.tail(60)"
      ],
      "execution_count": 94,
      "outputs": []
    },
    {
      "cell_type": "code",
      "metadata": {
        "id": "6FF0KQ3zikjc",
        "outputId": "be7929c8-ca78-42f9-f494-599811463cf7",
        "colab": {
          "base_uri": "https://localhost:8080/",
          "height": 419
        }
      },
      "source": [
        "df = past_60_days.append(data_test, ignore_index=True)\n",
        "df"
      ],
      "execution_count": 95,
      "outputs": [
        {
          "output_type": "execute_result",
          "data": {
            "text/html": [
              "<div>\n",
              "<style scoped>\n",
              "    .dataframe tbody tr th:only-of-type {\n",
              "        vertical-align: middle;\n",
              "    }\n",
              "\n",
              "    .dataframe tbody tr th {\n",
              "        vertical-align: top;\n",
              "    }\n",
              "\n",
              "    .dataframe thead th {\n",
              "        text-align: right;\n",
              "    }\n",
              "</style>\n",
              "<table border=\"1\" class=\"dataframe\">\n",
              "  <thead>\n",
              "    <tr style=\"text-align: right;\">\n",
              "      <th></th>\n",
              "      <th>Date</th>\n",
              "      <th>Open</th>\n",
              "      <th>High</th>\n",
              "      <th>Low</th>\n",
              "      <th>Close</th>\n",
              "      <th>Adj Close</th>\n",
              "      <th>Volume</th>\n",
              "    </tr>\n",
              "  </thead>\n",
              "  <tbody>\n",
              "    <tr>\n",
              "      <th>0</th>\n",
              "      <td>2019-10-07</td>\n",
              "      <td>1204.400024</td>\n",
              "      <td>1218.203979</td>\n",
              "      <td>1203.750000</td>\n",
              "      <td>1207.680054</td>\n",
              "      <td>1207.680054</td>\n",
              "      <td>842900</td>\n",
              "    </tr>\n",
              "    <tr>\n",
              "      <th>1</th>\n",
              "      <td>2019-10-08</td>\n",
              "      <td>1197.589966</td>\n",
              "      <td>1206.079956</td>\n",
              "      <td>1189.010010</td>\n",
              "      <td>1189.130005</td>\n",
              "      <td>1189.130005</td>\n",
              "      <td>1039300</td>\n",
              "    </tr>\n",
              "    <tr>\n",
              "      <th>2</th>\n",
              "      <td>2019-10-09</td>\n",
              "      <td>1199.349976</td>\n",
              "      <td>1208.349976</td>\n",
              "      <td>1197.630005</td>\n",
              "      <td>1202.310059</td>\n",
              "      <td>1202.310059</td>\n",
              "      <td>867700</td>\n",
              "    </tr>\n",
              "    <tr>\n",
              "      <th>3</th>\n",
              "      <td>2019-10-10</td>\n",
              "      <td>1198.579956</td>\n",
              "      <td>1215.000000</td>\n",
              "      <td>1197.339966</td>\n",
              "      <td>1208.670044</td>\n",
              "      <td>1208.670044</td>\n",
              "      <td>846600</td>\n",
              "    </tr>\n",
              "    <tr>\n",
              "      <th>4</th>\n",
              "      <td>2019-10-11</td>\n",
              "      <td>1222.209961</td>\n",
              "      <td>1228.390015</td>\n",
              "      <td>1213.739990</td>\n",
              "      <td>1215.449951</td>\n",
              "      <td>1215.449951</td>\n",
              "      <td>1272700</td>\n",
              "    </tr>\n",
              "    <tr>\n",
              "      <th>...</th>\n",
              "      <td>...</td>\n",
              "      <td>...</td>\n",
              "      <td>...</td>\n",
              "      <td>...</td>\n",
              "      <td>...</td>\n",
              "      <td>...</td>\n",
              "      <td>...</td>\n",
              "    </tr>\n",
              "    <tr>\n",
              "      <th>243</th>\n",
              "      <td>2020-09-23</td>\n",
              "      <td>1458.780029</td>\n",
              "      <td>1460.959961</td>\n",
              "      <td>1407.699951</td>\n",
              "      <td>1415.209961</td>\n",
              "      <td>1415.209961</td>\n",
              "      <td>1657400</td>\n",
              "    </tr>\n",
              "    <tr>\n",
              "      <th>244</th>\n",
              "      <td>2020-09-24</td>\n",
              "      <td>1411.030029</td>\n",
              "      <td>1443.708984</td>\n",
              "      <td>1409.849976</td>\n",
              "      <td>1428.290039</td>\n",
              "      <td>1428.290039</td>\n",
              "      <td>1450200</td>\n",
              "    </tr>\n",
              "    <tr>\n",
              "      <th>245</th>\n",
              "      <td>2020-09-25</td>\n",
              "      <td>1432.630005</td>\n",
              "      <td>1450.000000</td>\n",
              "      <td>1413.339966</td>\n",
              "      <td>1444.959961</td>\n",
              "      <td>1444.959961</td>\n",
              "      <td>1323000</td>\n",
              "    </tr>\n",
              "    <tr>\n",
              "      <th>246</th>\n",
              "      <td>2020-09-28</td>\n",
              "      <td>1474.209961</td>\n",
              "      <td>1476.800049</td>\n",
              "      <td>1449.301025</td>\n",
              "      <td>1464.520020</td>\n",
              "      <td>1464.520020</td>\n",
              "      <td>2007900</td>\n",
              "    </tr>\n",
              "    <tr>\n",
              "      <th>247</th>\n",
              "      <td>2020-09-29</td>\n",
              "      <td>1470.390015</td>\n",
              "      <td>1476.662964</td>\n",
              "      <td>1458.805054</td>\n",
              "      <td>1469.329956</td>\n",
              "      <td>1469.329956</td>\n",
              "      <td>978200</td>\n",
              "    </tr>\n",
              "  </tbody>\n",
              "</table>\n",
              "<p>248 rows × 7 columns</p>\n",
              "</div>"
            ],
            "text/plain": [
              "           Date         Open         High  ...        Close    Adj Close   Volume\n",
              "0    2019-10-07  1204.400024  1218.203979  ...  1207.680054  1207.680054   842900\n",
              "1    2019-10-08  1197.589966  1206.079956  ...  1189.130005  1189.130005  1039300\n",
              "2    2019-10-09  1199.349976  1208.349976  ...  1202.310059  1202.310059   867700\n",
              "3    2019-10-10  1198.579956  1215.000000  ...  1208.670044  1208.670044   846600\n",
              "4    2019-10-11  1222.209961  1228.390015  ...  1215.449951  1215.449951  1272700\n",
              "..          ...          ...          ...  ...          ...          ...      ...\n",
              "243  2020-09-23  1458.780029  1460.959961  ...  1415.209961  1415.209961  1657400\n",
              "244  2020-09-24  1411.030029  1443.708984  ...  1428.290039  1428.290039  1450200\n",
              "245  2020-09-25  1432.630005  1450.000000  ...  1444.959961  1444.959961  1323000\n",
              "246  2020-09-28  1474.209961  1476.800049  ...  1464.520020  1464.520020  2007900\n",
              "247  2020-09-29  1470.390015  1476.662964  ...  1469.329956  1469.329956   978200\n",
              "\n",
              "[248 rows x 7 columns]"
            ]
          },
          "metadata": {
            "tags": []
          },
          "execution_count": 95
        }
      ]
    },
    {
      "cell_type": "code",
      "metadata": {
        "id": "V3RxBLnqikna",
        "outputId": "0b10c92f-b475-430c-8d31-24e341285ec5",
        "colab": {
          "base_uri": "https://localhost:8080/",
          "height": 204
        }
      },
      "source": [
        "df = df.drop(['Date','Adj Close'],axis =1)\n",
        "df.head()"
      ],
      "execution_count": 96,
      "outputs": [
        {
          "output_type": "execute_result",
          "data": {
            "text/html": [
              "<div>\n",
              "<style scoped>\n",
              "    .dataframe tbody tr th:only-of-type {\n",
              "        vertical-align: middle;\n",
              "    }\n",
              "\n",
              "    .dataframe tbody tr th {\n",
              "        vertical-align: top;\n",
              "    }\n",
              "\n",
              "    .dataframe thead th {\n",
              "        text-align: right;\n",
              "    }\n",
              "</style>\n",
              "<table border=\"1\" class=\"dataframe\">\n",
              "  <thead>\n",
              "    <tr style=\"text-align: right;\">\n",
              "      <th></th>\n",
              "      <th>Open</th>\n",
              "      <th>High</th>\n",
              "      <th>Low</th>\n",
              "      <th>Close</th>\n",
              "      <th>Volume</th>\n",
              "    </tr>\n",
              "  </thead>\n",
              "  <tbody>\n",
              "    <tr>\n",
              "      <th>0</th>\n",
              "      <td>1204.400024</td>\n",
              "      <td>1218.203979</td>\n",
              "      <td>1203.750000</td>\n",
              "      <td>1207.680054</td>\n",
              "      <td>842900</td>\n",
              "    </tr>\n",
              "    <tr>\n",
              "      <th>1</th>\n",
              "      <td>1197.589966</td>\n",
              "      <td>1206.079956</td>\n",
              "      <td>1189.010010</td>\n",
              "      <td>1189.130005</td>\n",
              "      <td>1039300</td>\n",
              "    </tr>\n",
              "    <tr>\n",
              "      <th>2</th>\n",
              "      <td>1199.349976</td>\n",
              "      <td>1208.349976</td>\n",
              "      <td>1197.630005</td>\n",
              "      <td>1202.310059</td>\n",
              "      <td>867700</td>\n",
              "    </tr>\n",
              "    <tr>\n",
              "      <th>3</th>\n",
              "      <td>1198.579956</td>\n",
              "      <td>1215.000000</td>\n",
              "      <td>1197.339966</td>\n",
              "      <td>1208.670044</td>\n",
              "      <td>846600</td>\n",
              "    </tr>\n",
              "    <tr>\n",
              "      <th>4</th>\n",
              "      <td>1222.209961</td>\n",
              "      <td>1228.390015</td>\n",
              "      <td>1213.739990</td>\n",
              "      <td>1215.449951</td>\n",
              "      <td>1272700</td>\n",
              "    </tr>\n",
              "  </tbody>\n",
              "</table>\n",
              "</div>"
            ],
            "text/plain": [
              "          Open         High          Low        Close   Volume\n",
              "0  1204.400024  1218.203979  1203.750000  1207.680054   842900\n",
              "1  1197.589966  1206.079956  1189.010010  1189.130005  1039300\n",
              "2  1199.349976  1208.349976  1197.630005  1202.310059   867700\n",
              "3  1198.579956  1215.000000  1197.339966  1208.670044   846600\n",
              "4  1222.209961  1228.390015  1213.739990  1215.449951  1272700"
            ]
          },
          "metadata": {
            "tags": []
          },
          "execution_count": 96
        }
      ]
    },
    {
      "cell_type": "code",
      "metadata": {
        "id": "5GO-MIarikvB",
        "outputId": "082d5ab7-c74a-4a17-9796-ba7d081f5bdf",
        "colab": {
          "base_uri": "https://localhost:8080/",
          "height": 136
        }
      },
      "source": [
        "inputs = scaler.transform(df)\n",
        "inputs"
      ],
      "execution_count": 97,
      "outputs": [
        {
          "output_type": "execute_result",
          "data": {
            "text/plain": [
              "array([[0.87902801, 0.88831029, 0.88587359, 0.88295285, 0.01011709],\n",
              "       [0.87384509, 0.87908573, 0.87457744, 0.8688071 , 0.01249673],\n",
              "       [0.87518458, 0.88081287, 0.88118346, 0.87885784, 0.01041758],\n",
              "       ...,\n",
              "       [1.05272693, 1.06467223, 1.04649502, 1.06389584, 0.01593412],\n",
              "       [1.08437217, 1.08506304, 1.07405415, 1.07881179, 0.02423255],\n",
              "       [1.08146493, 1.08495874, 1.08133766, 1.08247971, 0.01175642]])"
            ]
          },
          "metadata": {
            "tags": []
          },
          "execution_count": 97
        }
      ]
    },
    {
      "cell_type": "code",
      "metadata": {
        "id": "TVM3OHZUnmJL",
        "outputId": "bd75f71e-6320-4648-d071-3668c3dc3295",
        "colab": {
          "base_uri": "https://localhost:8080/",
          "height": 34
        }
      },
      "source": [
        "inputs.shape"
      ],
      "execution_count": 98,
      "outputs": [
        {
          "output_type": "execute_result",
          "data": {
            "text/plain": [
              "(248, 5)"
            ]
          },
          "metadata": {
            "tags": []
          },
          "execution_count": 98
        }
      ]
    },
    {
      "cell_type": "code",
      "metadata": {
        "id": "Fn9jDpqrikzd"
      },
      "source": [
        "x_test = []\n",
        "y_test = []\n",
        "\n",
        "for i in range (60,inputs.shape[0]):\n",
        "  x_test.append(inputs[i-60:i])\n",
        "  y_test.append(inputs[i,0])"
      ],
      "execution_count": 99,
      "outputs": []
    },
    {
      "cell_type": "code",
      "metadata": {
        "id": "tuCCSPSUohFr"
      },
      "source": [
        "x_test = np.array(x_test)\n",
        "y_test = np.array(y_test)"
      ],
      "execution_count": 100,
      "outputs": []
    },
    {
      "cell_type": "code",
      "metadata": {
        "id": "zh_79AqrotzY",
        "outputId": "c5ae38b7-567c-468b-81eb-5f6b2cf9a5f4",
        "colab": {
          "base_uri": "https://localhost:8080/",
          "height": 34
        }
      },
      "source": [
        "x_test.shape , y_test.shape"
      ],
      "execution_count": 101,
      "outputs": [
        {
          "output_type": "execute_result",
          "data": {
            "text/plain": [
              "((188, 60, 5), (188,))"
            ]
          },
          "metadata": {
            "tags": []
          },
          "execution_count": 101
        }
      ]
    },
    {
      "cell_type": "code",
      "metadata": {
        "id": "9T61l0ZIo1Do",
        "outputId": "95504ea0-542c-461f-dc96-a9b01c90323c",
        "colab": {
          "base_uri": "https://localhost:8080/",
          "height": 1000
        }
      },
      "source": [
        "y_pred = regressor.predict(x_test)\n",
        "y_pred"
      ],
      "execution_count": 102,
      "outputs": [
        {
          "output_type": "execute_result",
          "data": {
            "text/plain": [
              "array([[0.94882894],\n",
              "       [0.9494113 ],\n",
              "       [0.9499732 ],\n",
              "       [0.950701  ],\n",
              "       [0.9518392 ],\n",
              "       [0.95349634],\n",
              "       [0.9557513 ],\n",
              "       [0.9586042 ],\n",
              "       [0.9619807 ],\n",
              "       [0.9657233 ],\n",
              "       [0.9696555 ],\n",
              "       [0.9737036 ],\n",
              "       [0.9779284 ],\n",
              "       [0.9824027 ],\n",
              "       [0.98714864],\n",
              "       [0.99206805],\n",
              "       [0.9969275 ],\n",
              "       [1.0012676 ],\n",
              "       [1.0048528 ],\n",
              "       [1.0078396 ],\n",
              "       [1.0103312 ],\n",
              "       [1.0123559 ],\n",
              "       [1.0141146 ],\n",
              "       [1.015692  ],\n",
              "       [1.0170094 ],\n",
              "       [1.0182251 ],\n",
              "       [1.0195069 ],\n",
              "       [1.0210109 ],\n",
              "       [1.0229112 ],\n",
              "       [1.0252593 ],\n",
              "       [1.027959  ],\n",
              "       [1.0308748 ],\n",
              "       [1.033895  ],\n",
              "       [1.0369668 ],\n",
              "       [1.0400159 ],\n",
              "       [1.0428311 ],\n",
              "       [1.0449398 ],\n",
              "       [1.045826  ],\n",
              "       [1.045451  ],\n",
              "       [1.0437732 ],\n",
              "       [1.0405958 ],\n",
              "       [1.0361854 ],\n",
              "       [1.0311061 ],\n",
              "       [1.0257071 ],\n",
              "       [1.0201259 ],\n",
              "       [1.0141141 ],\n",
              "       [1.0072228 ],\n",
              "       [0.9993993 ],\n",
              "       [0.9907954 ],\n",
              "       [0.9810368 ],\n",
              "       [0.97023463],\n",
              "       [0.9583367 ],\n",
              "       [0.94536674],\n",
              "       [0.93143356],\n",
              "       [0.91693246],\n",
              "       [0.9022776 ],\n",
              "       [0.88752055],\n",
              "       [0.8731973 ],\n",
              "       [0.85976183],\n",
              "       [0.8476834 ],\n",
              "       [0.8371661 ],\n",
              "       [0.82834446],\n",
              "       [0.8214083 ],\n",
              "       [0.8158611 ],\n",
              "       [0.811265  ],\n",
              "       [0.8072125 ],\n",
              "       [0.8040993 ],\n",
              "       [0.802503  ],\n",
              "       [0.8026291 ],\n",
              "       [0.80437136],\n",
              "       [0.80733955],\n",
              "       [0.8116087 ],\n",
              "       [0.8170053 ],\n",
              "       [0.8231685 ],\n",
              "       [0.8299309 ],\n",
              "       [0.83688784],\n",
              "       [0.84323335],\n",
              "       [0.8488848 ],\n",
              "       [0.85407996],\n",
              "       [0.85886204],\n",
              "       [0.86336744],\n",
              "       [0.86734474],\n",
              "       [0.87148154],\n",
              "       [0.87617207],\n",
              "       [0.8813021 ],\n",
              "       [0.88653183],\n",
              "       [0.8919053 ],\n",
              "       [0.89744735],\n",
              "       [0.9031553 ],\n",
              "       [0.9090985 ],\n",
              "       [0.91527927],\n",
              "       [0.9215082 ],\n",
              "       [0.9272791 ],\n",
              "       [0.9322021 ],\n",
              "       [0.9363009 ],\n",
              "       [0.9398248 ],\n",
              "       [0.9430224 ],\n",
              "       [0.9461664 ],\n",
              "       [0.94942415],\n",
              "       [0.9528023 ],\n",
              "       [0.9563639 ],\n",
              "       [0.9600141 ],\n",
              "       [0.9636289 ],\n",
              "       [0.9671836 ],\n",
              "       [0.97068846],\n",
              "       [0.9741471 ],\n",
              "       [0.9775642 ],\n",
              "       [0.9807942 ],\n",
              "       [0.9837464 ],\n",
              "       [0.9864961 ],\n",
              "       [0.9892055 ],\n",
              "       [0.9920306 ],\n",
              "       [0.99474025],\n",
              "       [0.9970057 ],\n",
              "       [0.9987204 ],\n",
              "       [1.0000726 ],\n",
              "       [1.0013548 ],\n",
              "       [1.0026368 ],\n",
              "       [1.0038477 ],\n",
              "       [1.00499   ],\n",
              "       [1.0062258 ],\n",
              "       [1.0075705 ],\n",
              "       [1.0088562 ],\n",
              "       [1.0096743 ],\n",
              "       [1.0096781 ],\n",
              "       [1.0090511 ],\n",
              "       [1.008192  ],\n",
              "       [1.0075939 ],\n",
              "       [1.0077156 ],\n",
              "       [1.0087459 ],\n",
              "       [1.010597  ],\n",
              "       [1.0131215 ],\n",
              "       [1.0162296 ],\n",
              "       [1.0198408 ],\n",
              "       [1.0236816 ],\n",
              "       [1.0274848 ],\n",
              "       [1.031126  ],\n",
              "       [1.034507  ],\n",
              "       [1.0377637 ],\n",
              "       [1.0411732 ],\n",
              "       [1.0448489 ],\n",
              "       [1.0485941 ],\n",
              "       [1.0520272 ],\n",
              "       [1.0549647 ],\n",
              "       [1.0574868 ],\n",
              "       [1.0595301 ],\n",
              "       [1.061234  ],\n",
              "       [1.0625447 ],\n",
              "       [1.0632546 ],\n",
              "       [1.0634149 ],\n",
              "       [1.0630782 ],\n",
              "       [1.0624057 ],\n",
              "       [1.0616264 ],\n",
              "       [1.0608805 ],\n",
              "       [1.0601757 ],\n",
              "       [1.0595399 ],\n",
              "       [1.059103  ],\n",
              "       [1.058969  ],\n",
              "       [1.0590769 ],\n",
              "       [1.0594969 ],\n",
              "       [1.0603712 ],\n",
              "       [1.0617261 ],\n",
              "       [1.0635848 ],\n",
              "       [1.0659549 ],\n",
              "       [1.068784  ],\n",
              "       [1.0720028 ],\n",
              "       [1.075704  ],\n",
              "       [1.0798218 ],\n",
              "       [1.0842083 ],\n",
              "       [1.0886904 ],\n",
              "       [1.0932482 ],\n",
              "       [1.0982127 ],\n",
              "       [1.103128  ],\n",
              "       [1.1074997 ],\n",
              "       [1.1108047 ],\n",
              "       [1.1132433 ],\n",
              "       [1.1148272 ],\n",
              "       [1.1155785 ],\n",
              "       [1.1156225 ],\n",
              "       [1.1151986 ],\n",
              "       [1.1143842 ],\n",
              "       [1.1129202 ],\n",
              "       [1.1106918 ],\n",
              "       [1.1074998 ],\n",
              "       [1.103635  ],\n",
              "       [1.0990505 ],\n",
              "       [1.093955  ],\n",
              "       [1.0886028 ]], dtype=float32)"
            ]
          },
          "metadata": {
            "tags": []
          },
          "execution_count": 102
        }
      ]
    },
    {
      "cell_type": "code",
      "metadata": {
        "id": "d0kRz4BIt2Ej",
        "outputId": "c7698f6c-774d-41f6-d6b5-55003d50c9ed",
        "colab": {
          "base_uri": "https://localhost:8080/",
          "height": 51
        }
      },
      "source": [
        "scaler.scale_"
      ],
      "execution_count": 103,
      "outputs": [
        {
          "output_type": "execute_result",
          "data": {
            "text/plain": [
              "array([7.61069658e-04, 7.60849739e-04, 7.66360329e-04, 7.62571888e-04,\n",
              "       1.21162775e-08])"
            ]
          },
          "metadata": {
            "tags": []
          },
          "execution_count": 103
        }
      ]
    },
    {
      "cell_type": "code",
      "metadata": {
        "id": "PnRo0ckDuPUg",
        "outputId": "20e945b4-1748-4899-ed9d-ae2fbfd87f79",
        "colab": {
          "base_uri": "https://localhost:8080/",
          "height": 34
        }
      },
      "source": [
        "scale = 1/7.61069658e-04\n",
        "scale"
      ],
      "execution_count": 104,
      "outputs": [
        {
          "output_type": "execute_result",
          "data": {
            "text/plain": [
              "1313.940175499678"
            ]
          },
          "metadata": {
            "tags": []
          },
          "execution_count": 104
        }
      ]
    },
    {
      "cell_type": "code",
      "metadata": {
        "id": "Hozd4hlVulmY"
      },
      "source": [
        "y_pred = y_pred*scale\n",
        "y_test = y_test*scale"
      ],
      "execution_count": 105,
      "outputs": []
    },
    {
      "cell_type": "code",
      "metadata": {
        "id": "oZBUPwhlv8Kh"
      },
      "source": [
        "y = y_test\n",
        "y_bar = y_pred"
      ],
      "execution_count": 106,
      "outputs": []
    },
    {
      "cell_type": "code",
      "metadata": {
        "id": "SjrqHPRnwBPh",
        "outputId": "872a358d-4528-42cb-9868-e1ff09057aa1",
        "colab": {
          "base_uri": "https://localhost:8080/",
          "height": 419
        }
      },
      "source": [
        "df1 = pd.DataFrame(y)\n",
        "df2 = pd.DataFrame(y_bar)\n",
        "\n",
        "df3 =pd.concat([df1,df2],axis=1)\n",
        "df3.columns = ['Actual_Value','predicted_value']\n",
        "df3"
      ],
      "execution_count": 107,
      "outputs": [
        {
          "output_type": "execute_result",
          "data": {
            "text/html": [
              "<div>\n",
              "<style scoped>\n",
              "    .dataframe tbody tr th:only-of-type {\n",
              "        vertical-align: middle;\n",
              "    }\n",
              "\n",
              "    .dataframe tbody tr th {\n",
              "        vertical-align: top;\n",
              "    }\n",
              "\n",
              "    .dataframe thead th {\n",
              "        text-align: right;\n",
              "    }\n",
              "</style>\n",
              "<table border=\"1\" class=\"dataframe\">\n",
              "  <thead>\n",
              "    <tr style=\"text-align: right;\">\n",
              "      <th></th>\n",
              "      <th>Actual_Value</th>\n",
              "      <th>predicted_value</th>\n",
              "    </tr>\n",
              "  </thead>\n",
              "  <tbody>\n",
              "    <tr>\n",
              "      <th>0</th>\n",
              "      <td>1292.140248</td>\n",
              "      <td>1246.704468</td>\n",
              "    </tr>\n",
              "    <tr>\n",
              "      <th>1</th>\n",
              "      <td>1298.450184</td>\n",
              "      <td>1247.469604</td>\n",
              "    </tr>\n",
              "    <tr>\n",
              "      <th>2</th>\n",
              "      <td>1300.590199</td>\n",
              "      <td>1248.208008</td>\n",
              "    </tr>\n",
              "    <tr>\n",
              "      <th>3</th>\n",
              "      <td>1348.530141</td>\n",
              "      <td>1249.164307</td>\n",
              "    </tr>\n",
              "    <tr>\n",
              "      <th>4</th>\n",
              "      <td>1342.670156</td>\n",
              "      <td>1250.659790</td>\n",
              "    </tr>\n",
              "    <tr>\n",
              "      <th>...</th>\n",
              "      <td>...</td>\n",
              "      <td>...</td>\n",
              "    </tr>\n",
              "    <tr>\n",
              "      <th>183</th>\n",
              "      <td>1409.370229</td>\n",
              "      <td>1455.188599</td>\n",
              "    </tr>\n",
              "    <tr>\n",
              "      <th>184</th>\n",
              "      <td>1361.620229</td>\n",
              "      <td>1450.110352</td>\n",
              "    </tr>\n",
              "    <tr>\n",
              "      <th>185</th>\n",
              "      <td>1383.220205</td>\n",
              "      <td>1444.086670</td>\n",
              "    </tr>\n",
              "    <tr>\n",
              "      <th>186</th>\n",
              "      <td>1424.800161</td>\n",
              "      <td>1437.391479</td>\n",
              "    </tr>\n",
              "    <tr>\n",
              "      <th>187</th>\n",
              "      <td>1420.980215</td>\n",
              "      <td>1430.358887</td>\n",
              "    </tr>\n",
              "  </tbody>\n",
              "</table>\n",
              "<p>188 rows × 2 columns</p>\n",
              "</div>"
            ],
            "text/plain": [
              "     Actual_Value  predicted_value\n",
              "0     1292.140248      1246.704468\n",
              "1     1298.450184      1247.469604\n",
              "2     1300.590199      1248.208008\n",
              "3     1348.530141      1249.164307\n",
              "4     1342.670156      1250.659790\n",
              "..            ...              ...\n",
              "183   1409.370229      1455.188599\n",
              "184   1361.620229      1450.110352\n",
              "185   1383.220205      1444.086670\n",
              "186   1424.800161      1437.391479\n",
              "187   1420.980215      1430.358887\n",
              "\n",
              "[188 rows x 2 columns]"
            ]
          },
          "metadata": {
            "tags": []
          },
          "execution_count": 107
        }
      ]
    },
    {
      "cell_type": "code",
      "metadata": {
        "id": "hp-b7IWIw5iw",
        "outputId": "d718538a-caef-4e62-9132-85277db7a2c9",
        "colab": {
          "base_uri": "https://localhost:8080/",
          "height": 390
        }
      },
      "source": [
        "fig = plt.figure(figsize=(12,6))\n",
        "plt.plot(y_test,color = 'red')\n",
        "plt.plot(y_pred,color = 'green')\n",
        "plt.legend(['Actual','Predicted'])\n",
        "plt.title('Goosle Stock Price Prediction')\n",
        "plt.show()"
      ],
      "execution_count": 108,
      "outputs": [
        {
          "output_type": "display_data",
          "data": {
            "image/png": "[encoded data removed]",
            "text/plain": [
              "<Figure size 864x432 with 1 Axes>"
            ]
          },
          "metadata": {
            "tags": [],
            "needs_background": "light"
          }
        }
      ]
    },
    {
      "cell_type": "code",
      "metadata": {
        "id": "QA2dBghrBQ-R"
      },
      "source": [
        ""
      ],
      "execution_count": null,
      "outputs": []
    }
  ]
}