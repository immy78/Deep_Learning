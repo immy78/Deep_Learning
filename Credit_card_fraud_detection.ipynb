{
 "cells": [
  {
   "cell_type": "markdown",
   "metadata": {},
   "source": [
    "## Fraud detection by CNN"
   ]
  },
  {
   "cell_type": "code",
   "execution_count": 1,
   "metadata": {},
   "outputs": [],
   "source": [
    "import numpy as np\n",
    "import pandas as pd\n",
    "import matplotlib.pyplot as plt\n",
    "import seaborn as sns\n",
    "%matplotlib inline"
   ]
  },
  {
   "cell_type": "code",
   "execution_count": 2,
   "metadata": {},
   "outputs": [
    {
     "data": {
      "text/html": [
       "<div>\n",
       "<style scoped>\n",
       "    .dataframe tbody tr th:only-of-type {\n",
       "        vertical-align: middle;\n",
       "    }\n",
       "\n",
       "    .dataframe tbody tr th {\n",
       "        vertical-align: top;\n",
       "    }\n",
       "\n",
       "    .dataframe thead th {\n",
       "        text-align: right;\n",
       "    }\n",
       "</style>\n",
       "<table border=\"1\" class=\"dataframe\">\n",
       "  <thead>\n",
       "    <tr style=\"text-align: right;\">\n",
       "      <th></th>\n",
       "      <th>Time</th>\n",
       "      <th>V1</th>\n",
       "      <th>V2</th>\n",
       "      <th>V3</th>\n",
       "      <th>V4</th>\n",
       "      <th>V5</th>\n",
       "      <th>V6</th>\n",
       "      <th>V7</th>\n",
       "      <th>V8</th>\n",
       "      <th>V9</th>\n",
       "      <th>...</th>\n",
       "      <th>V21</th>\n",
       "      <th>V22</th>\n",
       "      <th>V23</th>\n",
       "      <th>V24</th>\n",
       "      <th>V25</th>\n",
       "      <th>V26</th>\n",
       "      <th>V27</th>\n",
       "      <th>V28</th>\n",
       "      <th>Amount</th>\n",
       "      <th>Class</th>\n",
       "    </tr>\n",
       "  </thead>\n",
       "  <tbody>\n",
       "    <tr>\n",
       "      <th>0</th>\n",
       "      <td>0.0</td>\n",
       "      <td>-1.359807</td>\n",
       "      <td>-0.072781</td>\n",
       "      <td>2.536347</td>\n",
       "      <td>1.378155</td>\n",
       "      <td>-0.338321</td>\n",
       "      <td>0.462388</td>\n",
       "      <td>0.239599</td>\n",
       "      <td>0.098698</td>\n",
       "      <td>0.363787</td>\n",
       "      <td>...</td>\n",
       "      <td>-0.018307</td>\n",
       "      <td>0.277838</td>\n",
       "      <td>-0.110474</td>\n",
       "      <td>0.066928</td>\n",
       "      <td>0.128539</td>\n",
       "      <td>-0.189115</td>\n",
       "      <td>0.133558</td>\n",
       "      <td>-0.021053</td>\n",
       "      <td>149.62</td>\n",
       "      <td>0</td>\n",
       "    </tr>\n",
       "    <tr>\n",
       "      <th>1</th>\n",
       "      <td>0.0</td>\n",
       "      <td>1.191857</td>\n",
       "      <td>0.266151</td>\n",
       "      <td>0.166480</td>\n",
       "      <td>0.448154</td>\n",
       "      <td>0.060018</td>\n",
       "      <td>-0.082361</td>\n",
       "      <td>-0.078803</td>\n",
       "      <td>0.085102</td>\n",
       "      <td>-0.255425</td>\n",
       "      <td>...</td>\n",
       "      <td>-0.225775</td>\n",
       "      <td>-0.638672</td>\n",
       "      <td>0.101288</td>\n",
       "      <td>-0.339846</td>\n",
       "      <td>0.167170</td>\n",
       "      <td>0.125895</td>\n",
       "      <td>-0.008983</td>\n",
       "      <td>0.014724</td>\n",
       "      <td>2.69</td>\n",
       "      <td>0</td>\n",
       "    </tr>\n",
       "    <tr>\n",
       "      <th>2</th>\n",
       "      <td>1.0</td>\n",
       "      <td>-1.358354</td>\n",
       "      <td>-1.340163</td>\n",
       "      <td>1.773209</td>\n",
       "      <td>0.379780</td>\n",
       "      <td>-0.503198</td>\n",
       "      <td>1.800499</td>\n",
       "      <td>0.791461</td>\n",
       "      <td>0.247676</td>\n",
       "      <td>-1.514654</td>\n",
       "      <td>...</td>\n",
       "      <td>0.247998</td>\n",
       "      <td>0.771679</td>\n",
       "      <td>0.909412</td>\n",
       "      <td>-0.689281</td>\n",
       "      <td>-0.327642</td>\n",
       "      <td>-0.139097</td>\n",
       "      <td>-0.055353</td>\n",
       "      <td>-0.059752</td>\n",
       "      <td>378.66</td>\n",
       "      <td>0</td>\n",
       "    </tr>\n",
       "    <tr>\n",
       "      <th>3</th>\n",
       "      <td>1.0</td>\n",
       "      <td>-0.966272</td>\n",
       "      <td>-0.185226</td>\n",
       "      <td>1.792993</td>\n",
       "      <td>-0.863291</td>\n",
       "      <td>-0.010309</td>\n",
       "      <td>1.247203</td>\n",
       "      <td>0.237609</td>\n",
       "      <td>0.377436</td>\n",
       "      <td>-1.387024</td>\n",
       "      <td>...</td>\n",
       "      <td>-0.108300</td>\n",
       "      <td>0.005274</td>\n",
       "      <td>-0.190321</td>\n",
       "      <td>-1.175575</td>\n",
       "      <td>0.647376</td>\n",
       "      <td>-0.221929</td>\n",
       "      <td>0.062723</td>\n",
       "      <td>0.061458</td>\n",
       "      <td>123.50</td>\n",
       "      <td>0</td>\n",
       "    </tr>\n",
       "    <tr>\n",
       "      <th>4</th>\n",
       "      <td>2.0</td>\n",
       "      <td>-1.158233</td>\n",
       "      <td>0.877737</td>\n",
       "      <td>1.548718</td>\n",
       "      <td>0.403034</td>\n",
       "      <td>-0.407193</td>\n",
       "      <td>0.095921</td>\n",
       "      <td>0.592941</td>\n",
       "      <td>-0.270533</td>\n",
       "      <td>0.817739</td>\n",
       "      <td>...</td>\n",
       "      <td>-0.009431</td>\n",
       "      <td>0.798278</td>\n",
       "      <td>-0.137458</td>\n",
       "      <td>0.141267</td>\n",
       "      <td>-0.206010</td>\n",
       "      <td>0.502292</td>\n",
       "      <td>0.219422</td>\n",
       "      <td>0.215153</td>\n",
       "      <td>69.99</td>\n",
       "      <td>0</td>\n",
       "    </tr>\n",
       "  </tbody>\n",
       "</table>\n",
       "<p>5 rows × 31 columns</p>\n",
       "</div>"
      ],
      "text/plain": [
       "   Time        V1        V2        V3        V4        V5        V6        V7  \\\n",
       "0   0.0 -1.359807 -0.072781  2.536347  1.378155 -0.338321  0.462388  0.239599   \n",
       "1   0.0  1.191857  0.266151  0.166480  0.448154  0.060018 -0.082361 -0.078803   \n",
       "2   1.0 -1.358354 -1.340163  1.773209  0.379780 -0.503198  1.800499  0.791461   \n",
       "3   1.0 -0.966272 -0.185226  1.792993 -0.863291 -0.010309  1.247203  0.237609   \n",
       "4   2.0 -1.158233  0.877737  1.548718  0.403034 -0.407193  0.095921  0.592941   \n",
       "\n",
       "         V8        V9  ...       V21       V22       V23       V24       V25  \\\n",
       "0  0.098698  0.363787  ... -0.018307  0.277838 -0.110474  0.066928  0.128539   \n",
       "1  0.085102 -0.255425  ... -0.225775 -0.638672  0.101288 -0.339846  0.167170   \n",
       "2  0.247676 -1.514654  ...  0.247998  0.771679  0.909412 -0.689281 -0.327642   \n",
       "3  0.377436 -1.387024  ... -0.108300  0.005274 -0.190321 -1.175575  0.647376   \n",
       "4 -0.270533  0.817739  ... -0.009431  0.798278 -0.137458  0.141267 -0.206010   \n",
       "\n",
       "        V26       V27       V28  Amount  Class  \n",
       "0 -0.189115  0.133558 -0.021053  149.62      0  \n",
       "1  0.125895 -0.008983  0.014724    2.69      0  \n",
       "2 -0.139097 -0.055353 -0.059752  378.66      0  \n",
       "3 -0.221929  0.062723  0.061458  123.50      0  \n",
       "4  0.502292  0.219422  0.215153   69.99      0  \n",
       "\n",
       "[5 rows x 31 columns]"
      ]
     },
     "execution_count": 2,
     "metadata": {},
     "output_type": "execute_result"
    }
   ],
   "source": [
    "df = pd.read_csv('C:/Users/Sony/Desktop/Kaggle data set/Fraud_detection/creditcard.csv')\n",
    "df.head()"
   ]
  },
  {
   "cell_type": "code",
   "execution_count": 3,
   "metadata": {},
   "outputs": [
    {
     "data": {
      "text/plain": [
       "(284807, 31)"
      ]
     },
     "execution_count": 3,
     "metadata": {},
     "output_type": "execute_result"
    }
   ],
   "source": [
    "df.shape"
   ]
  },
  {
   "cell_type": "code",
   "execution_count": 4,
   "metadata": {},
   "outputs": [
    {
     "data": {
      "text/plain": [
       "0    284315\n",
       "1       492\n",
       "Name: Class, dtype: int64"
      ]
     },
     "execution_count": 4,
     "metadata": {},
     "output_type": "execute_result"
    }
   ],
   "source": [
    "df['Class'].value_counts()"
   ]
  },
  {
   "cell_type": "code",
   "execution_count": 6,
   "metadata": {},
   "outputs": [],
   "source": [
    "from tensorflow.keras import Sequential\n",
    "from tensorflow.keras.layers import Conv1D, MaxPooling1D,Dropout,BatchNormalization,Dense,Flatten"
   ]
  },
  {
   "cell_type": "code",
   "execution_count": 7,
   "metadata": {},
   "outputs": [],
   "source": [
    "from sklearn.model_selection import train_test_split\n",
    "from sklearn.preprocessing import StandardScaler"
   ]
  },
  {
   "cell_type": "code",
   "execution_count": 8,
   "metadata": {},
   "outputs": [
    {
     "data": {
      "text/plain": [
       "Time      0\n",
       "V1        0\n",
       "V2        0\n",
       "V3        0\n",
       "V4        0\n",
       "V5        0\n",
       "V6        0\n",
       "V7        0\n",
       "V8        0\n",
       "V9        0\n",
       "V10       0\n",
       "V11       0\n",
       "V12       0\n",
       "V13       0\n",
       "V14       0\n",
       "V15       0\n",
       "V16       0\n",
       "V17       0\n",
       "V18       0\n",
       "V19       0\n",
       "V20       0\n",
       "V21       0\n",
       "V22       0\n",
       "V23       0\n",
       "V24       0\n",
       "V25       0\n",
       "V26       0\n",
       "V27       0\n",
       "V28       0\n",
       "Amount    0\n",
       "Class     0\n",
       "dtype: int64"
      ]
     },
     "execution_count": 8,
     "metadata": {},
     "output_type": "execute_result"
    }
   ],
   "source": [
    "df.isnull().sum()"
   ]
  },
  {
   "cell_type": "code",
   "execution_count": 9,
   "metadata": {},
   "outputs": [
    {
     "name": "stdout",
     "output_type": "stream",
     "text": [
      "<class 'pandas.core.frame.DataFrame'>\n",
      "RangeIndex: 284807 entries, 0 to 284806\n",
      "Data columns (total 31 columns):\n",
      " #   Column  Non-Null Count   Dtype  \n",
      "---  ------  --------------   -----  \n",
      " 0   Time    284807 non-null  float64\n",
      " 1   V1      284807 non-null  float64\n",
      " 2   V2      284807 non-null  float64\n",
      " 3   V3      284807 non-null  float64\n",
      " 4   V4      284807 non-null  float64\n",
      " 5   V5      284807 non-null  float64\n",
      " 6   V6      284807 non-null  float64\n",
      " 7   V7      284807 non-null  float64\n",
      " 8   V8      284807 non-null  float64\n",
      " 9   V9      284807 non-null  float64\n",
      " 10  V10     284807 non-null  float64\n",
      " 11  V11     284807 non-null  float64\n",
      " 12  V12     284807 non-null  float64\n",
      " 13  V13     284807 non-null  float64\n",
      " 14  V14     284807 non-null  float64\n",
      " 15  V15     284807 non-null  float64\n",
      " 16  V16     284807 non-null  float64\n",
      " 17  V17     284807 non-null  float64\n",
      " 18  V18     284807 non-null  float64\n",
      " 19  V19     284807 non-null  float64\n",
      " 20  V20     284807 non-null  float64\n",
      " 21  V21     284807 non-null  float64\n",
      " 22  V22     284807 non-null  float64\n",
      " 23  V23     284807 non-null  float64\n",
      " 24  V24     284807 non-null  float64\n",
      " 25  V25     284807 non-null  float64\n",
      " 26  V26     284807 non-null  float64\n",
      " 27  V27     284807 non-null  float64\n",
      " 28  V28     284807 non-null  float64\n",
      " 29  Amount  284807 non-null  float64\n",
      " 30  Class   284807 non-null  int64  \n",
      "dtypes: float64(30), int64(1)\n",
      "memory usage: 67.4 MB\n"
     ]
    }
   ],
   "source": [
    "df.info()"
   ]
  },
  {
   "cell_type": "markdown",
   "metadata": {},
   "source": [
    "## Balance dataset"
   ]
  },
  {
   "cell_type": "code",
   "execution_count": 10,
   "metadata": {},
   "outputs": [],
   "source": [
    "non_fraud = df[df['Class']==0]\n",
    "fraud = df[df['Class']==1]"
   ]
  },
  {
   "cell_type": "code",
   "execution_count": 11,
   "metadata": {},
   "outputs": [
    {
     "data": {
      "text/plain": [
       "((284315, 31), (492, 31))"
      ]
     },
     "execution_count": 11,
     "metadata": {},
     "output_type": "execute_result"
    }
   ],
   "source": [
    "non_fraud.shape , fraud.shape"
   ]
  },
  {
   "cell_type": "code",
   "execution_count": 12,
   "metadata": {},
   "outputs": [
    {
     "data": {
      "text/plain": [
       "(492, 31)"
      ]
     },
     "execution_count": 12,
     "metadata": {},
     "output_type": "execute_result"
    }
   ],
   "source": [
    "non_fraud = non_fraud.sample(fraud.shape[0])\n",
    "non_fraud.shape"
   ]
  },
  {
   "cell_type": "code",
   "execution_count": 15,
   "metadata": {},
   "outputs": [
    {
     "data": {
      "text/html": [
       "<div>\n",
       "<style scoped>\n",
       "    .dataframe tbody tr th:only-of-type {\n",
       "        vertical-align: middle;\n",
       "    }\n",
       "\n",
       "    .dataframe tbody tr th {\n",
       "        vertical-align: top;\n",
       "    }\n",
       "\n",
       "    .dataframe thead th {\n",
       "        text-align: right;\n",
       "    }\n",
       "</style>\n",
       "<table border=\"1\" class=\"dataframe\">\n",
       "  <thead>\n",
       "    <tr style=\"text-align: right;\">\n",
       "      <th></th>\n",
       "      <th>Time</th>\n",
       "      <th>V1</th>\n",
       "      <th>V2</th>\n",
       "      <th>V3</th>\n",
       "      <th>V4</th>\n",
       "      <th>V5</th>\n",
       "      <th>V6</th>\n",
       "      <th>V7</th>\n",
       "      <th>V8</th>\n",
       "      <th>V9</th>\n",
       "      <th>...</th>\n",
       "      <th>V21</th>\n",
       "      <th>V22</th>\n",
       "      <th>V23</th>\n",
       "      <th>V24</th>\n",
       "      <th>V25</th>\n",
       "      <th>V26</th>\n",
       "      <th>V27</th>\n",
       "      <th>V28</th>\n",
       "      <th>Amount</th>\n",
       "      <th>Class</th>\n",
       "    </tr>\n",
       "  </thead>\n",
       "  <tbody>\n",
       "    <tr>\n",
       "      <th>0</th>\n",
       "      <td>157363.0</td>\n",
       "      <td>1.270698</td>\n",
       "      <td>-1.077750</td>\n",
       "      <td>-3.247825</td>\n",
       "      <td>1.072753</td>\n",
       "      <td>1.573921</td>\n",
       "      <td>1.016765</td>\n",
       "      <td>1.092594</td>\n",
       "      <td>0.050994</td>\n",
       "      <td>-0.315878</td>\n",
       "      <td>...</td>\n",
       "      <td>0.590796</td>\n",
       "      <td>1.019431</td>\n",
       "      <td>-0.510002</td>\n",
       "      <td>-0.920619</td>\n",
       "      <td>0.555476</td>\n",
       "      <td>-0.147935</td>\n",
       "      <td>-0.094540</td>\n",
       "      <td>-0.038386</td>\n",
       "      <td>374.66</td>\n",
       "      <td>0</td>\n",
       "    </tr>\n",
       "    <tr>\n",
       "      <th>1</th>\n",
       "      <td>96490.0</td>\n",
       "      <td>2.090743</td>\n",
       "      <td>0.098697</td>\n",
       "      <td>-3.778937</td>\n",
       "      <td>-0.601432</td>\n",
       "      <td>3.211041</td>\n",
       "      <td>2.707118</td>\n",
       "      <td>0.062843</td>\n",
       "      <td>0.455868</td>\n",
       "      <td>1.504288</td>\n",
       "      <td>...</td>\n",
       "      <td>-0.099190</td>\n",
       "      <td>0.080067</td>\n",
       "      <td>-0.033423</td>\n",
       "      <td>0.603958</td>\n",
       "      <td>0.499398</td>\n",
       "      <td>0.252184</td>\n",
       "      <td>-0.072166</td>\n",
       "      <td>-0.064920</td>\n",
       "      <td>8.00</td>\n",
       "      <td>0</td>\n",
       "    </tr>\n",
       "    <tr>\n",
       "      <th>2</th>\n",
       "      <td>110716.0</td>\n",
       "      <td>2.048366</td>\n",
       "      <td>0.174431</td>\n",
       "      <td>-1.677554</td>\n",
       "      <td>0.429840</td>\n",
       "      <td>0.691009</td>\n",
       "      <td>-0.260089</td>\n",
       "      <td>-0.060341</td>\n",
       "      <td>-0.100672</td>\n",
       "      <td>1.602185</td>\n",
       "      <td>...</td>\n",
       "      <td>-0.482694</td>\n",
       "      <td>-1.085039</td>\n",
       "      <td>0.313622</td>\n",
       "      <td>0.053718</td>\n",
       "      <td>-0.299734</td>\n",
       "      <td>0.141081</td>\n",
       "      <td>-0.093126</td>\n",
       "      <td>-0.051677</td>\n",
       "      <td>1.29</td>\n",
       "      <td>0</td>\n",
       "    </tr>\n",
       "    <tr>\n",
       "      <th>3</th>\n",
       "      <td>115335.0</td>\n",
       "      <td>1.784249</td>\n",
       "      <td>-0.476869</td>\n",
       "      <td>-0.678898</td>\n",
       "      <td>1.624319</td>\n",
       "      <td>-0.406169</td>\n",
       "      <td>-0.126305</td>\n",
       "      <td>-0.182215</td>\n",
       "      <td>0.133679</td>\n",
       "      <td>1.122826</td>\n",
       "      <td>...</td>\n",
       "      <td>-0.261014</td>\n",
       "      <td>-0.599853</td>\n",
       "      <td>0.210084</td>\n",
       "      <td>-0.061863</td>\n",
       "      <td>-0.080974</td>\n",
       "      <td>-0.838882</td>\n",
       "      <td>0.015785</td>\n",
       "      <td>-0.047025</td>\n",
       "      <td>65.00</td>\n",
       "      <td>0</td>\n",
       "    </tr>\n",
       "    <tr>\n",
       "      <th>4</th>\n",
       "      <td>156030.0</td>\n",
       "      <td>1.984922</td>\n",
       "      <td>-0.216605</td>\n",
       "      <td>-1.576018</td>\n",
       "      <td>-0.034044</td>\n",
       "      <td>0.256379</td>\n",
       "      <td>-0.690796</td>\n",
       "      <td>0.247042</td>\n",
       "      <td>-0.176935</td>\n",
       "      <td>0.429753</td>\n",
       "      <td>...</td>\n",
       "      <td>-0.077970</td>\n",
       "      <td>-0.203793</td>\n",
       "      <td>0.192101</td>\n",
       "      <td>0.769529</td>\n",
       "      <td>-0.006086</td>\n",
       "      <td>-0.136755</td>\n",
       "      <td>-0.066649</td>\n",
       "      <td>-0.060619</td>\n",
       "      <td>35.05</td>\n",
       "      <td>0</td>\n",
       "    </tr>\n",
       "  </tbody>\n",
       "</table>\n",
       "<p>5 rows × 31 columns</p>\n",
       "</div>"
      ],
      "text/plain": [
       "       Time        V1        V2        V3        V4        V5        V6  \\\n",
       "0  157363.0  1.270698 -1.077750 -3.247825  1.072753  1.573921  1.016765   \n",
       "1   96490.0  2.090743  0.098697 -3.778937 -0.601432  3.211041  2.707118   \n",
       "2  110716.0  2.048366  0.174431 -1.677554  0.429840  0.691009 -0.260089   \n",
       "3  115335.0  1.784249 -0.476869 -0.678898  1.624319 -0.406169 -0.126305   \n",
       "4  156030.0  1.984922 -0.216605 -1.576018 -0.034044  0.256379 -0.690796   \n",
       "\n",
       "         V7        V8        V9  ...       V21       V22       V23       V24  \\\n",
       "0  1.092594  0.050994 -0.315878  ...  0.590796  1.019431 -0.510002 -0.920619   \n",
       "1  0.062843  0.455868  1.504288  ... -0.099190  0.080067 -0.033423  0.603958   \n",
       "2 -0.060341 -0.100672  1.602185  ... -0.482694 -1.085039  0.313622  0.053718   \n",
       "3 -0.182215  0.133679  1.122826  ... -0.261014 -0.599853  0.210084 -0.061863   \n",
       "4  0.247042 -0.176935  0.429753  ... -0.077970 -0.203793  0.192101  0.769529   \n",
       "\n",
       "        V25       V26       V27       V28  Amount  Class  \n",
       "0  0.555476 -0.147935 -0.094540 -0.038386  374.66      0  \n",
       "1  0.499398  0.252184 -0.072166 -0.064920    8.00      0  \n",
       "2 -0.299734  0.141081 -0.093126 -0.051677    1.29      0  \n",
       "3 -0.080974 -0.838882  0.015785 -0.047025   65.00      0  \n",
       "4 -0.006086 -0.136755 -0.066649 -0.060619   35.05      0  \n",
       "\n",
       "[5 rows x 31 columns]"
      ]
     },
     "execution_count": 15,
     "metadata": {},
     "output_type": "execute_result"
    }
   ],
   "source": [
    "data = pd.concat([non_fraud,fraud],ignore_index=True)\n",
    "data.head()"
   ]
  },
  {
   "cell_type": "code",
   "execution_count": 14,
   "metadata": {},
   "outputs": [
    {
     "data": {
      "text/plain": [
       "1    492\n",
       "0    492\n",
       "Name: Class, dtype: int64"
      ]
     },
     "execution_count": 14,
     "metadata": {},
     "output_type": "execute_result"
    }
   ],
   "source": [
    "data['Class'].value_counts()"
   ]
  },
  {
   "cell_type": "code",
   "execution_count": 16,
   "metadata": {},
   "outputs": [
    {
     "data": {
      "text/plain": [
       "(984, 30)"
      ]
     },
     "execution_count": 16,
     "metadata": {},
     "output_type": "execute_result"
    }
   ],
   "source": [
    "x = data.drop(['Class'],axis=1)\n",
    "x.shape"
   ]
  },
  {
   "cell_type": "code",
   "execution_count": 17,
   "metadata": {},
   "outputs": [
    {
     "data": {
      "text/plain": [
       "(984,)"
      ]
     },
     "execution_count": 17,
     "metadata": {},
     "output_type": "execute_result"
    }
   ],
   "source": [
    "y = data['Class']\n",
    "y.shape"
   ]
  },
  {
   "cell_type": "code",
   "execution_count": 19,
   "metadata": {},
   "outputs": [],
   "source": [
    "x_train,x_test,y_train,y_test = train_test_split(x,y,test_size=0.2,random_state=0,stratify=y)"
   ]
  },
  {
   "cell_type": "code",
   "execution_count": 20,
   "metadata": {},
   "outputs": [
    {
     "data": {
      "text/plain": [
       "((787, 30), (197, 30))"
      ]
     },
     "execution_count": 20,
     "metadata": {},
     "output_type": "execute_result"
    }
   ],
   "source": [
    "x_train.shape , x_test.shape"
   ]
  },
  {
   "cell_type": "code",
   "execution_count": 21,
   "metadata": {},
   "outputs": [],
   "source": [
    "scaler = StandardScaler()\n",
    "x_train = scaler.fit_transform(x_train)\n",
    "x_test = scaler.transform(x_test)"
   ]
  },
  {
   "cell_type": "code",
   "execution_count": 22,
   "metadata": {},
   "outputs": [
    {
     "data": {
      "text/plain": [
       "((787, 30), (197, 30))"
      ]
     },
     "execution_count": 22,
     "metadata": {},
     "output_type": "execute_result"
    }
   ],
   "source": [
    "x_train.shape , x_test.shape"
   ]
  },
  {
   "cell_type": "code",
   "execution_count": 24,
   "metadata": {},
   "outputs": [
    {
     "data": {
      "text/plain": [
       "numpy.ndarray"
      ]
     },
     "execution_count": 24,
     "metadata": {},
     "output_type": "execute_result"
    }
   ],
   "source": [
    "type(x_train)"
   ]
  },
  {
   "cell_type": "code",
   "execution_count": 28,
   "metadata": {},
   "outputs": [
    {
     "data": {
      "text/plain": [
       "((787, 30, 1), (197, 30, 1))"
      ]
     },
     "execution_count": 28,
     "metadata": {},
     "output_type": "execute_result"
    }
   ],
   "source": [
    "x_train = x_train.reshape(787,30,1)\n",
    "x_test = x_test.reshape(197,30,1)\n",
    "x_train.shape , x_test.shape"
   ]
  },
  {
   "cell_type": "code",
   "execution_count": 30,
   "metadata": {},
   "outputs": [
    {
     "data": {
      "text/plain": [
       "(787, 30, 1)"
      ]
     },
     "execution_count": 30,
     "metadata": {},
     "output_type": "execute_result"
    }
   ],
   "source": [
    "x_train.shape"
   ]
  },
  {
   "cell_type": "markdown",
   "metadata": {},
   "source": [
    "## Build CNN"
   ]
  },
  {
   "cell_type": "code",
   "execution_count": 31,
   "metadata": {},
   "outputs": [],
   "source": [
    "model = Sequential()\n",
    "model.add(Conv1D(filters=32,kernel_size=2,activation='relu',input_shape=(30,1)))\n",
    "model.add(BatchNormalization())\n",
    "model.add(Dropout(0.2))\n",
    "\n",
    "model.add(Conv1D(filters=32,kernel_size=2,activation='relu'))\n",
    "model.add(BatchNormalization())\n",
    "model.add(Dropout(0.5))\n",
    "\n",
    "model.add(Flatten())\n",
    "model.add(Dense(64,activation='relu'))\n",
    "model.add(Dropout(0.5))\n",
    "\n",
    "model.add(Dense(1,activation='sigmoid'))\n",
    "\n",
    "\n"
   ]
  },
  {
   "cell_type": "code",
   "execution_count": 32,
   "metadata": {},
   "outputs": [],
   "source": [
    "from tensorflow.keras.optimizers import Adam"
   ]
  },
  {
   "cell_type": "code",
   "execution_count": 33,
   "metadata": {},
   "outputs": [],
   "source": [
    "model.compile(optimizer=Adam(lr=0.00005),loss = 'binary_crossentropy',metrics=['accuracy'])"
   ]
  },
  {
   "cell_type": "code",
   "execution_count": 34,
   "metadata": {},
   "outputs": [
    {
     "name": "stdout",
     "output_type": "stream",
     "text": [
      "Model: \"sequential_2\"\n",
      "_________________________________________________________________\n",
      "Layer (type)                 Output Shape              Param #   \n",
      "=================================================================\n",
      "conv1d_2 (Conv1D)            (None, 29, 32)            96        \n",
      "_________________________________________________________________\n",
      "batch_normalization (BatchNo (None, 29, 32)            128       \n",
      "_________________________________________________________________\n",
      "dropout (Dropout)            (None, 29, 32)            0         \n",
      "_________________________________________________________________\n",
      "conv1d_3 (Conv1D)            (None, 28, 32)            2080      \n",
      "_________________________________________________________________\n",
      "batch_normalization_1 (Batch (None, 28, 32)            128       \n",
      "_________________________________________________________________\n",
      "dropout_1 (Dropout)          (None, 28, 32)            0         \n",
      "_________________________________________________________________\n",
      "flatten (Flatten)            (None, 896)               0         \n",
      "_________________________________________________________________\n",
      "dense (Dense)                (None, 64)                57408     \n",
      "_________________________________________________________________\n",
      "dropout_2 (Dropout)          (None, 64)                0         \n",
      "_________________________________________________________________\n",
      "dense_1 (Dense)              (None, 1)                 65        \n",
      "=================================================================\n",
      "Total params: 59,905\n",
      "Trainable params: 59,777\n",
      "Non-trainable params: 128\n",
      "_________________________________________________________________\n"
     ]
    }
   ],
   "source": [
    "model.summary()"
   ]
  },
  {
   "cell_type": "code",
   "execution_count": 35,
   "metadata": {},
   "outputs": [
    {
     "name": "stdout",
     "output_type": "stream",
     "text": [
      "Train on 787 samples, validate on 197 samples\n",
      "Epoch 1/30\n",
      "787/787 [==============================] - 4s 5ms/sample - loss: 1.1163 - accuracy: 0.5362 - val_loss: 0.6408 - val_accuracy: 0.7360\n",
      "Epoch 2/30\n",
      "787/787 [==============================] - 0s 383us/sample - loss: 0.8090 - accuracy: 0.6480 - val_loss: 0.6059 - val_accuracy: 0.7411\n",
      "Epoch 3/30\n",
      "787/787 [==============================] - 0s 381us/sample - loss: 0.7218 - accuracy: 0.6811 - val_loss: 0.5808 - val_accuracy: 0.7310\n",
      "Epoch 4/30\n",
      "787/787 [==============================] - 0s 381us/sample - loss: 0.6729 - accuracy: 0.7103 - val_loss: 0.5559 - val_accuracy: 0.7360\n",
      "Epoch 5/30\n",
      "787/787 [==============================] - 0s 386us/sample - loss: 0.6288 - accuracy: 0.7344 - val_loss: 0.5316 - val_accuracy: 0.7411\n",
      "Epoch 6/30\n",
      "787/787 [==============================] - 0s 389us/sample - loss: 0.5523 - accuracy: 0.7700 - val_loss: 0.5069 - val_accuracy: 0.7462\n",
      "Epoch 7/30\n",
      "787/787 [==============================] - 0s 381us/sample - loss: 0.5166 - accuracy: 0.7751 - val_loss: 0.4810 - val_accuracy: 0.7513\n",
      "Epoch 8/30\n",
      "787/787 [==============================] - 0s 419us/sample - loss: 0.4815 - accuracy: 0.8030 - val_loss: 0.4559 - val_accuracy: 0.7919\n",
      "Epoch 9/30\n",
      "787/787 [==============================] - 0s 370us/sample - loss: 0.4552 - accuracy: 0.8030 - val_loss: 0.4314 - val_accuracy: 0.8223\n",
      "Epoch 10/30\n",
      "787/787 [==============================] - 0s 410us/sample - loss: 0.5018 - accuracy: 0.8208 - val_loss: 0.4075 - val_accuracy: 0.8477\n",
      "Epoch 11/30\n",
      "787/787 [==============================] - 0s 370us/sample - loss: 0.4655 - accuracy: 0.8107 - val_loss: 0.3855 - val_accuracy: 0.8477\n",
      "Epoch 12/30\n",
      "787/787 [==============================] - 0s 381us/sample - loss: 0.4291 - accuracy: 0.8335 - val_loss: 0.3673 - val_accuracy: 0.8629\n",
      "Epoch 13/30\n",
      "787/787 [==============================] - 0s 391us/sample - loss: 0.4164 - accuracy: 0.8590 - val_loss: 0.3512 - val_accuracy: 0.8680\n",
      "Epoch 14/30\n",
      "787/787 [==============================] - 0s 382us/sample - loss: 0.3626 - accuracy: 0.8729 - val_loss: 0.3366 - val_accuracy: 0.8782\n",
      "Epoch 15/30\n",
      "787/787 [==============================] - 0s 411us/sample - loss: 0.3945 - accuracy: 0.8463 - val_loss: 0.3236 - val_accuracy: 0.8832\n",
      "Epoch 16/30\n",
      "787/787 [==============================] - 0s 381us/sample - loss: 0.3941 - accuracy: 0.8628 - val_loss: 0.3118 - val_accuracy: 0.8832\n",
      "Epoch 17/30\n",
      "787/787 [==============================] - 0s 382us/sample - loss: 0.3924 - accuracy: 0.8513 - val_loss: 0.3016 - val_accuracy: 0.8934\n",
      "Epoch 18/30\n",
      "787/787 [==============================] - 0s 420us/sample - loss: 0.3522 - accuracy: 0.8767 - val_loss: 0.2925 - val_accuracy: 0.9036\n",
      "Epoch 19/30\n",
      "787/787 [==============================] - 0s 376us/sample - loss: 0.3678 - accuracy: 0.8653 - val_loss: 0.2836 - val_accuracy: 0.9086\n",
      "Epoch 20/30\n",
      "787/787 [==============================] - 0s 404us/sample - loss: 0.3217 - accuracy: 0.8945 - val_loss: 0.2780 - val_accuracy: 0.9086\n",
      "Epoch 21/30\n",
      "787/787 [==============================] - 0s 378us/sample - loss: 0.3254 - accuracy: 0.8793 - val_loss: 0.2722 - val_accuracy: 0.9086\n",
      "Epoch 22/30\n",
      "787/787 [==============================] - 0s 406us/sample - loss: 0.3503 - accuracy: 0.8945 - val_loss: 0.2673 - val_accuracy: 0.9086\n",
      "Epoch 23/30\n",
      "787/787 [==============================] - 0s 397us/sample - loss: 0.3368 - accuracy: 0.8831 - val_loss: 0.2619 - val_accuracy: 0.9036\n",
      "Epoch 24/30\n",
      "787/787 [==============================] - 0s 399us/sample - loss: 0.2956 - accuracy: 0.8958 - val_loss: 0.2580 - val_accuracy: 0.9036\n",
      "Epoch 25/30\n",
      "787/787 [==============================] - 0s 389us/sample - loss: 0.3359 - accuracy: 0.8767 - val_loss: 0.2557 - val_accuracy: 0.9036\n",
      "Epoch 26/30\n",
      "787/787 [==============================] - 0s 413us/sample - loss: 0.3035 - accuracy: 0.8958 - val_loss: 0.2518 - val_accuracy: 0.9036\n",
      "Epoch 27/30\n",
      "787/787 [==============================] - 0s 377us/sample - loss: 0.2877 - accuracy: 0.9123 - val_loss: 0.2474 - val_accuracy: 0.9036\n",
      "Epoch 28/30\n",
      "787/787 [==============================] - 0s 390us/sample - loss: 0.2792 - accuracy: 0.9009 - val_loss: 0.2438 - val_accuracy: 0.9036\n",
      "Epoch 29/30\n",
      "787/787 [==============================] - 0s 408us/sample - loss: 0.2857 - accuracy: 0.8895 - val_loss: 0.2411 - val_accuracy: 0.9036\n",
      "Epoch 30/30\n",
      "787/787 [==============================] - 0s 403us/sample - loss: 0.3242 - accuracy: 0.8971 - val_loss: 0.2400 - val_accuracy: 0.9036\n"
     ]
    }
   ],
   "source": [
    "history = model.fit(x_train,y_train, epochs =30,validation_data=(x_test,y_test),verbose =1)"
   ]
  },
  {
   "cell_type": "code",
   "execution_count": 36,
   "metadata": {},
   "outputs": [
    {
     "data": {
      "image/png": "[encoded data removed]",
      "text/plain": [
       "<Figure size 432x288 with 1 Axes>"
      ]
     },
     "metadata": {
      "needs_background": "light"
     },
     "output_type": "display_data"
    },
    {
     "data": {
      "image/png": "[encoded data removed]",
      "text/plain": [
       "<Figure size 432x288 with 1 Axes>"
      ]
     },
     "metadata": {
      "needs_background": "light"
     },
     "output_type": "display_data"
    }
   ],
   "source": [
    "plt.plot(history.history['accuracy'])\n",
    "plt.plot(history.history['val_accuracy'])\n",
    "plt.title('Model_Accuracy')\n",
    "plt.xlabel('Epochs')\n",
    "plt.ylabel('Accuracy')\n",
    "plt.legend(['train','test'])\n",
    "plt.show()\n",
    "\n",
    "\n",
    "plt.plot(history.history['loss'])\n",
    "plt.plot(history.history['val_loss'])\n",
    "plt.title('Model_loss')\n",
    "plt.xlabel('Epochs')\n",
    "plt.ylabel('loss')\n",
    "plt.legend(['train','test'])\n",
    "plt.show()"
   ]
  },
  {
   "cell_type": "code",
   "execution_count": null,
   "metadata": {},
   "outputs": [],
   "source": []
  }
 ],
 "metadata": {
  "kernelspec": {
   "display_name": "Python 3",
   "language": "python",
   "name": "python3"
  },
  "language_info": {
   "codemirror_mode": {
    "name": "ipython",
    "version": 3
   },
   "file_extension": ".py",
   "mimetype": "text/x-python",
   "name": "python",
   "nbconvert_exporter": "python",
   "pygments_lexer": "ipython3",
   "version": "3.7.7"
  }
 },
 "nbformat": 4,
 "nbformat_minor": 4
}
