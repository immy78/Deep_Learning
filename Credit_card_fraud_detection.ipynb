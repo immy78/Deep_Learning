{
 "cells": [
  {
   "cell_type": "markdown",
   "metadata": {},
   "source": [
    "## Fraud detection by CNN"
   ]
  },
  {
   "cell_type": "code",
   "execution_count": 1,
   "metadata": {},
   "outputs": [],
   "source": [
    "import numpy as np\n",
    "import pandas as pd\n",
    "import matplotlib.pyplot as plt\n",
    "import seaborn as sns\n",
    "%matplotlib inline"
   ]
  },
  {
   "cell_type": "code",
   "execution_count": 2,
   "metadata": {},
   "outputs": [
    {
     "data": {
      "text/html": [
       "<div>\n",
       "<style scoped>\n",
       "    .dataframe tbody tr th:only-of-type {\n",
       "        vertical-align: middle;\n",
       "    }\n",
       "\n",
       "    .dataframe tbody tr th {\n",
       "        vertical-align: top;\n",
       "    }\n",
       "\n",
       "    .dataframe thead th {\n",
       "        text-align: right;\n",
       "    }\n",
       "</style>\n",
       "<table border=\"1\" class=\"dataframe\">\n",
       "  <thead>\n",
       "    <tr style=\"text-align: right;\">\n",
       "      <th></th>\n",
       "      <th>Time</th>\n",
       "      <th>V1</th>\n",
       "      <th>V2</th>\n",
       "      <th>V3</th>\n",
       "      <th>V4</th>\n",
       "      <th>V5</th>\n",
       "      <th>V6</th>\n",
       "      <th>V7</th>\n",
       "      <th>V8</th>\n",
       "      <th>V9</th>\n",
       "      <th>...</th>\n",
       "      <th>V21</th>\n",
       "      <th>V22</th>\n",
       "      <th>V23</th>\n",
       "      <th>V24</th>\n",
       "      <th>V25</th>\n",
       "      <th>V26</th>\n",
       "      <th>V27</th>\n",
       "      <th>V28</th>\n",
       "      <th>Amount</th>\n",
       "      <th>Class</th>\n",
       "    </tr>\n",
       "  </thead>\n",
       "  <tbody>\n",
       "    <tr>\n",
       "      <th>0</th>\n",
       "      <td>0.0</td>\n",
       "      <td>-1.359807</td>\n",
       "      <td>-0.072781</td>\n",
       "      <td>2.536347</td>\n",
       "      <td>1.378155</td>\n",
       "      <td>-0.338321</td>\n",
       "      <td>0.462388</td>\n",
       "      <td>0.239599</td>\n",
       "      <td>0.098698</td>\n",
       "      <td>0.363787</td>\n",
       "      <td>...</td>\n",
       "      <td>-0.018307</td>\n",
       "      <td>0.277838</td>\n",
       "      <td>-0.110474</td>\n",
       "      <td>0.066928</td>\n",
       "      <td>0.128539</td>\n",
       "      <td>-0.189115</td>\n",
       "      <td>0.133558</td>\n",
       "      <td>-0.021053</td>\n",
       "      <td>149.62</td>\n",
       "      <td>0</td>\n",
       "    </tr>\n",
       "    <tr>\n",
       "      <th>1</th>\n",
       "      <td>0.0</td>\n",
       "      <td>1.191857</td>\n",
       "      <td>0.266151</td>\n",
       "      <td>0.166480</td>\n",
       "      <td>0.448154</td>\n",
       "      <td>0.060018</td>\n",
       "      <td>-0.082361</td>\n",
       "      <td>-0.078803</td>\n",
       "      <td>0.085102</td>\n",
       "      <td>-0.255425</td>\n",
       "      <td>...</td>\n",
       "      <td>-0.225775</td>\n",
       "      <td>-0.638672</td>\n",
       "      <td>0.101288</td>\n",
       "      <td>-0.339846</td>\n",
       "      <td>0.167170</td>\n",
       "      <td>0.125895</td>\n",
       "      <td>-0.008983</td>\n",
       "      <td>0.014724</td>\n",
       "      <td>2.69</td>\n",
       "      <td>0</td>\n",
       "    </tr>\n",
       "    <tr>\n",
       "      <th>2</th>\n",
       "      <td>1.0</td>\n",
       "      <td>-1.358354</td>\n",
       "      <td>-1.340163</td>\n",
       "      <td>1.773209</td>\n",
       "      <td>0.379780</td>\n",
       "      <td>-0.503198</td>\n",
       "      <td>1.800499</td>\n",
       "      <td>0.791461</td>\n",
       "      <td>0.247676</td>\n",
       "      <td>-1.514654</td>\n",
       "      <td>...</td>\n",
       "      <td>0.247998</td>\n",
       "      <td>0.771679</td>\n",
       "      <td>0.909412</td>\n",
       "      <td>-0.689281</td>\n",
       "      <td>-0.327642</td>\n",
       "      <td>-0.139097</td>\n",
       "      <td>-0.055353</td>\n",
       "      <td>-0.059752</td>\n",
       "      <td>378.66</td>\n",
       "      <td>0</td>\n",
       "    </tr>\n",
       "    <tr>\n",
       "      <th>3</th>\n",
       "      <td>1.0</td>\n",
       "      <td>-0.966272</td>\n",
       "      <td>-0.185226</td>\n",
       "      <td>1.792993</td>\n",
       "      <td>-0.863291</td>\n",
       "      <td>-0.010309</td>\n",
       "      <td>1.247203</td>\n",
       "      <td>0.237609</td>\n",
       "      <td>0.377436</td>\n",
       "      <td>-1.387024</td>\n",
       "      <td>...</td>\n",
       "      <td>-0.108300</td>\n",
       "      <td>0.005274</td>\n",
       "      <td>-0.190321</td>\n",
       "      <td>-1.175575</td>\n",
       "      <td>0.647376</td>\n",
       "      <td>-0.221929</td>\n",
       "      <td>0.062723</td>\n",
       "      <td>0.061458</td>\n",
       "      <td>123.50</td>\n",
       "      <td>0</td>\n",
       "    </tr>\n",
       "    <tr>\n",
       "      <th>4</th>\n",
       "      <td>2.0</td>\n",
       "      <td>-1.158233</td>\n",
       "      <td>0.877737</td>\n",
       "      <td>1.548718</td>\n",
       "      <td>0.403034</td>\n",
       "      <td>-0.407193</td>\n",
       "      <td>0.095921</td>\n",
       "      <td>0.592941</td>\n",
       "      <td>-0.270533</td>\n",
       "      <td>0.817739</td>\n",
       "      <td>...</td>\n",
       "      <td>-0.009431</td>\n",
       "      <td>0.798278</td>\n",
       "      <td>-0.137458</td>\n",
       "      <td>0.141267</td>\n",
       "      <td>-0.206010</td>\n",
       "      <td>0.502292</td>\n",
       "      <td>0.219422</td>\n",
       "      <td>0.215153</td>\n",
       "      <td>69.99</td>\n",
       "      <td>0</td>\n",
       "    </tr>\n",
       "  </tbody>\n",
       "</table>\n",
       "<p>5 rows × 31 columns</p>\n",
       "</div>"
      ],
      "text/plain": [
       "   Time        V1        V2        V3        V4        V5        V6        V7  \\\n",
       "0   0.0 -1.359807 -0.072781  2.536347  1.378155 -0.338321  0.462388  0.239599   \n",
       "1   0.0  1.191857  0.266151  0.166480  0.448154  0.060018 -0.082361 -0.078803   \n",
       "2   1.0 -1.358354 -1.340163  1.773209  0.379780 -0.503198  1.800499  0.791461   \n",
       "3   1.0 -0.966272 -0.185226  1.792993 -0.863291 -0.010309  1.247203  0.237609   \n",
       "4   2.0 -1.158233  0.877737  1.548718  0.403034 -0.407193  0.095921  0.592941   \n",
       "\n",
       "         V8        V9  ...       V21       V22       V23       V24       V25  \\\n",
       "0  0.098698  0.363787  ... -0.018307  0.277838 -0.110474  0.066928  0.128539   \n",
       "1  0.085102 -0.255425  ... -0.225775 -0.638672  0.101288 -0.339846  0.167170   \n",
       "2  0.247676 -1.514654  ...  0.247998  0.771679  0.909412 -0.689281 -0.327642   \n",
       "3  0.377436 -1.387024  ... -0.108300  0.005274 -0.190321 -1.175575  0.647376   \n",
       "4 -0.270533  0.817739  ... -0.009431  0.798278 -0.137458  0.141267 -0.206010   \n",
       "\n",
       "        V26       V27       V28  Amount  Class  \n",
       "0 -0.189115  0.133558 -0.021053  149.62      0  \n",
       "1  0.125895 -0.008983  0.014724    2.69      0  \n",
       "2 -0.139097 -0.055353 -0.059752  378.66      0  \n",
       "3 -0.221929  0.062723  0.061458  123.50      0  \n",
       "4  0.502292  0.219422  0.215153   69.99      0  \n",
       "\n",
       "[5 rows x 31 columns]"
      ]
     },
     "execution_count": 2,
     "metadata": {},
     "output_type": "execute_result"
    }
   ],
   "source": [
    "df = pd.read_csv('C:/Users/Sony/Desktop/Kaggle data set/Fraud_detection/creditcard.csv')\n",
    "df.head()"
   ]
  },
  {
   "cell_type": "code",
   "execution_count": 3,
   "metadata": {},
   "outputs": [
    {
     "data": {
      "text/plain": [
       "(284807, 31)"
      ]
     },
     "execution_count": 3,
     "metadata": {},
     "output_type": "execute_result"
    }
   ],
   "source": [
    "df.shape"
   ]
  },
  {
   "cell_type": "code",
   "execution_count": 4,
   "metadata": {},
   "outputs": [
    {
     "data": {
      "text/plain": [
       "0    284315\n",
       "1       492\n",
       "Name: Class, dtype: int64"
      ]
     },
     "execution_count": 4,
     "metadata": {},
     "output_type": "execute_result"
    }
   ],
   "source": [
    "df['Class'].value_counts()"
   ]
  },
  {
   "cell_type": "code",
   "execution_count": 5,
   "metadata": {},
   "outputs": [],
   "source": [
    "from tensorflow.keras import Sequential\n",
    "from tensorflow.keras.layers import Conv1D, MaxPooling1D,Dropout,BatchNormalization,Dense,Flatten"
   ]
  },
  {
   "cell_type": "code",
   "execution_count": 6,
   "metadata": {},
   "outputs": [],
   "source": [
    "from sklearn.model_selection import train_test_split\n",
    "from sklearn.preprocessing import StandardScaler"
   ]
  },
  {
   "cell_type": "code",
   "execution_count": 7,
   "metadata": {},
   "outputs": [
    {
     "data": {
      "text/plain": [
       "Time      0\n",
       "V1        0\n",
       "V2        0\n",
       "V3        0\n",
       "V4        0\n",
       "V5        0\n",
       "V6        0\n",
       "V7        0\n",
       "V8        0\n",
       "V9        0\n",
       "V10       0\n",
       "V11       0\n",
       "V12       0\n",
       "V13       0\n",
       "V14       0\n",
       "V15       0\n",
       "V16       0\n",
       "V17       0\n",
       "V18       0\n",
       "V19       0\n",
       "V20       0\n",
       "V21       0\n",
       "V22       0\n",
       "V23       0\n",
       "V24       0\n",
       "V25       0\n",
       "V26       0\n",
       "V27       0\n",
       "V28       0\n",
       "Amount    0\n",
       "Class     0\n",
       "dtype: int64"
      ]
     },
     "execution_count": 7,
     "metadata": {},
     "output_type": "execute_result"
    }
   ],
   "source": [
    "df.isnull().sum()"
   ]
  },
  {
   "cell_type": "code",
   "execution_count": 8,
   "metadata": {},
   "outputs": [
    {
     "name": "stdout",
     "output_type": "stream",
     "text": [
      "<class 'pandas.core.frame.DataFrame'>\n",
      "RangeIndex: 284807 entries, 0 to 284806\n",
      "Data columns (total 31 columns):\n",
      " #   Column  Non-Null Count   Dtype  \n",
      "---  ------  --------------   -----  \n",
      " 0   Time    284807 non-null  float64\n",
      " 1   V1      284807 non-null  float64\n",
      " 2   V2      284807 non-null  float64\n",
      " 3   V3      284807 non-null  float64\n",
      " 4   V4      284807 non-null  float64\n",
      " 5   V5      284807 non-null  float64\n",
      " 6   V6      284807 non-null  float64\n",
      " 7   V7      284807 non-null  float64\n",
      " 8   V8      284807 non-null  float64\n",
      " 9   V9      284807 non-null  float64\n",
      " 10  V10     284807 non-null  float64\n",
      " 11  V11     284807 non-null  float64\n",
      " 12  V12     284807 non-null  float64\n",
      " 13  V13     284807 non-null  float64\n",
      " 14  V14     284807 non-null  float64\n",
      " 15  V15     284807 non-null  float64\n",
      " 16  V16     284807 non-null  float64\n",
      " 17  V17     284807 non-null  float64\n",
      " 18  V18     284807 non-null  float64\n",
      " 19  V19     284807 non-null  float64\n",
      " 20  V20     284807 non-null  float64\n",
      " 21  V21     284807 non-null  float64\n",
      " 22  V22     284807 non-null  float64\n",
      " 23  V23     284807 non-null  float64\n",
      " 24  V24     284807 non-null  float64\n",
      " 25  V25     284807 non-null  float64\n",
      " 26  V26     284807 non-null  float64\n",
      " 27  V27     284807 non-null  float64\n",
      " 28  V28     284807 non-null  float64\n",
      " 29  Amount  284807 non-null  float64\n",
      " 30  Class   284807 non-null  int64  \n",
      "dtypes: float64(30), int64(1)\n",
      "memory usage: 67.4 MB\n"
     ]
    }
   ],
   "source": [
    "df.info()"
   ]
  },
  {
   "cell_type": "markdown",
   "metadata": {},
   "source": [
    "## Balance dataset"
   ]
  },
  {
   "cell_type": "code",
   "execution_count": 9,
   "metadata": {},
   "outputs": [],
   "source": [
    "non_fraud = df[df['Class']==0]\n",
    "fraud = df[df['Class']==1]"
   ]
  },
  {
   "cell_type": "code",
   "execution_count": 10,
   "metadata": {},
   "outputs": [
    {
     "data": {
      "text/plain": [
       "((284315, 31), (492, 31))"
      ]
     },
     "execution_count": 10,
     "metadata": {},
     "output_type": "execute_result"
    }
   ],
   "source": [
    "non_fraud.shape , fraud.shape"
   ]
  },
  {
   "cell_type": "code",
   "execution_count": 11,
   "metadata": {},
   "outputs": [
    {
     "data": {
      "text/plain": [
       "(492, 31)"
      ]
     },
     "execution_count": 11,
     "metadata": {},
     "output_type": "execute_result"
    }
   ],
   "source": [
    "non_fraud = non_fraud.sample(fraud.shape[0])\n",
    "non_fraud.shape"
   ]
  },
  {
   "cell_type": "code",
   "execution_count": 12,
   "metadata": {},
   "outputs": [
    {
     "data": {
      "text/html": [
       "<div>\n",
       "<style scoped>\n",
       "    .dataframe tbody tr th:only-of-type {\n",
       "        vertical-align: middle;\n",
       "    }\n",
       "\n",
       "    .dataframe tbody tr th {\n",
       "        vertical-align: top;\n",
       "    }\n",
       "\n",
       "    .dataframe thead th {\n",
       "        text-align: right;\n",
       "    }\n",
       "</style>\n",
       "<table border=\"1\" class=\"dataframe\">\n",
       "  <thead>\n",
       "    <tr style=\"text-align: right;\">\n",
       "      <th></th>\n",
       "      <th>Time</th>\n",
       "      <th>V1</th>\n",
       "      <th>V2</th>\n",
       "      <th>V3</th>\n",
       "      <th>V4</th>\n",
       "      <th>V5</th>\n",
       "      <th>V6</th>\n",
       "      <th>V7</th>\n",
       "      <th>V8</th>\n",
       "      <th>V9</th>\n",
       "      <th>...</th>\n",
       "      <th>V21</th>\n",
       "      <th>V22</th>\n",
       "      <th>V23</th>\n",
       "      <th>V24</th>\n",
       "      <th>V25</th>\n",
       "      <th>V26</th>\n",
       "      <th>V27</th>\n",
       "      <th>V28</th>\n",
       "      <th>Amount</th>\n",
       "      <th>Class</th>\n",
       "    </tr>\n",
       "  </thead>\n",
       "  <tbody>\n",
       "    <tr>\n",
       "      <th>0</th>\n",
       "      <td>143753.0</td>\n",
       "      <td>-1.451374</td>\n",
       "      <td>1.549270</td>\n",
       "      <td>0.644812</td>\n",
       "      <td>-0.871361</td>\n",
       "      <td>-0.348902</td>\n",
       "      <td>-0.882342</td>\n",
       "      <td>0.117890</td>\n",
       "      <td>0.335494</td>\n",
       "      <td>0.723650</td>\n",
       "      <td>...</td>\n",
       "      <td>-0.128019</td>\n",
       "      <td>-0.629888</td>\n",
       "      <td>0.000057</td>\n",
       "      <td>-0.116472</td>\n",
       "      <td>-0.332649</td>\n",
       "      <td>-0.320734</td>\n",
       "      <td>-0.443275</td>\n",
       "      <td>0.154146</td>\n",
       "      <td>0.77</td>\n",
       "      <td>0</td>\n",
       "    </tr>\n",
       "    <tr>\n",
       "      <th>1</th>\n",
       "      <td>132089.0</td>\n",
       "      <td>2.058393</td>\n",
       "      <td>0.081982</td>\n",
       "      <td>-1.685370</td>\n",
       "      <td>0.441764</td>\n",
       "      <td>0.315278</td>\n",
       "      <td>-0.872930</td>\n",
       "      <td>0.108271</td>\n",
       "      <td>-0.162367</td>\n",
       "      <td>0.631077</td>\n",
       "      <td>...</td>\n",
       "      <td>-0.363438</td>\n",
       "      <td>-0.982288</td>\n",
       "      <td>0.369474</td>\n",
       "      <td>0.552892</td>\n",
       "      <td>-0.318234</td>\n",
       "      <td>0.174132</td>\n",
       "      <td>-0.065705</td>\n",
       "      <td>-0.032077</td>\n",
       "      <td>1.98</td>\n",
       "      <td>0</td>\n",
       "    </tr>\n",
       "    <tr>\n",
       "      <th>2</th>\n",
       "      <td>111041.0</td>\n",
       "      <td>-0.351080</td>\n",
       "      <td>0.802192</td>\n",
       "      <td>-1.254923</td>\n",
       "      <td>-0.011764</td>\n",
       "      <td>1.614003</td>\n",
       "      <td>-1.910689</td>\n",
       "      <td>1.223248</td>\n",
       "      <td>-1.092691</td>\n",
       "      <td>2.017127</td>\n",
       "      <td>...</td>\n",
       "      <td>-0.199761</td>\n",
       "      <td>0.826712</td>\n",
       "      <td>-0.344172</td>\n",
       "      <td>0.032524</td>\n",
       "      <td>-0.582311</td>\n",
       "      <td>0.138211</td>\n",
       "      <td>0.316846</td>\n",
       "      <td>-0.180251</td>\n",
       "      <td>20.00</td>\n",
       "      <td>0</td>\n",
       "    </tr>\n",
       "    <tr>\n",
       "      <th>3</th>\n",
       "      <td>38668.0</td>\n",
       "      <td>1.142383</td>\n",
       "      <td>-0.214936</td>\n",
       "      <td>-1.232798</td>\n",
       "      <td>0.315810</td>\n",
       "      <td>2.124716</td>\n",
       "      <td>3.629377</td>\n",
       "      <td>-0.356037</td>\n",
       "      <td>0.832909</td>\n",
       "      <td>0.165085</td>\n",
       "      <td>...</td>\n",
       "      <td>-0.145501</td>\n",
       "      <td>-0.513853</td>\n",
       "      <td>-0.181780</td>\n",
       "      <td>1.013089</td>\n",
       "      <td>0.870219</td>\n",
       "      <td>-0.333305</td>\n",
       "      <td>0.013511</td>\n",
       "      <td>0.023358</td>\n",
       "      <td>71.00</td>\n",
       "      <td>0</td>\n",
       "    </tr>\n",
       "    <tr>\n",
       "      <th>4</th>\n",
       "      <td>39477.0</td>\n",
       "      <td>1.306802</td>\n",
       "      <td>0.029816</td>\n",
       "      <td>-0.546049</td>\n",
       "      <td>-0.317631</td>\n",
       "      <td>0.402488</td>\n",
       "      <td>-0.169676</td>\n",
       "      <td>0.219201</td>\n",
       "      <td>-0.146353</td>\n",
       "      <td>-0.290429</td>\n",
       "      <td>...</td>\n",
       "      <td>-0.094169</td>\n",
       "      <td>-0.306849</td>\n",
       "      <td>-0.246223</td>\n",
       "      <td>-0.937675</td>\n",
       "      <td>0.594873</td>\n",
       "      <td>1.070365</td>\n",
       "      <td>-0.107412</td>\n",
       "      <td>-0.021177</td>\n",
       "      <td>34.82</td>\n",
       "      <td>0</td>\n",
       "    </tr>\n",
       "  </tbody>\n",
       "</table>\n",
       "<p>5 rows × 31 columns</p>\n",
       "</div>"
      ],
      "text/plain": [
       "       Time        V1        V2        V3        V4        V5        V6  \\\n",
       "0  143753.0 -1.451374  1.549270  0.644812 -0.871361 -0.348902 -0.882342   \n",
       "1  132089.0  2.058393  0.081982 -1.685370  0.441764  0.315278 -0.872930   \n",
       "2  111041.0 -0.351080  0.802192 -1.254923 -0.011764  1.614003 -1.910689   \n",
       "3   38668.0  1.142383 -0.214936 -1.232798  0.315810  2.124716  3.629377   \n",
       "4   39477.0  1.306802  0.029816 -0.546049 -0.317631  0.402488 -0.169676   \n",
       "\n",
       "         V7        V8        V9  ...       V21       V22       V23       V24  \\\n",
       "0  0.117890  0.335494  0.723650  ... -0.128019 -0.629888  0.000057 -0.116472   \n",
       "1  0.108271 -0.162367  0.631077  ... -0.363438 -0.982288  0.369474  0.552892   \n",
       "2  1.223248 -1.092691  2.017127  ... -0.199761  0.826712 -0.344172  0.032524   \n",
       "3 -0.356037  0.832909  0.165085  ... -0.145501 -0.513853 -0.181780  1.013089   \n",
       "4  0.219201 -0.146353 -0.290429  ... -0.094169 -0.306849 -0.246223 -0.937675   \n",
       "\n",
       "        V25       V26       V27       V28  Amount  Class  \n",
       "0 -0.332649 -0.320734 -0.443275  0.154146    0.77      0  \n",
       "1 -0.318234  0.174132 -0.065705 -0.032077    1.98      0  \n",
       "2 -0.582311  0.138211  0.316846 -0.180251   20.00      0  \n",
       "3  0.870219 -0.333305  0.013511  0.023358   71.00      0  \n",
       "4  0.594873  1.070365 -0.107412 -0.021177   34.82      0  \n",
       "\n",
       "[5 rows x 31 columns]"
      ]
     },
     "execution_count": 12,
     "metadata": {},
     "output_type": "execute_result"
    }
   ],
   "source": [
    "data = pd.concat([non_fraud,fraud],ignore_index=True)\n",
    "data.head()"
   ]
  },
  {
   "cell_type": "code",
   "execution_count": 13,
   "metadata": {},
   "outputs": [
    {
     "data": {
      "text/plain": [
       "1    492\n",
       "0    492\n",
       "Name: Class, dtype: int64"
      ]
     },
     "execution_count": 13,
     "metadata": {},
     "output_type": "execute_result"
    }
   ],
   "source": [
    "data['Class'].value_counts()"
   ]
  },
  {
   "cell_type": "code",
   "execution_count": 14,
   "metadata": {},
   "outputs": [
    {
     "data": {
      "text/plain": [
       "(984, 30)"
      ]
     },
     "execution_count": 14,
     "metadata": {},
     "output_type": "execute_result"
    }
   ],
   "source": [
    "x = data.drop(['Class'],axis=1)\n",
    "x.shape"
   ]
  },
  {
   "cell_type": "code",
   "execution_count": 15,
   "metadata": {},
   "outputs": [
    {
     "data": {
      "text/plain": [
       "(984,)"
      ]
     },
     "execution_count": 15,
     "metadata": {},
     "output_type": "execute_result"
    }
   ],
   "source": [
    "y = data['Class']\n",
    "y.shape"
   ]
  },
  {
   "cell_type": "code",
   "execution_count": 16,
   "metadata": {},
   "outputs": [],
   "source": [
    "x_train,x_test,y_train,y_test = train_test_split(x,y,test_size=0.2,random_state=0,stratify=y)"
   ]
  },
  {
   "cell_type": "code",
   "execution_count": 17,
   "metadata": {},
   "outputs": [
    {
     "data": {
      "text/plain": [
       "((787, 30), (197, 30))"
      ]
     },
     "execution_count": 17,
     "metadata": {},
     "output_type": "execute_result"
    }
   ],
   "source": [
    "x_train.shape , x_test.shape"
   ]
  },
  {
   "cell_type": "code",
   "execution_count": 18,
   "metadata": {},
   "outputs": [],
   "source": [
    "scaler = StandardScaler()\n",
    "x_train = scaler.fit_transform(x_train)\n",
    "x_test = scaler.transform(x_test)"
   ]
  },
  {
   "cell_type": "code",
   "execution_count": 19,
   "metadata": {},
   "outputs": [
    {
     "data": {
      "text/plain": [
       "((787, 30), (197, 30))"
      ]
     },
     "execution_count": 19,
     "metadata": {},
     "output_type": "execute_result"
    }
   ],
   "source": [
    "x_train.shape , x_test.shape"
   ]
  },
  {
   "cell_type": "code",
   "execution_count": 20,
   "metadata": {},
   "outputs": [
    {
     "data": {
      "text/plain": [
       "numpy.ndarray"
      ]
     },
     "execution_count": 20,
     "metadata": {},
     "output_type": "execute_result"
    }
   ],
   "source": [
    "type(x_train)"
   ]
  },
  {
   "cell_type": "code",
   "execution_count": 31,
   "metadata": {},
   "outputs": [
    {
     "data": {
      "text/plain": [
       "(197,)"
      ]
     },
     "execution_count": 31,
     "metadata": {},
     "output_type": "execute_result"
    }
   ],
   "source": [
    "y_test"
   ]
  },
  {
   "cell_type": "code",
   "execution_count": 21,
   "metadata": {},
   "outputs": [
    {
     "data": {
      "text/plain": [
       "((787, 30, 1), (197, 30, 1))"
      ]
     },
     "execution_count": 21,
     "metadata": {},
     "output_type": "execute_result"
    }
   ],
   "source": [
    "x_train = x_train.reshape(787,30,1)\n",
    "x_test = x_test.reshape(197,30,1)\n",
    "x_train.shape , x_test.shape"
   ]
  },
  {
   "cell_type": "code",
   "execution_count": 22,
   "metadata": {},
   "outputs": [
    {
     "data": {
      "text/plain": [
       "(787, 30, 1)"
      ]
     },
     "execution_count": 22,
     "metadata": {},
     "output_type": "execute_result"
    }
   ],
   "source": [
    "x_train.shape"
   ]
  },
  {
   "cell_type": "markdown",
   "metadata": {},
   "source": [
    "## Build CNN"
   ]
  },
  {
   "cell_type": "code",
   "execution_count": 23,
   "metadata": {},
   "outputs": [],
   "source": [
    "model = Sequential()\n",
    "model.add(Conv1D(filters=32,kernel_size=2,activation='relu',input_shape=(30,1)))\n",
    "model.add(BatchNormalization())\n",
    "model.add(Dropout(0.2))\n",
    "\n",
    "model.add(Conv1D(filters=32,kernel_size=2,activation='relu'))\n",
    "model.add(BatchNormalization())\n",
    "model.add(Dropout(0.5))\n",
    "\n",
    "model.add(Flatten())\n",
    "model.add(Dense(64,activation='relu'))\n",
    "model.add(Dropout(0.5))\n",
    "\n",
    "model.add(Dense(1,activation='sigmoid'))\n",
    "\n",
    "\n"
   ]
  },
  {
   "cell_type": "code",
   "execution_count": 24,
   "metadata": {},
   "outputs": [],
   "source": [
    "from tensorflow.keras.optimizers import Adam"
   ]
  },
  {
   "cell_type": "code",
   "execution_count": 25,
   "metadata": {},
   "outputs": [],
   "source": [
    "model.compile(optimizer=Adam(lr=0.00005),loss = 'binary_crossentropy',metrics=['accuracy'])"
   ]
  },
  {
   "cell_type": "code",
   "execution_count": 26,
   "metadata": {},
   "outputs": [
    {
     "name": "stdout",
     "output_type": "stream",
     "text": [
      "Model: \"sequential\"\n",
      "_________________________________________________________________\n",
      "Layer (type)                 Output Shape              Param #   \n",
      "=================================================================\n",
      "conv1d (Conv1D)              (None, 29, 32)            96        \n",
      "_________________________________________________________________\n",
      "batch_normalization (BatchNo (None, 29, 32)            128       \n",
      "_________________________________________________________________\n",
      "dropout (Dropout)            (None, 29, 32)            0         \n",
      "_________________________________________________________________\n",
      "conv1d_1 (Conv1D)            (None, 28, 32)            2080      \n",
      "_________________________________________________________________\n",
      "batch_normalization_1 (Batch (None, 28, 32)            128       \n",
      "_________________________________________________________________\n",
      "dropout_1 (Dropout)          (None, 28, 32)            0         \n",
      "_________________________________________________________________\n",
      "flatten (Flatten)            (None, 896)               0         \n",
      "_________________________________________________________________\n",
      "dense (Dense)                (None, 64)                57408     \n",
      "_________________________________________________________________\n",
      "dropout_2 (Dropout)          (None, 64)                0         \n",
      "_________________________________________________________________\n",
      "dense_1 (Dense)              (None, 1)                 65        \n",
      "=================================================================\n",
      "Total params: 59,905\n",
      "Trainable params: 59,777\n",
      "Non-trainable params: 128\n",
      "_________________________________________________________________\n"
     ]
    }
   ],
   "source": [
    "model.summary()"
   ]
  },
  {
   "cell_type": "code",
   "execution_count": 27,
   "metadata": {},
   "outputs": [
    {
     "name": "stdout",
     "output_type": "stream",
     "text": [
      "Train on 787 samples, validate on 197 samples\n",
      "Epoch 1/30\n",
      "787/787 [==============================] - 4s 5ms/sample - loss: 1.4344 - accuracy: 0.4917 - val_loss: 0.6882 - val_accuracy: 0.6497\n",
      "Epoch 2/30\n",
      "787/787 [==============================] - 0s 588us/sample - loss: 1.0347 - accuracy: 0.5731 - val_loss: 0.6560 - val_accuracy: 0.7513\n",
      "Epoch 3/30\n",
      "787/787 [==============================] - 0s 362us/sample - loss: 0.9483 - accuracy: 0.6353 - val_loss: 0.6258 - val_accuracy: 0.7817\n",
      "Epoch 4/30\n",
      "787/787 [==============================] - 0s 337us/sample - loss: 0.8715 - accuracy: 0.6696 - val_loss: 0.5947 - val_accuracy: 0.7868\n",
      "Epoch 5/30\n",
      "787/787 [==============================] - 0s 338us/sample - loss: 0.6344 - accuracy: 0.7459 - val_loss: 0.5644 - val_accuracy: 0.8274\n",
      "Epoch 6/30\n",
      "787/787 [==============================] - 0s 337us/sample - loss: 0.6806 - accuracy: 0.7433 - val_loss: 0.5338 - val_accuracy: 0.8426\n",
      "Epoch 7/30\n",
      "787/787 [==============================] - 0s 337us/sample - loss: 0.6613 - accuracy: 0.7598 - val_loss: 0.5000 - val_accuracy: 0.8528\n",
      "Epoch 8/30\n",
      "787/787 [==============================] - 0s 335us/sample - loss: 0.5618 - accuracy: 0.7789 - val_loss: 0.4674 - val_accuracy: 0.8680\n",
      "Epoch 9/30\n",
      "787/787 [==============================] - 0s 345us/sample - loss: 0.4830 - accuracy: 0.8107 - val_loss: 0.4372 - val_accuracy: 0.8782\n",
      "Epoch 10/30\n",
      "787/787 [==============================] - 0s 350us/sample - loss: 0.4967 - accuracy: 0.7967 - val_loss: 0.4074 - val_accuracy: 0.8832\n",
      "Epoch 11/30\n",
      "787/787 [==============================] - 0s 349us/sample - loss: 0.4961 - accuracy: 0.8145 - val_loss: 0.3816 - val_accuracy: 0.8883\n",
      "Epoch 12/30\n",
      "787/787 [==============================] - 0s 356us/sample - loss: 0.4553 - accuracy: 0.8234 - val_loss: 0.3591 - val_accuracy: 0.8782\n",
      "Epoch 13/30\n",
      "787/787 [==============================] - 0s 356us/sample - loss: 0.4124 - accuracy: 0.8450 - val_loss: 0.3384 - val_accuracy: 0.8782\n",
      "Epoch 14/30\n",
      "787/787 [==============================] - 0s 349us/sample - loss: 0.4106 - accuracy: 0.8399 - val_loss: 0.3206 - val_accuracy: 0.8782\n",
      "Epoch 15/30\n",
      "787/787 [==============================] - 0s 352us/sample - loss: 0.4110 - accuracy: 0.8450 - val_loss: 0.3050 - val_accuracy: 0.8782\n",
      "Epoch 16/30\n",
      "787/787 [==============================] - 0s 350us/sample - loss: 0.3874 - accuracy: 0.8577 - val_loss: 0.2930 - val_accuracy: 0.8883\n",
      "Epoch 17/30\n",
      "787/787 [==============================] - 0s 357us/sample - loss: 0.3713 - accuracy: 0.8488 - val_loss: 0.2828 - val_accuracy: 0.8883\n",
      "Epoch 18/30\n",
      "787/787 [==============================] - 0s 345us/sample - loss: 0.3717 - accuracy: 0.8412 - val_loss: 0.2745 - val_accuracy: 0.8934\n",
      "Epoch 19/30\n",
      "787/787 [==============================] - 0s 356us/sample - loss: 0.3795 - accuracy: 0.8679 - val_loss: 0.2672 - val_accuracy: 0.8934\n",
      "Epoch 20/30\n",
      "787/787 [==============================] - 0s 367us/sample - loss: 0.3432 - accuracy: 0.8704 - val_loss: 0.2611 - val_accuracy: 0.8934\n",
      "Epoch 21/30\n",
      "787/787 [==============================] - 0s 358us/sample - loss: 0.3744 - accuracy: 0.8780 - val_loss: 0.2563 - val_accuracy: 0.8985\n",
      "Epoch 22/30\n",
      "787/787 [==============================] - 0s 352us/sample - loss: 0.3580 - accuracy: 0.8691 - val_loss: 0.2526 - val_accuracy: 0.8985\n",
      "Epoch 23/30\n",
      "787/787 [==============================] - 0s 362us/sample - loss: 0.3436 - accuracy: 0.8691 - val_loss: 0.2477 - val_accuracy: 0.8985\n",
      "Epoch 24/30\n",
      "787/787 [==============================] - 0s 357us/sample - loss: 0.3353 - accuracy: 0.8729 - val_loss: 0.2428 - val_accuracy: 0.8985\n",
      "Epoch 25/30\n",
      "787/787 [==============================] - 0s 413us/sample - loss: 0.3353 - accuracy: 0.8895 - val_loss: 0.2405 - val_accuracy: 0.8985\n",
      "Epoch 26/30\n",
      "787/787 [==============================] - 0s 376us/sample - loss: 0.3078 - accuracy: 0.8882 - val_loss: 0.2373 - val_accuracy: 0.8985\n",
      "Epoch 27/30\n",
      "787/787 [==============================] - 0s 436us/sample - loss: 0.3021 - accuracy: 0.8818 - val_loss: 0.2348 - val_accuracy: 0.8934\n",
      "Epoch 28/30\n",
      "787/787 [==============================] - 0s 404us/sample - loss: 0.2921 - accuracy: 0.8895 - val_loss: 0.2331 - val_accuracy: 0.8934\n",
      "Epoch 29/30\n",
      "787/787 [==============================] - 0s 403us/sample - loss: 0.3005 - accuracy: 0.8907 - val_loss: 0.2316 - val_accuracy: 0.8934\n",
      "Epoch 30/30\n",
      "787/787 [==============================] - 0s 400us/sample - loss: 0.2819 - accuracy: 0.8895 - val_loss: 0.2290 - val_accuracy: 0.8934\n"
     ]
    }
   ],
   "source": [
    "history = model.fit(x_train,y_train, epochs =30,validation_data=(x_test,y_test),verbose =1)"
   ]
  },
  {
   "cell_type": "code",
   "execution_count": 28,
   "metadata": {},
   "outputs": [
    {
     "data": {
      "image/png": "[encoded data removed]",
      "text/plain": [
       "<Figure size 432x288 with 1 Axes>"
      ]
     },
     "metadata": {
      "needs_background": "light"
     },
     "output_type": "display_data"
    },
    {
     "data": {
      "image/png": "[encoded data removed]",
      "text/plain": [
       "<Figure size 432x288 with 1 Axes>"
      ]
     },
     "metadata": {
      "needs_background": "light"
     },
     "output_type": "display_data"
    }
   ],
   "source": [
    "plt.plot(history.history['accuracy'])\n",
    "plt.plot(history.history['val_accuracy'])\n",
    "plt.title('Model_Accuracy')\n",
    "plt.xlabel('Epochs')\n",
    "plt.ylabel('Accuracy')\n",
    "plt.legend(['train','test'])\n",
    "plt.show()\n",
    "\n",
    "\n",
    "plt.plot(history.history['loss'])\n",
    "plt.plot(history.history['val_loss'])\n",
    "plt.title('Model_loss')\n",
    "plt.xlabel('Epochs')\n",
    "plt.ylabel('loss')\n",
    "plt.legend(['train','test'])\n",
    "plt.show()"
   ]
  },
  {
   "cell_type": "code",
   "execution_count": 33,
   "metadata": {},
   "outputs": [],
   "source": [
    "from sklearn.metrics import confusion_matrix,accuracy_score,precision_score,recall_score,classification_report"
   ]
  },
  {
   "cell_type": "code",
   "execution_count": 47,
   "metadata": {},
   "outputs": [],
   "source": [
    "y_pred = model.predict_classes(x_test)"
   ]
  },
  {
   "cell_type": "code",
   "execution_count": 40,
   "metadata": {},
   "outputs": [
    {
     "data": {
      "text/plain": [
       "array([[95,  4],\n",
       "       [17, 81]], dtype=int64)"
      ]
     },
     "execution_count": 40,
     "metadata": {},
     "output_type": "execute_result"
    }
   ],
   "source": [
    "confusion_matrix(y_test,y_pred)"
   ]
  },
  {
   "cell_type": "code",
   "execution_count": 41,
   "metadata": {},
   "outputs": [
    {
     "data": {
      "text/plain": [
       "0.8934010152284264"
      ]
     },
     "execution_count": 41,
     "metadata": {},
     "output_type": "execute_result"
    }
   ],
   "source": [
    "accuracy_score(y_test,y_pred)"
   ]
  },
  {
   "cell_type": "code",
   "execution_count": 42,
   "metadata": {},
   "outputs": [
    {
     "data": {
      "text/plain": [
       "0.9529411764705882"
      ]
     },
     "execution_count": 42,
     "metadata": {},
     "output_type": "execute_result"
    }
   ],
   "source": [
    "precision_score(y_test,y_pred)"
   ]
  },
  {
   "cell_type": "code",
   "execution_count": 43,
   "metadata": {},
   "outputs": [
    {
     "data": {
      "text/plain": [
       "0.826530612244898"
      ]
     },
     "execution_count": 43,
     "metadata": {},
     "output_type": "execute_result"
    }
   ],
   "source": [
    "recall_score(y_test,y_pred)"
   ]
  },
  {
   "cell_type": "code",
   "execution_count": 46,
   "metadata": {},
   "outputs": [
    {
     "name": "stdout",
     "output_type": "stream",
     "text": [
      "              precision    recall  f1-score   support\n",
      "\n",
      "           0       0.85      0.96      0.90        99\n",
      "           1       0.95      0.83      0.89        98\n",
      "\n",
      "    accuracy                           0.89       197\n",
      "   macro avg       0.90      0.89      0.89       197\n",
      "weighted avg       0.90      0.89      0.89       197\n",
      "\n"
     ]
    }
   ],
   "source": [
    "print(classification_report(y_test,y_pred))"
   ]
  },
  {
   "cell_type": "code",
   "execution_count": null,
   "metadata": {},
   "outputs": [],
   "source": []
  }
 ],
 "metadata": {
  "kernelspec": {
   "display_name": "Python 3",
   "language": "python",
   "name": "python3"
  },
  "language_info": {
   "codemirror_mode": {
    "name": "ipython",
    "version": 3
   },
   "file_extension": ".py",
   "mimetype": "text/x-python",
   "name": "python",
   "nbconvert_exporter": "python",
   "pygments_lexer": "ipython3",
   "version": "3.7.7"
  }
 },
 "nbformat": 4,
 "nbformat_minor": 4
}
