{
  "nbformat": 4,
  "nbformat_minor": 0,
  "metadata": {
    "colab": {
      "name": "Droupout & Batchnormalization.ipynb",
      "provenance": [],
      "authorship_tag": "ABX9TyN6UaOsk9su1eG5KlEuW1am",
      "include_colab_link": true
    },
    "kernelspec": {
      "name": "python3",
      "display_name": "Python 3"
    },
    "accelerator": "TPU"
  },
  "cells": [
    {
      "cell_type": "markdown",
      "metadata": {
        "id": "view-in-github",
        "colab_type": "text"
      },
      "source": [
        "<a href=\"https://colab.research.google.com/github/immy78/Deep_Learning/blob/master/Droupout_%26_Batchnormalization.ipynb\" target=\"_parent\"><img src=\"https://colab.research.google.com/assets/colab-badge.svg\" alt=\"Open In Colab\"/></a>"
      ]
    },
    {
      "cell_type": "code",
      "metadata": {
        "id": "ydUZSCTM4zQl",
        "colab_type": "code",
        "colab": {}
      },
      "source": [
        "import tensorflow as tf\n",
        "from tensorflow import keras\n",
        "from tensorflow.keras import Sequential\n",
        "from tensorflow.keras.layers import Flatten,Dense,Conv2D,MaxPool2D,ZeroPadding2D,Dropout,BatchNormalization\n",
        "from tensorflow.keras.preprocessing.image import ImageDataGenerator\n",
        "from tensorflow.keras.optimizers import SGD\n"
      ],
      "execution_count": null,
      "outputs": []
    },
    {
      "cell_type": "code",
      "metadata": {
        "id": "X1Z_PNl460Ay",
        "colab_type": "code",
        "colab": {}
      },
      "source": [
        "import numpy as np\n",
        "import matplotlib.pyplot as plt\n"
      ],
      "execution_count": null,
      "outputs": []
    },
    {
      "cell_type": "code",
      "metadata": {
        "id": "kUGI3CFB95p0",
        "colab_type": "code",
        "colab": {
          "base_uri": "https://localhost:8080/",
          "height": 119
        },
        "outputId": "17c3d8d3-3f3d-4cc1-c41c-e7bf6a979ce5"
      },
      "source": [
        "!git clone https://github.com/laxmimerit/dog-cat-full-dataset.git"
      ],
      "execution_count": null,
      "outputs": [
        {
          "output_type": "stream",
          "text": [
            "Cloning into 'dog-cat-full-dataset'...\n",
            "remote: Enumerating objects: 25027, done.\u001b[K\n",
            "remote: Total 25027 (delta 0), reused 0 (delta 0), pack-reused 25027\u001b[K\n",
            "Receiving objects: 100% (25027/25027), 541.62 MiB | 37.47 MiB/s, done.\n",
            "Resolving deltas: 100% (5/5), done.\n",
            "Checking out files: 100% (25001/25001), done.\n"
          ],
          "name": "stdout"
        }
      ]
    },
    {
      "cell_type": "code",
      "metadata": {
        "id": "PIywg3mY-CfD",
        "colab_type": "code",
        "colab": {}
      },
      "source": [
        "train_data_dir = '/content/dog-cat-full-dataset/data/train'\n",
        "test_data_dir = '/content/dog-cat-full-dataset/data/test'"
      ],
      "execution_count": null,
      "outputs": []
    },
    {
      "cell_type": "code",
      "metadata": {
        "id": "uZw3xw1KWT6j",
        "colab_type": "code",
        "colab": {}
      },
      "source": [
        "img_width =32\n",
        "img_hight =32\n",
        "batch_size =20"
      ],
      "execution_count": null,
      "outputs": []
    },
    {
      "cell_type": "code",
      "metadata": {
        "id": "WoYYw4TKYkTl",
        "colab_type": "code",
        "colab": {}
      },
      "source": [
        "datagen = ImageDataGenerator(rescale=1./255)"
      ],
      "execution_count": null,
      "outputs": []
    },
    {
      "cell_type": "code",
      "metadata": {
        "id": "1NVjOlJ9Z04C",
        "colab_type": "code",
        "colab": {
          "base_uri": "https://localhost:8080/",
          "height": 34
        },
        "outputId": "2961bee1-4645-4fe2-bce5-ab2cb6a0ab61"
      },
      "source": [
        "train_genrator = datagen.flow_from_directory(directory=train_data_dir,target_size=(img_width,img_hight),\n",
        "                                             classes = ['dogs','cats'],\n",
        "                                             class_mode ='binary',\n",
        "                                             batch_size=batch_size)"
      ],
      "execution_count": null,
      "outputs": [
        {
          "output_type": "stream",
          "text": [
            "Found 20000 images belonging to 2 classes.\n"
          ],
          "name": "stdout"
        }
      ]
    },
    {
      "cell_type": "code",
      "metadata": {
        "id": "ae9GyQ3Ha9Ot",
        "colab_type": "code",
        "colab": {
          "base_uri": "https://localhost:8080/",
          "height": 34
        },
        "outputId": "fe32c666-226f-492b-e102-bd3743aedc4d"
      },
      "source": [
        "train_genrator.classes"
      ],
      "execution_count": null,
      "outputs": [
        {
          "output_type": "execute_result",
          "data": {
            "text/plain": [
              "array([0, 0, 0, ..., 1, 1, 1], dtype=int32)"
            ]
          },
          "metadata": {
            "tags": []
          },
          "execution_count": 8
        }
      ]
    },
    {
      "cell_type": "code",
      "metadata": {
        "id": "MIAF82SKbDoK",
        "colab_type": "code",
        "colab": {
          "base_uri": "https://localhost:8080/",
          "height": 34
        },
        "outputId": "cd84c9c1-d513-4a2a-bb0a-e62685ffc008"
      },
      "source": [
        "validation_genrator = datagen.flow_from_directory(directory=test_data_dir,\n",
        "                                                  target_size =(32,32),\n",
        "                                                  classes =['dogs','cats'],\n",
        "                                                  class_mode ='binary',\n",
        "                                                  batch_size=20)\n",
        "                                                  "
      ],
      "execution_count": null,
      "outputs": [
        {
          "output_type": "stream",
          "text": [
            "Found 5000 images belonging to 2 classes.\n"
          ],
          "name": "stdout"
        }
      ]
    },
    {
      "cell_type": "code",
      "metadata": {
        "id": "_cn6wV6mdPTT",
        "colab_type": "code",
        "colab": {}
      },
      "source": [
        " model = Sequential()\n",
        " model.add(Conv2D(filters=64,kernel_size=(3,3),padding='same',kernel_initializer='he_uniform',\n",
        "                  activation='relu',input_shape=( 32,32,3)))\n",
        " \n",
        " model.add(MaxPool2D(pool_size=(2,2)))\n",
        " model.add(Flatten())\n",
        " model.add(Dense(128,activation='relu',kernel_initializer='he_uniform'))\n",
        " model.add(Dense(1,activation='sigmoid',))\n"
      ],
      "execution_count": null,
      "outputs": []
    },
    {
      "cell_type": "code",
      "metadata": {
        "id": "bNMBP5I5mRWo",
        "colab_type": "code",
        "colab": {}
      },
      "source": [
        "opt = SGD(learning_rate=0.01,momentum=0.9)\n",
        "model.compile(optimizer=opt,loss='binary_crossentropy',metrics =['accuracy'])"
      ],
      "execution_count": null,
      "outputs": []
    },
    {
      "cell_type": "code",
      "metadata": {
        "id": "iAfwXzzPm0Ux",
        "colab_type": "code",
        "colab": {
          "base_uri": "https://localhost:8080/",
          "height": 258
        },
        "outputId": "062b7d79-faac-4c97-b326-0c82899f0678"
      },
      "source": [
        "history = model.fit_generator(generator=train_genrator,steps_per_epoch=len(train_genrator),epochs=5,\n",
        "                              validation_data= validation_genrator,validation_steps = len(validation_genrator),verbose =1)"
      ],
      "execution_count": null,
      "outputs": [
        {
          "output_type": "stream",
          "text": [
            "WARNING:tensorflow:From <ipython-input-12-2d889171a00a>:2: Model.fit_generator (from tensorflow.python.keras.engine.training) is deprecated and will be removed in a future version.\n",
            "Instructions for updating:\n",
            "Please use Model.fit, which supports generators.\n",
            "Epoch 1/5\n",
            "1000/1000 [==============================] - 91s 91ms/step - loss: 0.7006 - accuracy: 0.4995 - val_loss: 0.6932 - val_accuracy: 0.5000\n",
            "Epoch 2/5\n",
            "1000/1000 [==============================] - 89s 89ms/step - loss: 0.6935 - accuracy: 0.4931 - val_loss: 0.6931 - val_accuracy: 0.4998\n",
            "Epoch 3/5\n",
            "1000/1000 [==============================] - 89s 89ms/step - loss: 0.6907 - accuracy: 0.5113 - val_loss: 0.6889 - val_accuracy: 0.5176\n",
            "Epoch 4/5\n",
            "1000/1000 [==============================] - 89s 89ms/step - loss: 0.6748 - accuracy: 0.5644 - val_loss: 0.6604 - val_accuracy: 0.6078\n",
            "Epoch 5/5\n",
            "1000/1000 [==============================] - 88s 88ms/step - loss: 0.6319 - accuracy: 0.6502 - val_loss: 0.5808 - val_accuracy: 0.7040\n"
          ],
          "name": "stdout"
        }
      ]
    },
    {
      "cell_type": "code",
      "metadata": {
        "id": "bZcnC-sXq9hV",
        "colab_type": "code",
        "colab": {
          "base_uri": "https://localhost:8080/",
          "height": 357
        },
        "outputId": "615f7e71-6d13-4e0c-9877-2f11ef545af1"
      },
      "source": [
        "history.history"
      ],
      "execution_count": null,
      "outputs": [
        {
          "output_type": "execute_result",
          "data": {
            "text/plain": [
              "{'accuracy': [0.49950000643730164,\n",
              "  0.4930500090122223,\n",
              "  0.5113000273704529,\n",
              "  0.5643500089645386,\n",
              "  0.6502000093460083],\n",
              " 'loss': [0.7005981802940369,\n",
              "  0.6935468912124634,\n",
              "  0.6907054781913757,\n",
              "  0.6748268008232117,\n",
              "  0.6318672299385071],\n",
              " 'val_accuracy': [0.5,\n",
              "  0.4997999966144562,\n",
              "  0.5175999999046326,\n",
              "  0.6078000068664551,\n",
              "  0.7039999961853027],\n",
              " 'val_loss': [0.6931841373443604,\n",
              "  0.693142294883728,\n",
              "  0.6889244914054871,\n",
              "  0.6603773236274719,\n",
              "  0.580771267414093]}"
            ]
          },
          "metadata": {
            "tags": []
          },
          "execution_count": 13
        }
      ]
    },
    {
      "cell_type": "code",
      "metadata": {
        "id": "-WLkvrOBtWcW",
        "colab_type": "code",
        "colab": {
          "base_uri": "https://localhost:8080/",
          "height": 573
        },
        "outputId": "a60f70e6-57c0-4c20-8249-37f85a48e7f3"
      },
      "source": [
        "plt.plot(history.history['accuracy'])\n",
        "plt.plot(history.history['val_accuracy'])\n",
        "plt.xlabel('no.of epochs')\n",
        "plt.ylabel('accuracy')\n",
        "plt.legend(['train','val'])\n",
        "plt.title('Model_Accuracy')\n",
        "plt.show()\n",
        "\n",
        "plt.plot(history.history['loss'])\n",
        "plt.plot(history.history['val_loss'])\n",
        "plt.xlabel('no.of epochs')\n",
        "plt.ylabel('Loss')\n",
        "plt.legend(['train','val'])\n",
        "plt.title('Model_loss')\n",
        "plt.show()"
      ],
      "execution_count": null,
      "outputs": [
        {
          "output_type": "display_data",
          "data": {
            "image/png": "[encoded data removed]",
            "text/plain": [
              "<Figure size 432x288 with 1 Axes>"
            ]
          },
          "metadata": {
            "tags": [],
            "needs_background": "light"
          }
        },
        {
          "output_type": "display_data",
          "data": {
            "image/png": "[encoded data removed]",
            "text/plain": [
              "<Figure size 432x288 with 1 Axes>"
            ]
          },
          "metadata": {
            "tags": [],
            "needs_background": "light"
          }
        }
      ]
    },
    {
      "cell_type": "markdown",
      "metadata": {
        "id": "CEyXvWKn91tF",
        "colab_type": "text"
      },
      "source": [
        "## First three block of VGG16 Model"
      ]
    },
    {
      "cell_type": "code",
      "metadata": {
        "id": "3XP6xVOdCRRn",
        "colab_type": "code",
        "colab": {}
      },
      "source": [
        ""
      ],
      "execution_count": null,
      "outputs": []
    },
    {
      "cell_type": "code",
      "metadata": {
        "colab_type": "code",
        "id": "fR4jUjT2Cjd8",
        "colab": {}
      },
      "source": [
        " model = Sequential()\n",
        " model.add(Conv2D(filters=64,kernel_size=(3,3),padding='same',kernel_initializer='he_uniform',\n",
        "                  activation='relu',input_shape=( 32,32,3)))\n",
        " \n",
        " model.add(MaxPool2D(pool_size=(2,2)))\n",
        "\n",
        "model = Sequential()\n",
        "model.add(Conv2D(filters=128,kernel_size=(3,3),padding='same',kernel_initializer='he_uniform',activation='relu',))\n",
        "model.add(MaxPool2D(pool_size=(2,2)))\n",
        "\n",
        "model = Sequential()\n",
        "model.add(Conv2D(filters=256,kernel_size=(3,3),padding='same',kernel_initializer='he_uniform',activation='relu',))\n",
        "model.add(MaxPool2D(pool_size=(2,2)))\n",
        "\n",
        "\n",
        "\n",
        " model.add(Flatten())\n",
        " model.add(Dense(128,activation='relu',kernel_initializer='he_uniform'))\n",
        "\n",
        " model.add(Dense(1,activation='sigmoid',))\n"
      ],
      "execution_count": null,
      "outputs": []
    },
    {
      "cell_type": "code",
      "metadata": {
        "colab_type": "code",
        "id": "sEYWhqx5CjeF",
        "colab": {}
      },
      "source": [
        "opt = SGD(learning_rate=0.01,momentum=0.9)\n",
        "model.compile(optimizer=opt,loss='binary_crossentropy',metrics =['accuracy'])"
      ],
      "execution_count": null,
      "outputs": []
    },
    {
      "cell_type": "code",
      "metadata": {
        "id": "RYntJrtsCRXM",
        "colab_type": "code",
        "colab": {
          "base_uri": "https://localhost:8080/",
          "height": 187
        },
        "outputId": "6527af41-cf57-48fd-c326-35940d1f95b4"
      },
      "source": [
        "history = model.fit_generator(generator=train_genrator,steps_per_epoch=len(train_genrator),epochs=5,\n",
        "                              validation_data= validation_genrator,validation_steps = len(validation_genrator),verbose =1)"
      ],
      "execution_count": null,
      "outputs": [
        {
          "output_type": "stream",
          "text": [
            "Epoch 1/5\n",
            "1000/1000 [==============================] - 149s 149ms/step - loss: 0.7134 - accuracy: 0.4936 - val_loss: 0.6935 - val_accuracy: 0.5000\n",
            "Epoch 2/5\n",
            "1000/1000 [==============================] - 151s 151ms/step - loss: 0.6934 - accuracy: 0.5022 - val_loss: 0.6934 - val_accuracy: 0.5000\n",
            "Epoch 3/5\n",
            "1000/1000 [==============================] - 155s 155ms/step - loss: 0.6935 - accuracy: 0.4986 - val_loss: 0.6932 - val_accuracy: 0.5000\n",
            "Epoch 4/5\n",
            "1000/1000 [==============================] - 150s 150ms/step - loss: 0.6934 - accuracy: 0.5035 - val_loss: 0.6935 - val_accuracy: 0.5000\n",
            "Epoch 5/5\n",
            "1000/1000 [==============================] - 155s 155ms/step - loss: 0.6936 - accuracy: 0.4971 - val_loss: 0.6932 - val_accuracy: 0.5000\n"
          ],
          "name": "stdout"
        }
      ]
    },
    {
      "cell_type": "code",
      "metadata": {
        "id": "iAYRFs13CRdL",
        "colab_type": "code",
        "colab": {}
      },
      "source": [
        ""
      ],
      "execution_count": null,
      "outputs": []
    },
    {
      "cell_type": "markdown",
      "metadata": {
        "id": "7wtOKxAEHX6e",
        "colab_type": "text"
      },
      "source": [
        "#### Here we have increased the complexity of my model, thts way accuracy is become so poor. now we introduce the concept of Droupout and batch Normalization to incresed the acuuracy of my VGG16 model."
      ]
    },
    {
      "cell_type": "code",
      "metadata": {
        "id": "g4iwQXvTCRVS",
        "colab_type": "code",
        "colab": {}
      },
      "source": [
        "model = Sequential()\n",
        "model.add(Conv2D(filters=64,kernel_size=(3,3),padding='same',kernel_initializer='he_uniform',activation='relu',input_shape=( 32,32,3)))\n",
        "model.add(BatchNormalization())\n",
        "model.add(MaxPool2D(pool_size=(2,2)))\n",
        "model.add(Dropout(0.2))\n",
        "\n",
        "\n",
        "model = Sequential()\n",
        "model.add(Conv2D(filters=128,kernel_size=(3,3),padding='same',kernel_initializer='he_uniform',activation='relu',))\n",
        "model.add(BatchNormalization())\n",
        "model.add(MaxPool2D(pool_size=(2,2)))\n",
        "model.add(Dropout(0.3))\n",
        "\n",
        "model = Sequential()\n",
        "model.add(Conv2D(filters=256,kernel_size=(3,3),padding='same',kernel_initializer='he_uniform',activation='relu',))\n",
        "model.add(BatchNormalization())\n",
        "model.add(MaxPool2D(pool_size=(2,2)))\n",
        "model.add(Dropout(0.5))\n",
        "\n",
        "\n",
        "\n",
        "model.add(Flatten())\n",
        "model.add(Dense(128,activation='relu',kernel_initializer='he_uniform'))\n",
        "model.add(BatchNormalization())\n",
        "model.add(Dropout(0.5))\n",
        "\n",
        "model.add(Dense(1,activation='sigmoid',))"
      ],
      "execution_count": null,
      "outputs": []
    },
    {
      "cell_type": "code",
      "metadata": {
        "colab_type": "code",
        "id": "tB1eSVjgKHc1",
        "colab": {}
      },
      "source": [
        "opt = SGD(learning_rate=0.01,momentum=0.9)\n",
        "model.compile(optimizer=opt,loss='binary_crossentropy',metrics =['accuracy'])"
      ],
      "execution_count": null,
      "outputs": []
    },
    {
      "cell_type": "code",
      "metadata": {
        "colab_type": "code",
        "id": "-92Sr4P6KHdD",
        "colab": {
          "base_uri": "https://localhost:8080/",
          "height": 357
        },
        "outputId": "2d894ffc-4c77-4a1e-b5de-81852ef8f03e"
      },
      "source": [
        "history = model.fit_generator(generator=train_genrator,steps_per_epoch=len(train_genrator),epochs=10,\n",
        "                              validation_data= validation_genrator,validation_steps = len(validation_genrator),verbose =1)"
      ],
      "execution_count": null,
      "outputs": [
        {
          "output_type": "stream",
          "text": [
            "Epoch 1/10\n",
            "1000/1000 [==============================] - 204s 204ms/step - loss: 0.6701 - accuracy: 0.6327 - val_loss: 0.6211 - val_accuracy: 0.6420\n",
            "Epoch 2/10\n",
            "1000/1000 [==============================] - 203s 203ms/step - loss: 0.5898 - accuracy: 0.6933 - val_loss: 0.5494 - val_accuracy: 0.7306\n",
            "Epoch 3/10\n",
            "1000/1000 [==============================] - 203s 203ms/step - loss: 0.5507 - accuracy: 0.7239 - val_loss: 0.5893 - val_accuracy: 0.7014\n",
            "Epoch 4/10\n",
            "1000/1000 [==============================] - 205s 205ms/step - loss: 0.5315 - accuracy: 0.7357 - val_loss: 0.5427 - val_accuracy: 0.7342\n",
            "Epoch 5/10\n",
            "1000/1000 [==============================] - 199s 199ms/step - loss: 0.5149 - accuracy: 0.7513 - val_loss: 0.5901 - val_accuracy: 0.6990\n",
            "Epoch 6/10\n",
            "1000/1000 [==============================] - 200s 200ms/step - loss: 0.4983 - accuracy: 0.7605 - val_loss: 0.5274 - val_accuracy: 0.7494\n",
            "Epoch 7/10\n",
            "1000/1000 [==============================] - 202s 202ms/step - loss: 0.4842 - accuracy: 0.7689 - val_loss: 0.5468 - val_accuracy: 0.7340\n",
            "Epoch 8/10\n",
            "1000/1000 [==============================] - 199s 199ms/step - loss: 0.4723 - accuracy: 0.7763 - val_loss: 0.5017 - val_accuracy: 0.7672\n",
            "Epoch 9/10\n",
            "1000/1000 [==============================] - 193s 193ms/step - loss: 0.4628 - accuracy: 0.7819 - val_loss: 0.4914 - val_accuracy: 0.7680\n",
            "Epoch 10/10\n",
            "1000/1000 [==============================] - 194s 194ms/step - loss: 0.4532 - accuracy: 0.7887 - val_loss: 0.5482 - val_accuracy: 0.7334\n"
          ],
          "name": "stdout"
        }
      ]
    },
    {
      "cell_type": "code",
      "metadata": {
        "id": "RMwN-qyCCRMV",
        "colab_type": "code",
        "colab": {
          "base_uri": "https://localhost:8080/",
          "height": 573
        },
        "outputId": "a9e73426-5dd8-401e-a62a-e61cc1ba42d9"
      },
      "source": [
        "plt.plot(history.history['accuracy'])\n",
        "plt.plot(history.history['val_accuracy'])\n",
        "plt.xlabel('no.of epochs')\n",
        "plt.ylabel('accuracy')\n",
        "plt.legend(['train','val'])\n",
        "plt.title('Model_Accuracy')\n",
        "plt.show()\n",
        "\n",
        "plt.plot(history.history['loss'])\n",
        "plt.plot(history.history['val_loss'])\n",
        "plt.xlabel('no.of epochs')\n",
        "plt.ylabel('Loss')\n",
        "plt.legend(['train','val'])\n",
        "plt.title('Model_loss')\n",
        "plt.show()"
      ],
      "execution_count": null,
      "outputs": [
        {
          "output_type": "display_data",
          "data": {
            "image/png": "[encoded data removed]",
            "text/plain": [
              "<Figure size 432x288 with 1 Axes>"
            ]
          },
          "metadata": {
            "tags": [],
            "needs_background": "light"
          }
        },
        {
          "output_type": "display_data",
          "data": {
            "image/png": "[encoded data removed]",
            "text/plain": [
              "<Figure size 432x288 with 1 Axes>"
            ]
          },
          "metadata": {
            "tags": [],
            "needs_background": "light"
          }
        }
      ]
    },
    {
      "cell_type": "code",
      "metadata": {
        "id": "PdbRk90mTrRL",
        "colab_type": "code",
        "colab": {}
      },
      "source": [
        ""
      ],
      "execution_count": null,
      "outputs": []
    }
  ]
}