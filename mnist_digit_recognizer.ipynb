{
  "nbformat": 4,
  "nbformat_minor": 0,
  "metadata": {
    "colab": {
      "name": "mnist_digit_recognizer.ipynb",
      "provenance": [],
      "authorship_tag": "ABX9TyOCXwlxX3BcIYWN0hGU1NeI",
      "include_colab_link": true
    },
    "kernelspec": {
      "name": "python3",
      "display_name": "Python 3"
    }
  },
  "cells": [
    {
      "cell_type": "markdown",
      "metadata": {
        "id": "view-in-github",
        "colab_type": "text"
      },
      "source": [
        "<a href=\"https://colab.research.google.com/github/immy78/Deep_Learning/blob/master/mnist_digit_recognizer.ipynb\" target=\"_parent\"><img src=\"https://colab.research.google.com/assets/colab-badge.svg\" alt=\"Open In Colab\"/></a>"
      ]
    },
    {
      "cell_type": "code",
      "metadata": {
        "id": "Kp-5HXD8TFaS",
        "colab_type": "code",
        "colab": {}
      },
      "source": [
        "import numpy as np\n",
        "import pandas as pd\n",
        "import matplotlib.pyplot as plt"
      ],
      "execution_count": 1,
      "outputs": []
    },
    {
      "cell_type": "code",
      "metadata": {
        "id": "VIHfn1gnTjXI",
        "colab_type": "code",
        "colab": {}
      },
      "source": [
        "from tensorflow.keras import Sequential\n",
        "from tensorflow.keras.layers import Conv2D,MaxPool2D,Dense,Flatten,Dropout"
      ],
      "execution_count": 2,
      "outputs": []
    },
    {
      "cell_type": "code",
      "metadata": {
        "id": "6B5x0eK3UOy-",
        "colab_type": "code",
        "colab": {}
      },
      "source": [
        "from tensorflow.keras.datasets import mnist"
      ],
      "execution_count": 3,
      "outputs": []
    },
    {
      "cell_type": "code",
      "metadata": {
        "id": "AZYwC-cgUha6",
        "colab_type": "code",
        "colab": {
          "base_uri": "https://localhost:8080/",
          "height": 51
        },
        "outputId": "212fb6cf-3a20-494a-91d4-7659256055ac"
      },
      "source": [
        "(x_train,y_train),(x_test,y_test) = mnist.load_data()"
      ],
      "execution_count": 4,
      "outputs": [
        {
          "output_type": "stream",
          "text": [
            "Downloading data from https://storage.googleapis.com/tensorflow/tf-keras-datasets/mnist.npz\n",
            "11493376/11490434 [==============================] - 0s 0us/step\n"
          ],
          "name": "stdout"
        }
      ]
    },
    {
      "cell_type": "code",
      "metadata": {
        "id": "eNIWPVzvUxWp",
        "colab_type": "code",
        "colab": {
          "base_uri": "https://localhost:8080/",
          "height": 34
        },
        "outputId": "3b313daf-f643-4ba8-9070-8af8f0e83c25"
      },
      "source": [
        "x_train.shape , y_train.shape"
      ],
      "execution_count": 5,
      "outputs": [
        {
          "output_type": "execute_result",
          "data": {
            "text/plain": [
              "((60000, 28, 28), (60000,))"
            ]
          },
          "metadata": {
            "tags": []
          },
          "execution_count": 5
        }
      ]
    },
    {
      "cell_type": "code",
      "metadata": {
        "id": "JIYVlZgQU2oz",
        "colab_type": "code",
        "colab": {
          "base_uri": "https://localhost:8080/",
          "height": 34
        },
        "outputId": "bde14e05-829f-4d79-80dc-19eb89e32325"
      },
      "source": [
        "x_test.shape, y_test.shape"
      ],
      "execution_count": 6,
      "outputs": [
        {
          "output_type": "execute_result",
          "data": {
            "text/plain": [
              "((10000, 28, 28), (10000,))"
            ]
          },
          "metadata": {
            "tags": []
          },
          "execution_count": 6
        }
      ]
    },
    {
      "cell_type": "code",
      "metadata": {
        "id": "PpdORBn_U8Qh",
        "colab_type": "code",
        "colab": {
          "base_uri": "https://localhost:8080/",
          "height": 282
        },
        "outputId": "cd7661f9-c068-4a95-9570-2f2a8ea0f4f9"
      },
      "source": [
        "plt.imshow(x_train[1])"
      ],
      "execution_count": 7,
      "outputs": [
        {
          "output_type": "execute_result",
          "data": {
            "text/plain": [
              "<matplotlib.image.AxesImage at 0x7f8cdd4a1630>"
            ]
          },
          "metadata": {
            "tags": []
          },
          "execution_count": 7
        },
        {
          "output_type": "display_data",
          "data": {
            "image/png": "[encoded data removed]",
            "text/plain": [
              "<Figure size 432x288 with 1 Axes>"
            ]
          },
          "metadata": {
            "tags": [],
            "needs_background": "light"
          }
        }
      ]
    },
    {
      "cell_type": "code",
      "metadata": {
        "id": "trhDTGUCVH4_",
        "colab_type": "code",
        "colab": {
          "base_uri": "https://localhost:8080/",
          "height": 34
        },
        "outputId": "f6f34480-1990-4307-fb76-a22f156193d2"
      },
      "source": [
        "y_train[1]"
      ],
      "execution_count": 8,
      "outputs": [
        {
          "output_type": "execute_result",
          "data": {
            "text/plain": [
              "0"
            ]
          },
          "metadata": {
            "tags": []
          },
          "execution_count": 8
        }
      ]
    },
    {
      "cell_type": "code",
      "metadata": {
        "id": "vywn3CcKVR0B",
        "colab_type": "code",
        "colab": {}
      },
      "source": [
        "x_train = x_train/255\n",
        "x_test = x_test/255"
      ],
      "execution_count": 9,
      "outputs": []
    },
    {
      "cell_type": "code",
      "metadata": {
        "id": "f63IGU78Viig",
        "colab_type": "code",
        "colab": {
          "base_uri": "https://localhost:8080/",
          "height": 34
        },
        "outputId": "23676688-5974-4150-fcdb-e20ffd621b2b"
      },
      "source": [
        "x_train[0].shape"
      ],
      "execution_count": 10,
      "outputs": [
        {
          "output_type": "execute_result",
          "data": {
            "text/plain": [
              "(28, 28)"
            ]
          },
          "metadata": {
            "tags": []
          },
          "execution_count": 10
        }
      ]
    },
    {
      "cell_type": "code",
      "metadata": {
        "id": "VQXs_p6RU0UW",
        "colab_type": "code",
        "colab": {}
      },
      "source": [
        "# Reshaping x_train & x_test\n",
        "x_train = x_train.reshape(60000,28,28,1)\n",
        "x_test = x_test.reshape(10000,28,28,1)"
      ],
      "execution_count": 11,
      "outputs": []
    },
    {
      "cell_type": "code",
      "metadata": {
        "id": "prosm04lVd3-",
        "colab_type": "code",
        "colab": {}
      },
      "source": [
        "input_shape = x_train[0].shape"
      ],
      "execution_count": 17,
      "outputs": []
    },
    {
      "cell_type": "code",
      "metadata": {
        "id": "Vg_v3G7jViTY",
        "colab_type": "code",
        "colab": {}
      },
      "source": [
        "model = Sequential()\n",
        "model.add(Conv2D(filters=32,kernel_size=(3,3),activation='relu',input_shape =(28,28,1)))\n",
        "model.add(Conv2D(filters=64,kernel_size =(3,3),activation='relu'))\n",
        "model.add(MaxPool2D(pool_size=(2,2)))\n",
        "model.add(Dropout(0.25))\n",
        "\n",
        "model.add(Flatten())\n",
        "model.add(Dense(128,activation='relu',))\n",
        "model.add(Dropout(0.5))\n",
        "model.add(Dense(10,activation='softmax'))"
      ],
      "execution_count": 20,
      "outputs": []
    },
    {
      "cell_type": "code",
      "metadata": {
        "id": "NwIJ2x9gYP-q",
        "colab_type": "code",
        "colab": {
          "base_uri": "https://localhost:8080/",
          "height": 425
        },
        "outputId": "3f5f3d60-34d1-4fb8-ecc3-bef88ebf352d"
      },
      "source": [
        "model.summary()"
      ],
      "execution_count": 21,
      "outputs": [
        {
          "output_type": "stream",
          "text": [
            "Model: \"sequential_1\"\n",
            "_________________________________________________________________\n",
            "Layer (type)                 Output Shape              Param #   \n",
            "=================================================================\n",
            "conv2d_3 (Conv2D)            (None, 26, 26, 32)        320       \n",
            "_________________________________________________________________\n",
            "conv2d_4 (Conv2D)            (None, 24, 24, 64)        18496     \n",
            "_________________________________________________________________\n",
            "max_pooling2d (MaxPooling2D) (None, 12, 12, 64)        0         \n",
            "_________________________________________________________________\n",
            "dropout (Dropout)            (None, 12, 12, 64)        0         \n",
            "_________________________________________________________________\n",
            "flatten (Flatten)            (None, 9216)              0         \n",
            "_________________________________________________________________\n",
            "dense (Dense)                (None, 128)               1179776   \n",
            "_________________________________________________________________\n",
            "dropout_1 (Dropout)          (None, 128)               0         \n",
            "_________________________________________________________________\n",
            "dense_1 (Dense)              (None, 10)                1290      \n",
            "=================================================================\n",
            "Total params: 1,199,882\n",
            "Trainable params: 1,199,882\n",
            "Non-trainable params: 0\n",
            "_________________________________________________________________\n"
          ],
          "name": "stdout"
        }
      ]
    },
    {
      "cell_type": "code",
      "metadata": {
        "id": "BEMw8ts5aeZx",
        "colab_type": "code",
        "colab": {}
      },
      "source": [
        "model.compile(optimizer='adam',loss='sparse_categorical_crossentropy',metrics=['accuracy'])"
      ],
      "execution_count": 22,
      "outputs": []
    },
    {
      "cell_type": "code",
      "metadata": {
        "id": "gmFS5gmhbUzc",
        "colab_type": "code",
        "colab": {
          "base_uri": "https://localhost:8080/",
          "height": 357
        },
        "outputId": "22b3416d-aa78-408a-97ed-4ae17c108f7f"
      },
      "source": [
        "history = model.fit(x_train,y_train,batch_size=128,epochs=10,verbose=1,validation_data=(x_test,y_test))"
      ],
      "execution_count": 23,
      "outputs": [
        {
          "output_type": "stream",
          "text": [
            "Epoch 1/10\n",
            "469/469 [==============================] - 151s 322ms/step - loss: 0.2369 - accuracy: 0.9271 - val_loss: 0.0557 - val_accuracy: 0.9821\n",
            "Epoch 2/10\n",
            "469/469 [==============================] - 150s 320ms/step - loss: 0.0839 - accuracy: 0.9749 - val_loss: 0.0396 - val_accuracy: 0.9857\n",
            "Epoch 3/10\n",
            "469/469 [==============================] - 149s 318ms/step - loss: 0.0638 - accuracy: 0.9802 - val_loss: 0.0312 - val_accuracy: 0.9893\n",
            "Epoch 4/10\n",
            "469/469 [==============================] - 150s 319ms/step - loss: 0.0502 - accuracy: 0.9847 - val_loss: 0.0277 - val_accuracy: 0.9901\n",
            "Epoch 5/10\n",
            "469/469 [==============================] - 149s 318ms/step - loss: 0.0451 - accuracy: 0.9862 - val_loss: 0.0290 - val_accuracy: 0.9913\n",
            "Epoch 6/10\n",
            "469/469 [==============================] - 150s 320ms/step - loss: 0.0392 - accuracy: 0.9874 - val_loss: 0.0268 - val_accuracy: 0.9904\n",
            "Epoch 7/10\n",
            "469/469 [==============================] - 150s 320ms/step - loss: 0.0345 - accuracy: 0.9888 - val_loss: 0.0257 - val_accuracy: 0.9918\n",
            "Epoch 8/10\n",
            "469/469 [==============================] - 149s 318ms/step - loss: 0.0307 - accuracy: 0.9901 - val_loss: 0.0240 - val_accuracy: 0.9915\n",
            "Epoch 9/10\n",
            "469/469 [==============================] - 150s 321ms/step - loss: 0.0266 - accuracy: 0.9912 - val_loss: 0.0291 - val_accuracy: 0.9908\n",
            "Epoch 10/10\n",
            "469/469 [==============================] - 154s 327ms/step - loss: 0.0235 - accuracy: 0.9921 - val_loss: 0.0284 - val_accuracy: 0.9913\n"
          ],
          "name": "stdout"
        }
      ]
    },
    {
      "cell_type": "code",
      "metadata": {
        "id": "XBZGSoiQbrx9",
        "colab_type": "code",
        "colab": {
          "base_uri": "https://localhost:8080/",
          "height": 573
        },
        "outputId": "78bc1648-80b9-473d-e339-646186bd48c4"
      },
      "source": [
        " plt.plot(history.history['accuracy'])\n",
        " plt.plot(history.history['val_accuracy'])\n",
        " plt.xlabel('epochs')\n",
        " plt.ylabel('accuracy')\n",
        " plt.legend(['train','test'])\n",
        " plt.title('Accuracy_Curve')\n",
        " plt.show()\n",
        "\n",
        "\n",
        " plt.plot(history.history['loss'])\n",
        " plt.plot(history.history['val_loss'])\n",
        " plt.xlabel('epochs')\n",
        " plt.ylabel('loss')\n",
        " plt.legend(['train','test'])\n",
        " plt.title('Loss_curve')\n",
        " plt.show()"
      ],
      "execution_count": 25,
      "outputs": [
        {
          "output_type": "display_data",
          "data": {
            "image/png": "[encoded data removed]",
            "text/plain": [
              "<Figure size 432x288 with 1 Axes>"
            ]
          },
          "metadata": {
            "tags": [],
            "needs_background": "light"
          }
        },
        {
          "output_type": "display_data",
          "data": {
            "image/png": "[encoded data removed]",
            "text/plain": [
              "<Figure size 432x288 with 1 Axes>"
            ]
          },
          "metadata": {
            "tags": [],
            "needs_background": "light"
          }
        }
      ]
    }
  ]
}